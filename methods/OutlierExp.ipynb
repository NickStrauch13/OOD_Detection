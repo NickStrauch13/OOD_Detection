{
 "cells": [
  {
   "cell_type": "code",
   "execution_count": 1,
   "id": "1e15ba8f-e629-4f5b-947d-53a3e20c8f0d",
   "metadata": {},
   "outputs": [],
   "source": [
    "import argparse\n",
    "import os, sys\n",
    "import time\n",
    "import datetime\n",
    "import numpy as np\n",
    "from tqdm import tqdm_notebook as tqdm\n",
    "\n",
    "import torch\n",
    "import torch.nn as nn\n",
    "import torch.nn.functional as F\n",
    "import matplotlib.pyplot as plt\n",
    "from Resnet20model import Resnet20"
   ]
  },
  {
   "cell_type": "code",
   "execution_count": 2,
   "id": "88923943-0591-4fda-a8e2-ae891f54adcb",
   "metadata": {},
   "outputs": [
    {
     "name": "stdout",
     "output_type": "stream",
     "text": [
      "tensor([[-0.3969, -0.0654,  0.0389,  0.6609, -0.2705, -0.0791, -0.2138,  0.2067,\n",
      "          0.0348, -0.1804]], grad_fn=<AddmmBackward0>)\n",
      "Total Number of Parameters: 273067\n"
     ]
    }
   ],
   "source": [
    "#############################################\n",
    "# sanity check for the correctness of Resnet20 architecture\n",
    "dummy_input = torch.ones((1,3,32,32))\n",
    "dummy_instance = Resnet20()\n",
    "print(dummy_instance.forward(dummy_input))\n",
    "total_params = 1\n",
    "for p in dummy_instance.parameters():\n",
    "    temp = 1\n",
    "    for s in p.size():\n",
    "        temp *= s\n",
    "    total_params += temp\n",
    "    #print(p.size())\n",
    "print(f\"Total Number of Parameters: {total_params}\")\n",
    "#############################################"
   ]
  },
  {
   "cell_type": "code",
   "execution_count": 3,
   "id": "eb6432a0-ec77-4c97-a693-2dad50ed8865",
   "metadata": {},
   "outputs": [],
   "source": [
    "import torchvision\n",
    "import torchvision.transforms as transforms\n",
    "from torchvision.datasets import CIFAR10 as torchCIFAR10\n",
    "\n",
    "mean = (0.4914, 0.4822, 0.4465)\n",
    "std = (0.2023, 0.1994, 0.2010)\n",
    "rndimg_mean = (136.289, 129.273,122.668)\n",
    "rndimg_std  = (49.770, 49.016, 49.5022508)\n",
    "\n",
    "# specify preprocessing function\n",
    "transform_train = transforms.Compose([transforms.ToTensor(), transforms.Normalize(mean, std),\n",
    "                                     transforms.RandomCrop(size=32, padding=4),\n",
    "                                     transforms.RandomHorizontalFlip()])\n",
    "tensor_transform_train = transforms.Compose([transforms.Normalize(rndimg_mean, rndimg_std),\n",
    "                                     transforms.RandomCrop(size=32, padding=4),\n",
    "                                     transforms.RandomHorizontalFlip()])\n",
    "\n",
    "transform_val = transforms.Compose([transforms.ToTensor(), transforms.Normalize(mean, std)])\n",
    "\n",
    "transform_test = transforms.Compose([transforms.ToTensor(), transforms.Normalize(mean, std)])\n",
    "\n",
    "transform_visulaizer = transforms.Compose([transforms.ToTensor()])"
   ]
  },
  {
   "cell_type": "code",
   "execution_count": 4,
   "id": "cb0e9fe7-8519-4b2b-b122-75f513d08e9a",
   "metadata": {},
   "outputs": [],
   "source": [
    "# Custom dataset class for tensor datasets. (Allows transforms)\n",
    "\n",
    "class OODTensorDataset:\n",
    "    def __init__(self, tensor_data, transforms=None):\n",
    "        self.tensors = tensor_data\n",
    "        self.transforms = transforms\n",
    "    \n",
    "    def __getitem__(self, index):   \n",
    "        x = self.tensors[index]\n",
    "        if self.transforms:\n",
    "            x = self.transforms(x)\n",
    "        return x, -1                 # returing -1 for OOD labels to signify that they dont matter\n",
    "    \n",
    "    def __len__(self):\n",
    "        return self.tensors.size()[0]\n"
   ]
  },
  {
   "cell_type": "markdown",
   "id": "75423733-28ca-4410-a5b6-09fdd1691433",
   "metadata": {},
   "source": [
    "##### Set up Data loaders"
   ]
  },
  {
   "cell_type": "code",
   "execution_count": 5,
   "id": "01a0d056-55b3-45d0-aab9-70758135dd7b",
   "metadata": {},
   "outputs": [
    {
     "name": "stdout",
     "output_type": "stream",
     "text": [
      "Files already downloaded and verified\n",
      "Files already downloaded and verified\n",
      "Files already downloaded and verified\n"
     ]
    }
   ],
   "source": [
    "from tools.dataset import CIFAR10\n",
    "from torch.utils.data import DataLoader\n",
    "from torch.utils.data import Subset\n",
    "from torch.utils.data import ConcatDataset\n",
    "\n",
    "DATA_ROOT = \"./data\"\n",
    "OOD_TRAIN_BATCH_SIZE = 256\n",
    "ID_TRAIN_BATCH_SIZE = 128\n",
    "VAL_BATCH_SIZE = 100\n",
    "\n",
    "\n",
    "# construct dataset\n",
    "torch_train_set = torchCIFAR10(\n",
    "    root=DATA_ROOT,\n",
    "    train=True,\n",
    "    transform=transform_train,\n",
    "    download=True\n",
    ")\n",
    "all_testing = torchCIFAR10(\n",
    "    root=DATA_ROOT,\n",
    "    train=False,\n",
    "    transform=transform_test,\n",
    "    download=True\n",
    ")\n",
    "\n",
    "cifar5_train_labels = np.array(torch_train_set.targets)\n",
    "cifar5_test_labels = np.array(all_testing.targets)\n",
    "train_indices = []\n",
    "all_test_indices = []\n",
    "for i in [0,1,2,3,4]:\n",
    "    train_indices += np.where(cifar5_train_labels == i)[0].tolist()\n",
    "    all_test_indices += np.where(cifar5_test_labels == i)[0].tolist()\n",
    "cifar5_train_set = Subset(torch_train_set, train_indices)\n",
    "cifar5_test_set = Subset(all_testing, all_test_indices)\n",
    "\n",
    "# construct dataloader\n",
    "torch_train_loader = DataLoader(\n",
    "    torch_train_set,\n",
    "    batch_size = ID_TRAIN_BATCH_SIZE,\n",
    "    shuffle = True\n",
    ")\n",
    "torch_test_loader = DataLoader(\n",
    "    all_testing,\n",
    "    batch_size = VAL_BATCH_SIZE\n",
    ")\n",
    "torch_val_loader = DataLoader(\n",
    "    all_testing,\n",
    "    batch_size = VAL_BATCH_SIZE\n",
    ")\n",
    "cifar5_train_loader = DataLoader(\n",
    "    cifar5_train_set,\n",
    "    batch_size = ID_TRAIN_BATCH_SIZE,\n",
    "    shuffle = True\n",
    ")\n",
    "cifar5_test_loader = DataLoader(\n",
    "    cifar5_test_set,\n",
    "    batch_size = VAL_BATCH_SIZE\n",
    ")\n",
    "\n",
    "\n",
    "from torchvision.datasets import CIFAR100\n",
    "\n",
    "cifar100_set = CIFAR100(\n",
    "    root=DATA_ROOT,\n",
    "    train=False,\n",
    "    transform=transform_test,\n",
    "    download=True\n",
    ")\n",
    "\n",
    "cifar100_loader = DataLoader(\n",
    "    cifar100_set,\n",
    "    shuffle=True,\n",
    "    batch_size = OOD_TRAIN_BATCH_SIZE\n",
    ")\n",
    "\n",
    "cifar100_labels = np.array(cifar100_set.targets)\n",
    "train_1_indices = []\n",
    "train_1_indices += np.where(cifar100_labels == 1)[0].tolist()\n",
    "cifar1_set = Subset(cifar100_set, train_1_indices)\n",
    "\n",
    "cifar_1_loader = DataLoader(\n",
    "    cifar1_set,\n",
    "    batch_size = OOD_TRAIN_BATCH_SIZE,\n",
    "    shuffle = True,\n",
    ")\n",
    "\n",
    "train_5_indices = []\n",
    "for i in range(5):\n",
    "    train_5_indices += np.where(cifar100_labels == i)[0].tolist()\n",
    "cifar100_5_set = Subset(cifar100_set, train_5_indices)\n",
    "\n",
    "cifar100_5_loader = DataLoader(\n",
    "    cifar100_5_set,\n",
    "    batch_size = OOD_TRAIN_BATCH_SIZE,\n",
    "    shuffle = True\n",
    ")\n",
    "cifar100_5_loader_for_extra = DataLoader(\n",
    "    cifar100_5_set\n",
    ")\n",
    "\n",
    "train_20_indices = []\n",
    "for i in range(20):\n",
    "    train_20_indices += np.where(cifar100_labels == i)[0].tolist()\n",
    "cifar100_20_set = Subset(cifar100_set, train_20_indices)\n",
    "\n",
    "cifar100_20_loader = DataLoader(\n",
    "    cifar100_20_set,\n",
    "    batch_size = OOD_TRAIN_BATCH_SIZE,\n",
    "    shuffle = True\n",
    ")"
   ]
  },
  {
   "cell_type": "code",
   "execution_count": 6,
   "id": "9787c69d-f7f7-4da9-aad6-7eb89a5f7967",
   "metadata": {},
   "outputs": [],
   "source": [
    "# RANDOM_IMGS = \"./data/300K_random_images.npy\"\n",
    "\n",
    "# # construct dataset\n",
    "# random_images_data = torch.permute(torch.from_numpy(np.load(RANDOM_IMGS)), (0,3,1,2)).float()  \n",
    "# rand_img_set = OODTensorDataset(\n",
    "#     random_images_data,\n",
    "#     tensor_transform_train\n",
    "# )\n",
    "# # construct dataloader\n",
    "# train_loader_rand_ood = DataLoader(\n",
    "#     rand_img_set,\n",
    "#     batch_size = OOD_BATCH_SIZE,\n",
    "#     shuffle = True\n",
    "# )\n"
   ]
  },
  {
   "cell_type": "code",
   "execution_count": 7,
   "id": "49a43633-1832-4c02-80f4-0e694df011b0",
   "metadata": {},
   "outputs": [],
   "source": [
    "def energy_fun(cnn_output, T):\n",
    "  return -T* torch.logsumexp(cnn_output / T, dim=1)"
   ]
  },
  {
   "cell_type": "code",
   "execution_count": 8,
   "id": "281724ab-43a3-4553-9c2d-ea40de42795a",
   "metadata": {},
   "outputs": [],
   "source": [
    "def estimate_mean_and_std(npdata, N=1000):\n",
    "    pavg   = np.array([0.0, 0.0, 0.0])\n",
    "    stdavg = np.array([0.0, 0.0, 0.0])\n",
    "    for img in npdata[0:N]:\n",
    "        scale = 1/(img.shape[0]*img.shape[1])\n",
    "        pavg += np.sum(img*scale,(0,1))*(1/N)\n",
    "    print(pavg)\n",
    "        #pavg_sq += np.sum((img**2)*scale,(0,1))*(1/N)\n",
    "    #std = np.sqrt(pavg_sq-(pavg**2))\n",
    "    for img in npdata[0:N]:\n",
    "        # scale = 1/(img.shape[0]*img.shape[1])\n",
    "        # sqdiff = np.subtract(img, pavg)**2\n",
    "        # std = np.sqrt(np.sum(sqdiff,(0,1))*scale)\n",
    "        stdavg += np.std(img,(0,1)) *(1/N)\n",
    "    \n",
    "    print(stdavg)\n",
    "#estimate_mean_and_std(np.load(RANDOM_IMGS).astype(\"int32\"))"
   ]
  },
  {
   "cell_type": "code",
   "execution_count": 9,
   "id": "f8e3fdb6-6371-4c3d-83df-c1e36dd6e458",
   "metadata": {},
   "outputs": [
    {
     "name": "stdout",
     "output_type": "stream",
     "text": [
      "cuda:0\n"
     ]
    }
   ],
   "source": [
    "# specify the device for computation\n",
    "device = torch.device(\"cuda:0\" if torch.cuda.is_available() else \"cpu\")\n",
    "print(device)"
   ]
  },
  {
   "cell_type": "code",
   "execution_count": 10,
   "id": "3f879202-c465-4058-8da0-8447601cab8f",
   "metadata": {},
   "outputs": [],
   "source": [
    "net = Resnet20().to(device)\n",
    "#net.load_state_dict(torch.load(\"saved_model/resnet20.pth\")[\"state_dict\"])"
   ]
  },
  {
   "cell_type": "code",
   "execution_count": 11,
   "id": "3a5dd508-6120-46b7-8c88-bbd475382d52",
   "metadata": {},
   "outputs": [],
   "source": [
    "import torch.nn as nn\n",
    "import torch.optim as optim\n",
    "\n",
    "WARMUP_LR = .01\n",
    "MOMENTUM = 0.9\n",
    "REG = 5e-4\n",
    "optimizer = optim.SGD(net.parameters(), lr=WARMUP_LR, momentum=MOMENTUM, weight_decay=REG)\n",
    "\n",
    "EPOCHS = 150\n",
    "CHECKPOINT_FOLDER = \"./saved_model\"\n",
    "INITAL_LR = .1\n",
    "DECAY_EPOCHS = 60\n",
    "DECAY = .1"
   ]
  },
  {
   "cell_type": "code",
   "execution_count": 12,
   "id": "e167f0d2-42c2-4156-bb25-1b88295faedd",
   "metadata": {
    "tags": []
   },
   "outputs": [
    {
     "name": "stdout",
     "output_type": "stream",
     "text": [
      "Epoch: 0/150\n",
      "avg training loss: 2.6928358717321785\n",
      "Validation loss: 2.3016, Validation accuracy: 0.0000\n",
      "Epoch: 1/150\n",
      "avg training loss: 2.784970283508301\n",
      "Validation loss: 2.3224, Validation accuracy: 0.0000\n",
      "Epoch: 2/150\n",
      "avg training loss: 2.7122745513916016\n",
      "Validation loss: 2.6890, Validation accuracy: 0.0196\n",
      "Epoch: 3/150\n",
      "avg training loss: 2.6964664459228516\n",
      "Validation loss: 2.0146, Validation accuracy: 0.1892\n",
      "Epoch: 4/150\n",
      "avg training loss: 2.5327587127685547\n",
      "Validation loss: 1.8545, Validation accuracy: 0.2396\n",
      "Epoch: 5/150\n",
      "avg training loss: 2.471428155899048\n",
      "Validation loss: 1.1436, Validation accuracy: 0.6116\n",
      "Epoch: 6/150\n",
      "avg training loss: 2.3706724643707275\n",
      "Validation loss: 1.1090, Validation accuracy: 0.6168\n",
      "Epoch: 7/150\n",
      "avg training loss: 2.3360044956207275\n",
      "Validation loss: 1.0492, Validation accuracy: 0.6496\n",
      "Epoch: 8/150\n"
     ]
    },
    {
     "ename": "KeyboardInterrupt",
     "evalue": "",
     "output_type": "error",
     "traceback": [
      "\u001b[1;31m---------------------------------------------------------------------------\u001b[0m",
      "\u001b[1;31mKeyboardInterrupt\u001b[0m                         Traceback (most recent call last)",
      "Input \u001b[1;32mIn [12]\u001b[0m, in \u001b[0;36m<cell line: 83>\u001b[1;34m()\u001b[0m\n\u001b[0;32m     69\u001b[0m         \u001b[38;5;28mprint\u001b[39m(\u001b[38;5;124m\"\u001b[39m\u001b[38;5;124mValidation loss: \u001b[39m\u001b[38;5;132;01m%.4f\u001b[39;00m\u001b[38;5;124m, Validation accuracy: \u001b[39m\u001b[38;5;132;01m%.4f\u001b[39;00m\u001b[38;5;124m\"\u001b[39m \u001b[38;5;241m%\u001b[39m (avg_loss, avg_acc))\n\u001b[0;32m     71\u001b[0m         \u001b[38;5;66;03m#save the model checkpoint\u001b[39;00m\n\u001b[0;32m     72\u001b[0m         \u001b[38;5;66;03m# if avg_acc > best_val_acc:\u001b[39;00m\n\u001b[0;32m     73\u001b[0m         \u001b[38;5;66;03m#     best_val_acc = avg_acc\u001b[39;00m\n\u001b[1;32m   (...)\u001b[0m\n\u001b[0;32m     79\u001b[0m         \u001b[38;5;66;03m#             'lr': current_learning_rate}\u001b[39;00m\n\u001b[0;32m     80\u001b[0m         \u001b[38;5;66;03m#     torch.save(state, os.path.join(CHECKPOINT_FOLDER, 'cifar5_cifar20_OOD_resnet.pth'))\u001b[39;00m\n\u001b[1;32m---> 83\u001b[0m \u001b[43mtrain\u001b[49m\u001b[43m(\u001b[49m\u001b[43m)\u001b[49m\n",
      "Input \u001b[1;32mIn [12]\u001b[0m, in \u001b[0;36mtrain\u001b[1;34m()\u001b[0m\n\u001b[0;32m     16\u001b[0m net\u001b[38;5;241m.\u001b[39mtrain()\n\u001b[0;32m     18\u001b[0m \u001b[38;5;28mprint\u001b[39m(\u001b[38;5;124mf\u001b[39m\u001b[38;5;124m\"\u001b[39m\u001b[38;5;124mEpoch: \u001b[39m\u001b[38;5;132;01m{\u001b[39;00mi\u001b[38;5;132;01m}\u001b[39;00m\u001b[38;5;124m/\u001b[39m\u001b[38;5;132;01m{\u001b[39;00mEPOCHS\u001b[38;5;132;01m}\u001b[39;00m\u001b[38;5;124m\"\u001b[39m)\n\u001b[1;32m---> 19\u001b[0m \u001b[38;5;28;01mfor\u001b[39;00m in_set, out_set \u001b[38;5;129;01min\u001b[39;00m \u001b[38;5;28mzip\u001b[39m(cifar5_train_loader, cifar100_20_loader):\n\u001b[0;32m     20\u001b[0m     data \u001b[38;5;241m=\u001b[39m torch\u001b[38;5;241m.\u001b[39mcat((in_set[\u001b[38;5;241m0\u001b[39m], out_set[\u001b[38;5;241m0\u001b[39m]), \u001b[38;5;241m0\u001b[39m)\n\u001b[0;32m     21\u001b[0m     target \u001b[38;5;241m=\u001b[39m in_set[\u001b[38;5;241m1\u001b[39m]\u001b[38;5;241m.\u001b[39mtype(torch\u001b[38;5;241m.\u001b[39mLongTensor)\n",
      "File \u001b[1;32m~\\anaconda3\\lib\\site-packages\\torch\\utils\\data\\dataloader.py:681\u001b[0m, in \u001b[0;36m_BaseDataLoaderIter.__next__\u001b[1;34m(self)\u001b[0m\n\u001b[0;32m    678\u001b[0m \u001b[38;5;28;01mif\u001b[39;00m \u001b[38;5;28mself\u001b[39m\u001b[38;5;241m.\u001b[39m_sampler_iter \u001b[38;5;129;01mis\u001b[39;00m \u001b[38;5;28;01mNone\u001b[39;00m:\n\u001b[0;32m    679\u001b[0m     \u001b[38;5;66;03m# TODO(https://github.com/pytorch/pytorch/issues/76750)\u001b[39;00m\n\u001b[0;32m    680\u001b[0m     \u001b[38;5;28mself\u001b[39m\u001b[38;5;241m.\u001b[39m_reset()  \u001b[38;5;66;03m# type: ignore[call-arg]\u001b[39;00m\n\u001b[1;32m--> 681\u001b[0m data \u001b[38;5;241m=\u001b[39m \u001b[38;5;28;43mself\u001b[39;49m\u001b[38;5;241;43m.\u001b[39;49m\u001b[43m_next_data\u001b[49m\u001b[43m(\u001b[49m\u001b[43m)\u001b[49m\n\u001b[0;32m    682\u001b[0m \u001b[38;5;28mself\u001b[39m\u001b[38;5;241m.\u001b[39m_num_yielded \u001b[38;5;241m+\u001b[39m\u001b[38;5;241m=\u001b[39m \u001b[38;5;241m1\u001b[39m\n\u001b[0;32m    683\u001b[0m \u001b[38;5;28;01mif\u001b[39;00m \u001b[38;5;28mself\u001b[39m\u001b[38;5;241m.\u001b[39m_dataset_kind \u001b[38;5;241m==\u001b[39m _DatasetKind\u001b[38;5;241m.\u001b[39mIterable \u001b[38;5;129;01mand\u001b[39;00m \\\n\u001b[0;32m    684\u001b[0m         \u001b[38;5;28mself\u001b[39m\u001b[38;5;241m.\u001b[39m_IterableDataset_len_called \u001b[38;5;129;01mis\u001b[39;00m \u001b[38;5;129;01mnot\u001b[39;00m \u001b[38;5;28;01mNone\u001b[39;00m \u001b[38;5;129;01mand\u001b[39;00m \\\n\u001b[0;32m    685\u001b[0m         \u001b[38;5;28mself\u001b[39m\u001b[38;5;241m.\u001b[39m_num_yielded \u001b[38;5;241m>\u001b[39m \u001b[38;5;28mself\u001b[39m\u001b[38;5;241m.\u001b[39m_IterableDataset_len_called:\n",
      "File \u001b[1;32m~\\anaconda3\\lib\\site-packages\\torch\\utils\\data\\dataloader.py:721\u001b[0m, in \u001b[0;36m_SingleProcessDataLoaderIter._next_data\u001b[1;34m(self)\u001b[0m\n\u001b[0;32m    719\u001b[0m \u001b[38;5;28;01mdef\u001b[39;00m \u001b[38;5;21m_next_data\u001b[39m(\u001b[38;5;28mself\u001b[39m):\n\u001b[0;32m    720\u001b[0m     index \u001b[38;5;241m=\u001b[39m \u001b[38;5;28mself\u001b[39m\u001b[38;5;241m.\u001b[39m_next_index()  \u001b[38;5;66;03m# may raise StopIteration\u001b[39;00m\n\u001b[1;32m--> 721\u001b[0m     data \u001b[38;5;241m=\u001b[39m \u001b[38;5;28;43mself\u001b[39;49m\u001b[38;5;241;43m.\u001b[39;49m\u001b[43m_dataset_fetcher\u001b[49m\u001b[38;5;241;43m.\u001b[39;49m\u001b[43mfetch\u001b[49m\u001b[43m(\u001b[49m\u001b[43mindex\u001b[49m\u001b[43m)\u001b[49m  \u001b[38;5;66;03m# may raise StopIteration\u001b[39;00m\n\u001b[0;32m    722\u001b[0m     \u001b[38;5;28;01mif\u001b[39;00m \u001b[38;5;28mself\u001b[39m\u001b[38;5;241m.\u001b[39m_pin_memory:\n\u001b[0;32m    723\u001b[0m         data \u001b[38;5;241m=\u001b[39m _utils\u001b[38;5;241m.\u001b[39mpin_memory\u001b[38;5;241m.\u001b[39mpin_memory(data, \u001b[38;5;28mself\u001b[39m\u001b[38;5;241m.\u001b[39m_pin_memory_device)\n",
      "File \u001b[1;32m~\\anaconda3\\lib\\site-packages\\torch\\utils\\data\\_utils\\fetch.py:49\u001b[0m, in \u001b[0;36m_MapDatasetFetcher.fetch\u001b[1;34m(self, possibly_batched_index)\u001b[0m\n\u001b[0;32m     47\u001b[0m \u001b[38;5;28;01mdef\u001b[39;00m \u001b[38;5;21mfetch\u001b[39m(\u001b[38;5;28mself\u001b[39m, possibly_batched_index):\n\u001b[0;32m     48\u001b[0m     \u001b[38;5;28;01mif\u001b[39;00m \u001b[38;5;28mself\u001b[39m\u001b[38;5;241m.\u001b[39mauto_collation:\n\u001b[1;32m---> 49\u001b[0m         data \u001b[38;5;241m=\u001b[39m [\u001b[38;5;28mself\u001b[39m\u001b[38;5;241m.\u001b[39mdataset[idx] \u001b[38;5;28;01mfor\u001b[39;00m idx \u001b[38;5;129;01min\u001b[39;00m possibly_batched_index]\n\u001b[0;32m     50\u001b[0m     \u001b[38;5;28;01melse\u001b[39;00m:\n\u001b[0;32m     51\u001b[0m         data \u001b[38;5;241m=\u001b[39m \u001b[38;5;28mself\u001b[39m\u001b[38;5;241m.\u001b[39mdataset[possibly_batched_index]\n",
      "File \u001b[1;32m~\\anaconda3\\lib\\site-packages\\torch\\utils\\data\\_utils\\fetch.py:49\u001b[0m, in \u001b[0;36m<listcomp>\u001b[1;34m(.0)\u001b[0m\n\u001b[0;32m     47\u001b[0m \u001b[38;5;28;01mdef\u001b[39;00m \u001b[38;5;21mfetch\u001b[39m(\u001b[38;5;28mself\u001b[39m, possibly_batched_index):\n\u001b[0;32m     48\u001b[0m     \u001b[38;5;28;01mif\u001b[39;00m \u001b[38;5;28mself\u001b[39m\u001b[38;5;241m.\u001b[39mauto_collation:\n\u001b[1;32m---> 49\u001b[0m         data \u001b[38;5;241m=\u001b[39m [\u001b[38;5;28;43mself\u001b[39;49m\u001b[38;5;241;43m.\u001b[39;49m\u001b[43mdataset\u001b[49m\u001b[43m[\u001b[49m\u001b[43midx\u001b[49m\u001b[43m]\u001b[49m \u001b[38;5;28;01mfor\u001b[39;00m idx \u001b[38;5;129;01min\u001b[39;00m possibly_batched_index]\n\u001b[0;32m     50\u001b[0m     \u001b[38;5;28;01melse\u001b[39;00m:\n\u001b[0;32m     51\u001b[0m         data \u001b[38;5;241m=\u001b[39m \u001b[38;5;28mself\u001b[39m\u001b[38;5;241m.\u001b[39mdataset[possibly_batched_index]\n",
      "File \u001b[1;32m~\\anaconda3\\lib\\site-packages\\torch\\utils\\data\\dataset.py:290\u001b[0m, in \u001b[0;36mSubset.__getitem__\u001b[1;34m(self, idx)\u001b[0m\n\u001b[0;32m    288\u001b[0m \u001b[38;5;28;01mif\u001b[39;00m \u001b[38;5;28misinstance\u001b[39m(idx, \u001b[38;5;28mlist\u001b[39m):\n\u001b[0;32m    289\u001b[0m     \u001b[38;5;28;01mreturn\u001b[39;00m \u001b[38;5;28mself\u001b[39m\u001b[38;5;241m.\u001b[39mdataset[[\u001b[38;5;28mself\u001b[39m\u001b[38;5;241m.\u001b[39mindices[i] \u001b[38;5;28;01mfor\u001b[39;00m i \u001b[38;5;129;01min\u001b[39;00m idx]]\n\u001b[1;32m--> 290\u001b[0m \u001b[38;5;28;01mreturn\u001b[39;00m \u001b[38;5;28;43mself\u001b[39;49m\u001b[38;5;241;43m.\u001b[39;49m\u001b[43mdataset\u001b[49m\u001b[43m[\u001b[49m\u001b[38;5;28;43mself\u001b[39;49m\u001b[38;5;241;43m.\u001b[39;49m\u001b[43mindices\u001b[49m\u001b[43m[\u001b[49m\u001b[43midx\u001b[49m\u001b[43m]\u001b[49m\u001b[43m]\u001b[49m\n",
      "File \u001b[1;32m~\\anaconda3\\lib\\site-packages\\torchvision\\datasets\\cifar.py:118\u001b[0m, in \u001b[0;36mCIFAR10.__getitem__\u001b[1;34m(self, index)\u001b[0m\n\u001b[0;32m    115\u001b[0m img \u001b[38;5;241m=\u001b[39m Image\u001b[38;5;241m.\u001b[39mfromarray(img)\n\u001b[0;32m    117\u001b[0m \u001b[38;5;28;01mif\u001b[39;00m \u001b[38;5;28mself\u001b[39m\u001b[38;5;241m.\u001b[39mtransform \u001b[38;5;129;01mis\u001b[39;00m \u001b[38;5;129;01mnot\u001b[39;00m \u001b[38;5;28;01mNone\u001b[39;00m:\n\u001b[1;32m--> 118\u001b[0m     img \u001b[38;5;241m=\u001b[39m \u001b[38;5;28;43mself\u001b[39;49m\u001b[38;5;241;43m.\u001b[39;49m\u001b[43mtransform\u001b[49m\u001b[43m(\u001b[49m\u001b[43mimg\u001b[49m\u001b[43m)\u001b[49m\n\u001b[0;32m    120\u001b[0m \u001b[38;5;28;01mif\u001b[39;00m \u001b[38;5;28mself\u001b[39m\u001b[38;5;241m.\u001b[39mtarget_transform \u001b[38;5;129;01mis\u001b[39;00m \u001b[38;5;129;01mnot\u001b[39;00m \u001b[38;5;28;01mNone\u001b[39;00m:\n\u001b[0;32m    121\u001b[0m     target \u001b[38;5;241m=\u001b[39m \u001b[38;5;28mself\u001b[39m\u001b[38;5;241m.\u001b[39mtarget_transform(target)\n",
      "File \u001b[1;32m~\\anaconda3\\lib\\site-packages\\torchvision\\transforms\\transforms.py:94\u001b[0m, in \u001b[0;36mCompose.__call__\u001b[1;34m(self, img)\u001b[0m\n\u001b[0;32m     92\u001b[0m \u001b[38;5;28;01mdef\u001b[39;00m \u001b[38;5;21m__call__\u001b[39m(\u001b[38;5;28mself\u001b[39m, img):\n\u001b[0;32m     93\u001b[0m     \u001b[38;5;28;01mfor\u001b[39;00m t \u001b[38;5;129;01min\u001b[39;00m \u001b[38;5;28mself\u001b[39m\u001b[38;5;241m.\u001b[39mtransforms:\n\u001b[1;32m---> 94\u001b[0m         img \u001b[38;5;241m=\u001b[39m \u001b[43mt\u001b[49m\u001b[43m(\u001b[49m\u001b[43mimg\u001b[49m\u001b[43m)\u001b[49m\n\u001b[0;32m     95\u001b[0m     \u001b[38;5;28;01mreturn\u001b[39;00m img\n",
      "File \u001b[1;32m~\\anaconda3\\lib\\site-packages\\torchvision\\transforms\\transforms.py:134\u001b[0m, in \u001b[0;36mToTensor.__call__\u001b[1;34m(self, pic)\u001b[0m\n\u001b[0;32m    126\u001b[0m \u001b[38;5;28;01mdef\u001b[39;00m \u001b[38;5;21m__call__\u001b[39m(\u001b[38;5;28mself\u001b[39m, pic):\n\u001b[0;32m    127\u001b[0m     \u001b[38;5;124;03m\"\"\"\u001b[39;00m\n\u001b[0;32m    128\u001b[0m \u001b[38;5;124;03m    Args:\u001b[39;00m\n\u001b[0;32m    129\u001b[0m \u001b[38;5;124;03m        pic (PIL Image or numpy.ndarray): Image to be converted to tensor.\u001b[39;00m\n\u001b[1;32m   (...)\u001b[0m\n\u001b[0;32m    132\u001b[0m \u001b[38;5;124;03m        Tensor: Converted image.\u001b[39;00m\n\u001b[0;32m    133\u001b[0m \u001b[38;5;124;03m    \"\"\"\u001b[39;00m\n\u001b[1;32m--> 134\u001b[0m     \u001b[38;5;28;01mreturn\u001b[39;00m \u001b[43mF\u001b[49m\u001b[38;5;241;43m.\u001b[39;49m\u001b[43mto_tensor\u001b[49m\u001b[43m(\u001b[49m\u001b[43mpic\u001b[49m\u001b[43m)\u001b[49m\n",
      "File \u001b[1;32m~\\anaconda3\\lib\\site-packages\\torchvision\\transforms\\functional.py:172\u001b[0m, in \u001b[0;36mto_tensor\u001b[1;34m(pic)\u001b[0m\n\u001b[0;32m    170\u001b[0m img \u001b[38;5;241m=\u001b[39m img\u001b[38;5;241m.\u001b[39mpermute((\u001b[38;5;241m2\u001b[39m, \u001b[38;5;241m0\u001b[39m, \u001b[38;5;241m1\u001b[39m))\u001b[38;5;241m.\u001b[39mcontiguous()\n\u001b[0;32m    171\u001b[0m \u001b[38;5;28;01mif\u001b[39;00m \u001b[38;5;28misinstance\u001b[39m(img, torch\u001b[38;5;241m.\u001b[39mByteTensor):\n\u001b[1;32m--> 172\u001b[0m     \u001b[38;5;28;01mreturn\u001b[39;00m \u001b[43mimg\u001b[49m\u001b[38;5;241;43m.\u001b[39;49m\u001b[43mto\u001b[49m\u001b[43m(\u001b[49m\u001b[43mdtype\u001b[49m\u001b[38;5;241;43m=\u001b[39;49m\u001b[43mdefault_float_dtype\u001b[49m\u001b[43m)\u001b[49m\u001b[38;5;241;43m.\u001b[39;49m\u001b[43mdiv\u001b[49m\u001b[43m(\u001b[49m\u001b[38;5;241;43m255\u001b[39;49m\u001b[43m)\u001b[49m\n\u001b[0;32m    173\u001b[0m \u001b[38;5;28;01melse\u001b[39;00m:\n\u001b[0;32m    174\u001b[0m     \u001b[38;5;28;01mreturn\u001b[39;00m img\n",
      "\u001b[1;31mKeyboardInterrupt\u001b[0m: "
     ]
    }
   ],
   "source": [
    "def train():\n",
    "    avg_loss = 0\n",
    "    best_val_acc = 0\n",
    "    current_learning_rate = WARMUP_LR\n",
    "    #train_loader_ood.dataset.offset = np.random.randint(len(train_loader_ood.dataset))\n",
    "    #Learning rate scheduler\n",
    "    for i in range(EPOCHS):\n",
    "        if i == 5:\n",
    "            current_learning_rate = INITAL_LR\n",
    "        if i % DECAY_EPOCHS == 0 and i != 0:\n",
    "            current_learning_rate = current_learning_rate * DECAY\n",
    "            for param_group in optimizer.param_groups:\n",
    "                param_group['lr'] = current_learning_rate\n",
    "            #print(\"Current learning rate has decayed to %f\" %current_learning_rate)\n",
    "    \n",
    "        net.train()\n",
    "        \n",
    "        print(f\"Epoch: {i}/{EPOCHS}\")\n",
    "        for in_set, out_set in zip(cifar5_train_loader, cifar100_20_loader):\n",
    "            data = torch.cat((in_set[0], out_set[0]), 0)\n",
    "            target = in_set[1].type(torch.LongTensor)\n",
    "            data, target = data.to(device), target.to(device)\n",
    "            \n",
    "            # Forward Pass\n",
    "            x = net.forward(data)\n",
    "            \n",
    "            loss = F.cross_entropy(x[:len(in_set[0])], target)\n",
    "            # cross-entropy from softmax distribution to uniform distribution\n",
    "            loss += 0.5 * -(x[len(in_set[0]):].mean(1) - torch.logsumexp(x[len(in_set[0]):], dim=1)).mean()\n",
    "            \n",
    "            optimizer.zero_grad()\n",
    "            loss.backward()\n",
    "            optimizer.step()\n",
    "            \n",
    "            avg_loss = .8 * avg_loss + float(loss) * 0.2\n",
    "       \n",
    "        print(f\"avg training loss: {avg_loss}\")\n",
    "        \n",
    "        \n",
    "        net.eval()\n",
    "\n",
    "        total_examples = 0\n",
    "        correct_examples = 0\n",
    "\n",
    "        val_loss = 0\n",
    "\n",
    "        with torch.no_grad():\n",
    "            for batch_idx, (inputs, targets) in enumerate(cifar5_test_loader):\n",
    "                if batch_idx < (.5*len(cifar5_test_loader)):\n",
    "                    # copy inputs to device\n",
    "                    inputs = inputs.to(device)\n",
    "                    targets = targets.type(torch.LongTensor)\n",
    "                    targets = targets.to(device)\n",
    "\n",
    "                    # compute the output and loss\n",
    "                    output = net.forward(inputs)\n",
    "                    loss = F.cross_entropy(output, targets)\n",
    "                    val_loss += loss\n",
    "\n",
    "                    # count the number of correctly predicted samples in the current batch\n",
    "                    total_examples += targets.size()[0]\n",
    "                    batch_preds = torch.argmax(output, dim=1)\n",
    "                    correct_examples += (batch_preds == targets).int().sum().item()\n",
    "                else:\n",
    "                    break\n",
    "\n",
    "        avg_loss = val_loss / (.5*len(cifar5_test_loader))\n",
    "        avg_acc = correct_examples / total_examples\n",
    "        print(\"Validation loss: %.4f, Validation accuracy: %.4f\" % (avg_loss, avg_acc))\n",
    "        \n",
    "        #save the model checkpoint\n",
    "        # if avg_acc > best_val_acc:\n",
    "        #     best_val_acc = avg_acc\n",
    "        #     if not os.path.exists(CHECKPOINT_FOLDER):\n",
    "        #        os.makedirs(CHECKPOINT_FOLDER)\n",
    "        #     print(\"Saving ...\")\n",
    "        #     state = {'state_dict': net.state_dict(),\n",
    "        #             'epoch': i,\n",
    "        #             'lr': current_learning_rate}\n",
    "        #     torch.save(state, os.path.join(CHECKPOINT_FOLDER, 'cifar5_cifar20_OOD_resnet.pth'))\n",
    "\n",
    "    \n",
    "train()"
   ]
  },
  {
   "cell_type": "code",
   "execution_count": 12,
   "id": "a6a63aed-a28d-4198-8d84-c341b0734de6",
   "metadata": {},
   "outputs": [],
   "source": [
    "def softmax_ODIN(val, T =1000):\n",
    "    x = val.cpu().detach()\n",
    "    out = torch.zeros(x.size())\n",
    "\n",
    "    for i in range(len(out)):\n",
    "        sum = 0\n",
    "        for j in range(len(out[0])):\n",
    "            out[i][j] = np.exp(x[i][j]/T)\n",
    "            sum+= out[i][j]\n",
    "        out[i] = out[i]/sum\n",
    "    return out"
   ]
  },
  {
   "cell_type": "code",
   "execution_count": 14,
   "id": "85ad35a5-5a92-4a6e-ab20-46b199f2bf9b",
   "metadata": {},
   "outputs": [],
   "source": [
    "net = Resnet20().to(device)\n",
    "net.load_state_dict(torch.load(\"saved_model/OE_resnet20.pth\")[\"state_dict\"])\n",
    "net.eval()\n",
    "\n",
    "val_loss = 0 \n",
    "T = 1\n",
    "max_softs_in = []\n",
    "inD_energy = []\n",
    "ODIN_softs_in = []\n",
    "with torch.no_grad():\n",
    "    for batch_idx, (inputs, targets) in enumerate(cifar5_test_loader):   #batch_idx, (inputs, targets)\n",
    "        if batch_idx > .5*len(cifar5_test_loader):\n",
    "            # copy inputs to device\n",
    "            inputs = inputs.to(device)\n",
    "            targets = targets.type(torch.LongTensor)\n",
    "            targets = targets.to(device)\n",
    "            # compute the output and loss\n",
    "            output = net.forward(inputs)\n",
    "            softmax = F.softmax(output, dim=1)\n",
    "            energy_out = energy_fun(output, T)\n",
    "            loss = F.cross_entropy(output, targets)\n",
    "            val_loss += loss\n",
    "            # count the number of correctly predicted samples in the current batch\n",
    "            batch_preds = torch.argmax(output, dim=1)\n",
    "            soft_batch_preds = torch.argmax(softmax, dim=1)\n",
    "            odin_softs = softmax_ODIN(output).amax(1).cpu()\n",
    "            for i in range(len(softmax)):\n",
    "                max_softs_in.append(softmax[i][soft_batch_preds[i]].item())\n",
    "                inD_energy.append(energy_out[i].item())\n",
    "                ODIN_softs_in.append(odin_softs[i]) \n"
   ]
  },
  {
   "cell_type": "code",
   "execution_count": 15,
   "id": "9a03e52a-1630-40a8-b483-c655e1f3f3c5",
   "metadata": {},
   "outputs": [],
   "source": [
    "def plot_roc(ID_vals, OOD_vals, label ):\n",
    "    TPRs = []     #  true positive rates\n",
    "    FPRs = []     # false positive rates\n",
    "    AUROC = []    # will contain the AUROC approximation segments\n",
    "    opt = .95\n",
    "    opt2=.05\n",
    "    opt1_TPR = 0\n",
    "    opt1_FPR = 0\n",
    "    distTPR = 1000\n",
    "    opt2_TPR = 0\n",
    "    opt2_FPR = 0\n",
    "    distFPR = 1000\n",
    "    prev_FPR = 0\n",
    "    for i in np.linspace(min([min(ID_vals), min(OOD_vals)]), max([max(ID_vals), max(OOD_vals)]), 1000):\n",
    "        TPR = sum(OOD_vals < i)/len(OOD_vals)\n",
    "        FPR = sum(ID_vals < i)/len(ID_vals)\n",
    "        TPRs.append(TPR)\n",
    "        FPRs.append(FPR)\n",
    "        AUROC.append((FPR-prev_FPR)*TPR)\n",
    "        prev_FPR = FPR \n",
    "        if(np.abs(opt-TPR)<distTPR):\n",
    "            opt1_TPR, opt1_FPR, distTPR= TPR, FPR, (np.abs(opt-TPR))\n",
    "        if(np.abs(opt2-FPR)<distFPR):\n",
    "            opt2_TPR, opt2_FPR, distFPR= TPR, FPR, (np.abs(opt2-FPR))\n",
    "    plt.plot(FPRs, TPRs, label = label)\n",
    "    #plt.plot([0,1], [0,1], \"k--\", linewidth=.5)\n",
    "    #plt.xlabel(\"False Positive Rate\")\n",
    "    #plt.ylabel(\"True Positive Rate\")\n",
    "    #plt.title(title)\n",
    "\n",
    "    #plt.plot(opt1_FPR, opt1_TPR, 'X', ms=11, label=f\"95% TPR\")\n",
    "    #plt.plot(opt2_FPR, opt2_TPR, 'X', ms=11, label=f\"5% FPR\")\n",
    "    #plt.legend()\n",
    "    print(label)\n",
    "    print(f\"FPR at 95%TPR = {opt1_FPR}\")\n",
    "    print(f\"TNR at 95%TPR = {1-opt1_FPR}\")\n",
    "    print(f\"AUROC: {sum(AUROC)}\")\n",
    "    print()\n"
   ]
  },
  {
   "cell_type": "code",
   "execution_count": 16,
   "id": "43ba2292-4a80-4503-94c7-766e94062dfa",
   "metadata": {},
   "outputs": [],
   "source": [
    "def plot_dataset_rocs(ID_datasets, OOD_datasets, title, labels):\n",
    "    space = np.linspace(0,1,1000)\n",
    "    tpr95 = [.95]*1000\n",
    "    plt.plot(space, tpr95, \"k--\", linewidth=.5, label = \"TPR = 95%\")\n",
    "    plt.plot([0,1], [0,1], \"k--\", linewidth=.5)\n",
    "    plt.xlabel(\"False Positive Rate\")\n",
    "    plt.ylabel(\"True Positive Rate\")\n",
    "    plt.title(title)\n",
    "    for i in range(len(OOD_datasets)):\n",
    "        plot_roc(ID_datasets[i], OOD_datasets[i], labels[i])\n",
    "        plt.legend()\n",
    "    plt.show()\n"
   ]
  },
  {
   "cell_type": "code",
   "execution_count": 17,
   "id": "ad194a5f-4172-4bbd-9436-772232d11943",
   "metadata": {},
   "outputs": [
    {
     "name": "stdout",
     "output_type": "stream",
     "text": [
      "Using downloaded and verified file: ./data\\test_32x32.mat\n"
     ]
    }
   ],
   "source": [
    "from torchvision.datasets import SVHN\n",
    "from torchvision.datasets import MNIST\n",
    "\n",
    "###################################################################################\n",
    "#   SVHN\n",
    "SVHN_set = SVHN(\n",
    "    root=DATA_ROOT,\n",
    "    split=\"test\",\n",
    "    transform=transform_test,\n",
    "    download=True\n",
    ")\n",
    "SVHN_loader = DataLoader(\n",
    "    SVHN_set\n",
    ")\n",
    "\n",
    "###################################################################################\n",
    "#   other 5 CIFAR-10\n",
    "other5_train_indices = []\n",
    "other5_test_indices = []\n",
    "for i in [5,6,7,8,9]:\n",
    "    other5_train_indices += np.where(cifar5_train_labels == i)[0].tolist()\n",
    "    other5_test_indices += np.where(cifar5_test_labels == i)[0].tolist()\n",
    "other5_train_set = Subset(torch_train_set, other5_train_indices)\n",
    "other5_test_set = Subset(all_testing, other5_test_indices)\n",
    "\n",
    "other5_test_loader = DataLoader(\n",
    "    other5_test_set\n",
    ")\n",
    "\n",
    "###################################################################################\n",
    "#   MNIST\n",
    "transform_MNIST = transforms.Compose([\n",
    "    transforms.ToTensor(),\n",
    "    transforms.Lambda(lambda inputs1: inputs1.repeat(3, 1, 1) ),\n",
    "    transforms.RandomCrop(32, padding=2),\n",
    "    transforms.Normalize((0.4914), (0.2023)),\n",
    "    \n",
    "])\n",
    "MNIST_OOD_Data = MNIST(\n",
    "    root=DATA_ROOT,\n",
    "    train=False,\n",
    "    transform=transform_MNIST,\n",
    "    download = True\n",
    "\n",
    ")\n",
    "MNIST_OOD_loader = DataLoader(\n",
    "    MNIST_OOD_Data\n",
    ")"
   ]
  },
  {
   "cell_type": "code",
   "execution_count": 18,
   "id": "250eadf2-f4ab-4aa8-acda-e8877e7a50d4",
   "metadata": {},
   "outputs": [],
   "source": [
    "def generate_softs(testing_loader):\n",
    "    max_softs = []\n",
    "    with torch.no_grad():\n",
    "        for i, (img, target) in enumerate(testing_loader):\n",
    "            img = img.to(device)\n",
    "            target = target.type(torch.LongTensor)\n",
    "            target = target.to(device)\n",
    "\n",
    "            output = net.forward(img)\n",
    "            softmax = F.softmax(output, dim=1)\n",
    "            max_softs.append(softmax[0][torch.argmax(softmax)].item())\n",
    "            batch_pred = torch.argmax(output, dim=1)\n",
    "            if i % 2500 == 0:\n",
    "                print(f\"{i}/{len(testing_loader)}\")\n",
    "    return max_softs"
   ]
  },
  {
   "cell_type": "code",
   "execution_count": 19,
   "id": "af9b3130-9204-49f2-96d0-fc89e25c158d",
   "metadata": {},
   "outputs": [],
   "source": [
    "def generate_ODIN_softs(testing_loader):\n",
    "    max_softs = []\n",
    "    with torch.no_grad():\n",
    "        for i, (img, target) in enumerate(testing_loader):\n",
    "            img = img.to(device)\n",
    "            target = target.type(torch.LongTensor)\n",
    "            target = target.to(device)\n",
    "\n",
    "            output = net.forward(img)\n",
    "            max_softs.append(softmax_ODIN(output).amax(1).cpu().item())\n",
    "            batch_pred = torch.argmax(output, dim=1)\n",
    "            if i % 2500 == 0:\n",
    "                print(f\"{i}/{len(testing_loader)}\")\n",
    "    return max_softs\n",
    "    \n",
    "def generate_energies(testing_loader):\n",
    "    energies = []\n",
    "    with torch.no_grad():\n",
    "        for i, (img, target) in enumerate(testing_loader):\n",
    "            img = img.to(device)\n",
    "            target = target.type(torch.LongTensor)\n",
    "            target = target.to(device)\n",
    "\n",
    "            output = net.forward(img)\n",
    "            energy = energy_fun(output, T)\n",
    "            energies.append(energy.item())\n",
    "            if i % 2500 == 0:\n",
    "                print(f\"{i}/{len(testing_loader)}\")\n",
    "    return energies"
   ]
  },
  {
   "cell_type": "code",
   "execution_count": 24,
   "id": "9080eb2c-6172-4c1a-819a-b0ee2608693d",
   "metadata": {},
   "outputs": [],
   "source": [
    "from sklearn import preprocessing\n",
    "dataset_size = 1000\n",
    "UNIF_OOD_softmaxes = []\n",
    "for i in range(dataset_size):\n",
    "    x = np.random.uniform(0, 255, 3072).astype(np.float32)\n",
    "    norm = np.linalg.norm(x)\n",
    "    x = x/norm\n",
    "    unif = torch.tensor(np.reshape(x, (1,3, 32, 32)))\n",
    "    output = net.forward(unif.to(device))\n",
    "    softmax = F.softmax(output, dim=1)\n",
    "    UNIF_OOD_softmaxes.append(softmax[0][torch.argmax(softmax)].item())\n",
    "    \n",
    "def generate_odin_unif_softs():\n",
    "    UNIF_OOD_ODIN_softmaxes = []\n",
    "    for i in range(dataset_size):\n",
    "        x = np.random.uniform(0, 255, 3072).astype(np.float32)\n",
    "        norm = np.linalg.norm(x)\n",
    "        x = x/norm\n",
    "        unif = torch.tensor(np.reshape(x, (1,3, 32, 32)))\n",
    "        output = net.forward(unif.to(device))\n",
    "        UNIF_OOD_ODIN_softmaxes.append(softmax_ODIN(output).amax(1).cpu().item())\n",
    "    return UNIF_OOD_ODIN_softmaxes\n",
    "\n",
    "def generate_energy_unif():\n",
    "    UNIF_OOD_energies = []\n",
    "    for i in range(dataset_size):\n",
    "        x = np.random.uniform(0, 255, 3072).astype(np.float32)\n",
    "        norm = np.linalg.norm(x)\n",
    "        x = x/norm\n",
    "        unif = torch.tensor(np.reshape(x, (1,3, 32, 32)))\n",
    "        output = net.forward(unif.to(device))\n",
    "        UNIF_OOD_energies.append(energy_fun(output, T).item())\n",
    "    return UNIF_OOD_energies\n",
    "\n",
    "\n",
    "GAUSSIAN_OOD_softmaxes = []\n",
    "for i in range(1000):\n",
    "    x = np.random.normal(0, 255, 3072).astype(np.float32)\n",
    "    normalized = np.linalg.norm(x)\n",
    "    x = x/normalized\n",
    "    norm = torch.tensor(np.reshape(x, (1,3, 32, 32)))\n",
    "    output = net.forward(norm.to(device))\n",
    "    softmax = F.softmax(output, dim=1)\n",
    "    GAUSSIAN_OOD_softmaxes.append(softmax[0][torch.argmax(softmax)].item())\n",
    "    \n",
    "def generate_odin_gaus_softs():\n",
    "    GAUSSIAN_OOD_gaus_softmaxes = []\n",
    "    for i in range(1000):\n",
    "        x = np.random.normal(0, 255, 3072).astype(np.float32)\n",
    "        normalized = np.linalg.norm(x)\n",
    "        x = x/normalized\n",
    "        norm = torch.tensor(np.reshape(x, (1,3, 32, 32)))\n",
    "        output = net.forward(norm.to(device))\n",
    "        softmax = F.softmax(output, dim=1)\n",
    "        GAUSSIAN_OOD_gaus_softmaxes.append(softmax_ODIN(output).amax(1).cpu().item())\n",
    "    return GAUSSIAN_OOD_gaus_softmaxes\n",
    "\n",
    "def generate_energy_gaus():\n",
    "    GAUS_OOD_energies = []\n",
    "    for i in range(1000):\n",
    "        x = np.random.normal(0, 255, 3072).astype(np.float32)\n",
    "        normalized = np.linalg.norm(x)\n",
    "        x = x/normalized\n",
    "        norm = torch.tensor(np.reshape(x, (1,3, 32, 32)))\n",
    "        output = net.forward(norm.to(device))\n",
    "        softmax = F.softmax(output, dim=1)\n",
    "        GAUS_OOD_energies.append(energy_fun(output, T).item())\n",
    "    return GAUS_OOD_energies"
   ]
  },
  {
   "cell_type": "code",
   "execution_count": 21,
   "id": "5b10234d-cc6c-493c-868d-c2dcaa8cf12c",
   "metadata": {},
   "outputs": [
    {
     "name": "stdout",
     "output_type": "stream",
     "text": [
      "0/26032\n",
      "2500/26032\n",
      "5000/26032\n",
      "7500/26032\n",
      "10000/26032\n",
      "12500/26032\n",
      "15000/26032\n",
      "17500/26032\n",
      "20000/26032\n",
      "22500/26032\n",
      "25000/26032\n"
     ]
    }
   ],
   "source": [
    "svhn_softs = generate_softs(SVHN_loader)"
   ]
  },
  {
   "cell_type": "code",
   "execution_count": 104,
   "id": "4d24bdd8-2305-49ff-985d-6a76f7d340b1",
   "metadata": {},
   "outputs": [
    {
     "name": "stdout",
     "output_type": "stream",
     "text": [
      "0/5000\n",
      "2500/5000\n"
     ]
    }
   ],
   "source": [
    "other5_softs = generate_softs(other5_test_loader)"
   ]
  },
  {
   "cell_type": "code",
   "execution_count": 111,
   "id": "d858a9e1-c148-4cd9-8fea-b12314965633",
   "metadata": {},
   "outputs": [
    {
     "name": "stdout",
     "output_type": "stream",
     "text": [
      "0/500\n"
     ]
    }
   ],
   "source": [
    "cifar100_extra_5 = generate_softs(cifar100_5_loader_for_extra)"
   ]
  },
  {
   "cell_type": "code",
   "execution_count": 105,
   "id": "e2883882-707e-46f7-80a5-dcb25c4935f7",
   "metadata": {},
   "outputs": [
    {
     "name": "stdout",
     "output_type": "stream",
     "text": [
      "0/10000\n",
      "2500/10000\n",
      "5000/10000\n",
      "7500/10000\n"
     ]
    }
   ],
   "source": [
    "MNIST_softs = generate_softs(MNIST_OOD_loader)"
   ]
  },
  {
   "cell_type": "code",
   "execution_count": 115,
   "id": "18804f21-2113-4749-bcbe-7c02575f1994",
   "metadata": {},
   "outputs": [
    {
     "name": "stdout",
     "output_type": "stream",
     "text": [
      "SVHN\n",
      "FPR at 95%TPR = 0.32916666666666666\n",
      "TNR at 95%TPR = 0.6708333333333334\n",
      "AUROC: 0.9222851682544565\n",
      "\n",
      "Other5 CIFAR\n",
      "FPR at 95%TPR = 0.6891666666666667\n",
      "TNR at 95%TPR = 0.3108333333333333\n",
      "AUROC: 0.7719483333333332\n",
      "\n",
      "MNIST\n",
      "FPR at 95%TPR = 0.005\n",
      "TNR at 95%TPR = 0.995\n",
      "AUROC: 0.9968597916666667\n",
      "\n",
      "Uniform\n",
      "FPR at 95%TPR = 0.037083333333333336\n",
      "TNR at 95%TPR = 0.9629166666666666\n",
      "AUROC: 0.9647816666666666\n",
      "\n",
      "Gaussian\n",
      "FPR at 95%TPR = 0.030833333333333334\n",
      "TNR at 95%TPR = 0.9691666666666666\n",
      "AUROC: 0.97124375\n",
      "\n"
     ]
    },
    {
     "data": {
      "image/png": "[encoded data removed]",
      "text/plain": [
       "<Figure size 432x288 with 1 Axes>"
      ]
     },
     "metadata": {
      "needs_background": "light"
     },
     "output_type": "display_data"
    }
   ],
   "source": [
    "out_softs = [svhn_softs, cifar100_extra_5, MNIST_softs, UNIF_OOD_softmaxes, GAUSSIAN_OOD_softmaxes]\n",
    "in_softs = [max_softs_in, max_softs_in, max_softs_in, max_softs_in, max_softs_in, max_softs_in]\n",
    "plot_dataset_rocs(in_softs, out_softs, \"OE with Robust OOD Dataset on ResNet-20\", [\"SVHN\", \"Other5 CIFAR\", \"MNIST\", \"Uniform\", \"Gaussian\"])"
   ]
  },
  {
   "cell_type": "code",
   "execution_count": 22,
   "id": "9a45e0d6-6b9c-4f26-aafd-bf55f7f350dd",
   "metadata": {},
   "outputs": [
    {
     "name": "stdout",
     "output_type": "stream",
     "text": [
      "0/26032\n",
      "2500/26032\n",
      "5000/26032\n",
      "7500/26032\n",
      "10000/26032\n",
      "12500/26032\n",
      "15000/26032\n",
      "17500/26032\n",
      "20000/26032\n",
      "22500/26032\n",
      "25000/26032\n",
      "0/500\n",
      "0/10000\n",
      "2500/10000\n",
      "5000/10000\n",
      "7500/10000\n"
     ]
    }
   ],
   "source": [
    "odin_SVHN = generate_ODIN_softs(SVHN_loader)\n",
    "odin_other5 = generate_ODIN_softs(cifar100_5_loader_for_extra)\n",
    "odin_MNIST = generate_ODIN_softs(MNIST_OOD_loader)\n",
    "odin_unif = generate_odin_unif_softs()\n",
    "odin_gaus = generate_odin_gaus_softs()"
   ]
  },
  {
   "cell_type": "code",
   "execution_count": 23,
   "id": "6f35326e-4ea0-42b1-a1a8-a4445e978a32",
   "metadata": {},
   "outputs": [
    {
     "name": "stdout",
     "output_type": "stream",
     "text": [
      "SVHN\n",
      "FPR at 95%TPR = 0.2841666666666667\n",
      "TNR at 95%TPR = 0.7158333333333333\n",
      "AUROC: 0.931805838327188\n",
      "\n",
      "Other5 CIFAR\n",
      "FPR at 95%TPR = 0.6779166666666666\n",
      "TNR at 95%TPR = 0.3220833333333334\n",
      "AUROC: 0.7826241666666667\n",
      "\n",
      "MNIST\n",
      "FPR at 95%TPR = 0.004583333333333333\n",
      "TNR at 95%TPR = 0.9954166666666666\n",
      "AUROC: 0.9970542083333334\n",
      "\n",
      "Uniform\n",
      "FPR at 95%TPR = 0.03208333333333333\n",
      "TNR at 95%TPR = 0.9679166666666666\n",
      "AUROC: 0.9694362500000001\n",
      "\n",
      "Gaussian\n",
      "FPR at 95%TPR = 0.025416666666666667\n",
      "TNR at 95%TPR = 0.9745833333333334\n",
      "AUROC: 0.9768687500000001\n",
      "\n"
     ]
    },
    {
     "data": {
      "image/png": "[encoded data removed]",
      "text/plain": [
       "<Figure size 432x288 with 1 Axes>"
      ]
     },
     "metadata": {
      "needs_background": "light"
     },
     "output_type": "display_data"
    }
   ],
   "source": [
    "out_softs = [odin_SVHN, odin_other5, odin_MNIST, odin_unif, odin_gaus]\n",
    "in_softs = [ODIN_softs_in, ODIN_softs_in, ODIN_softs_in, ODIN_softs_in, ODIN_softs_in]\n",
    "plot_dataset_rocs(in_softs, out_softs, \"OE with Robust OOD Dataset on ResNet-20 with ODIN\", [\"SVHN\", \"Other5 CIFAR\", \"MNIST\", \"Uniform\", \"Gaussian\"])"
   ]
  },
  {
   "cell_type": "code",
   "execution_count": 26,
   "id": "d6c22517-f82a-4c1a-872d-678e9661e82b",
   "metadata": {},
   "outputs": [
    {
     "name": "stdout",
     "output_type": "stream",
     "text": [
      "0/26032\n",
      "2500/26032\n",
      "5000/26032\n",
      "7500/26032\n",
      "10000/26032\n",
      "12500/26032\n",
      "15000/26032\n",
      "17500/26032\n",
      "20000/26032\n",
      "22500/26032\n",
      "25000/26032\n",
      "0/500\n",
      "0/10000\n",
      "2500/10000\n",
      "5000/10000\n",
      "7500/10000\n"
     ]
    }
   ],
   "source": [
    "energy_SVHN = generate_energies(SVHN_loader)\n",
    "energy_other5 = generate_energies(cifar100_5_loader_for_extra)\n",
    "energy_MNIST = generate_energies(MNIST_OOD_loader)\n",
    "energy_unif = generate_energy_unif()\n",
    "energy_gaus = generate_energy_gaus()"
   ]
  },
  {
   "cell_type": "code",
   "execution_count": 27,
   "id": "fee6bbdd-0e4b-4945-b784-49e89bca09dd",
   "metadata": {},
   "outputs": [
    {
     "name": "stdout",
     "output_type": "stream",
     "text": [
      "SVHN\n",
      "FPR at 95%TPR = 1.0\n",
      "TNR at 95%TPR = 0.0\n",
      "AUROC: 0.0\n",
      "\n",
      "Other5 CIFAR\n",
      "FPR at 95%TPR = 1.0\n",
      "TNR at 95%TPR = 0.0\n",
      "AUROC: 0.0\n",
      "\n",
      "MNIST\n",
      "FPR at 95%TPR = 1.0\n",
      "TNR at 95%TPR = 0.0\n",
      "AUROC: 0.0\n",
      "\n",
      "Uniform\n",
      "FPR at 95%TPR = 1.0\n",
      "TNR at 95%TPR = 0.0\n",
      "AUROC: 0.0\n",
      "\n",
      "Gaussian\n",
      "FPR at 95%TPR = 1.0\n",
      "TNR at 95%TPR = 0.0\n",
      "AUROC: 0.0\n",
      "\n"
     ]
    },
    {
     "data": {
      "image/png": "[encoded data removed]",
      "text/plain": [
       "<Figure size 432x288 with 1 Axes>"
      ]
     },
     "metadata": {
      "needs_background": "light"
     },
     "output_type": "display_data"
    }
   ],
   "source": [
    "out_softs = [energy_SVHN, energy_other5, energy_MNIST, energy_unif, energy_gaus]\n",
    "in_softs = [ODIN_softs_in, ODIN_softs_in, ODIN_softs_in, ODIN_softs_in, ODIN_softs_in]\n",
    "plot_dataset_rocs(out_softs, in_softs, \"OE with Robust OOD Dataset on ResNet-20 with Energy\", [\"SVHN\", \"Other5 CIFAR\", \"MNIST\", \"Uniform\", \"Gaussian\"])"
   ]
  },
  {
   "cell_type": "code",
   "execution_count": 22,
   "id": "22944f01-2ca7-43c8-b0a4-36a5a50bd7e5",
   "metadata": {},
   "outputs": [
    {
     "name": "stdout",
     "output_type": "stream",
     "text": [
      "0/10000\n",
      "2500/10000\n",
      "5000/10000\n",
      "7500/10000\n",
      "0/10000\n",
      "2500/10000\n",
      "5000/10000\n",
      "7500/10000\n",
      "0/10000\n",
      "2500/10000\n",
      "5000/10000\n",
      "7500/10000\n"
     ]
    }
   ],
   "source": [
    "base_baseline_OOD = generate_softs(MNIST_OOD_loader)\n",
    "base_ODIN_OOD = generate_ODIN_softs(MNIST_OOD_loader)\n",
    "base_Energy_OOD = generate_energies(MNIST_OOD_loader)"
   ]
  },
  {
   "cell_type": "code",
   "execution_count": 23,
   "id": "7f829fef-057d-4127-a8b7-e8424f37606d",
   "metadata": {},
   "outputs": [
    {
     "name": "stdout",
     "output_type": "stream",
     "text": [
      "Baseline\n",
      "FPR at 95%TPR = 0.4625\n",
      "TNR at 95%TPR = 0.5375\n",
      "AUROC: 0.853039125\n",
      "\n",
      "ODIN\n",
      "FPR at 95%TPR = 0.43833333333333335\n",
      "TNR at 95%TPR = 0.5616666666666666\n",
      "AUROC: 0.9025739999999999\n",
      "\n",
      "Energy\n",
      "FPR at 95%TPR = 0.4012\n",
      "TNR at 95%TPR = 0.5988\n",
      "AUROC: 0.9043008749999998\n",
      "\n"
     ]
    },
    {
     "data": {
      "image/png": "[encoded data removed]",
      "text/plain": [
       "<Figure size 432x288 with 1 Axes>"
      ]
     },
     "metadata": {
      "needs_background": "light"
     },
     "output_type": "display_data"
    }
   ],
   "source": [
    "out_softs = [base_baseline_OOD, base_ODIN_OOD, inD_energy]\n",
    "in_softs = [max_softs_in, ODIN_softs_in, base_Energy_OOD]\n",
    "plot_dataset_rocs(in_softs, out_softs, \"OOD Detection on MNIST Dataset\", [\"Baseline\", \"ODIN\", \"Energy\"])"
   ]
  },
  {
   "cell_type": "code",
   "execution_count": null,
   "id": "3667c8d6-f978-4e3f-b03c-f8598aa41e85",
   "metadata": {},
   "outputs": [],
   "source": []
  }
 ],
 "metadata": {
  "kernelspec": {
   "display_name": "Python 3 (ipykernel)",
   "language": "python",
   "name": "python3"
  },
  "language_info": {
   "codemirror_mode": {
    "name": "ipython",
    "version": 3
   },
   "file_extension": ".py",
   "mimetype": "text/x-python",
   "name": "python",
   "nbconvert_exporter": "python",
   "pygments_lexer": "ipython3",
   "version": "3.9.12"
  }
 },
 "nbformat": 4,
 "nbformat_minor": 5
}
