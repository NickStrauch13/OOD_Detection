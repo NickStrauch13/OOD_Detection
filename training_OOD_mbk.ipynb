{
  "nbformat": 4,
  "nbformat_minor": 0,
  "metadata": {
    "colab": {
      "provenance": []
    },
    "kernelspec": {
      "name": "python3",
      "display_name": "Python 3"
    },
    "language_info": {
      "name": "python"
    },
    "accelerator": "GPU",
    "gpuClass": "standard",
    "widgets": {
      "application/vnd.jupyter.widget-state+json": {
        "5d76f9338c8040e0880085b472f4f9cf": {
          "model_module": "@jupyter-widgets/controls",
          "model_name": "HBoxModel",
          "model_module_version": "1.5.0",
          "state": {
            "_dom_classes": [],
            "_model_module": "@jupyter-widgets/controls",
            "_model_module_version": "1.5.0",
            "_model_name": "HBoxModel",
            "_view_count": null,
            "_view_module": "@jupyter-widgets/controls",
            "_view_module_version": "1.5.0",
            "_view_name": "HBoxView",
            "box_style": "",
            "children": [
              "IPY_MODEL_7f63873c043549768ac723c58eb4f8de",
              "IPY_MODEL_0cf2dfd7405e42beb2b6613baa0271ea",
              "IPY_MODEL_13c09ad877694ab68808bc7ba60feb7a"
            ],
            "layout": "IPY_MODEL_2c295883a8eb497d8d13e4bd9df796d4"
          }
        },
        "7f63873c043549768ac723c58eb4f8de": {
          "model_module": "@jupyter-widgets/controls",
          "model_name": "HTMLModel",
          "model_module_version": "1.5.0",
          "state": {
            "_dom_classes": [],
            "_model_module": "@jupyter-widgets/controls",
            "_model_module_version": "1.5.0",
            "_model_name": "HTMLModel",
            "_view_count": null,
            "_view_module": "@jupyter-widgets/controls",
            "_view_module_version": "1.5.0",
            "_view_name": "HTMLView",
            "description": "",
            "description_tooltip": null,
            "layout": "IPY_MODEL_68d13f81f1e447c1802e96fdd357c334",
            "placeholder": "​",
            "style": "IPY_MODEL_2f90d76a3e05423a833e73281b0ba315",
            "value": "  0%"
          }
        },
        "0cf2dfd7405e42beb2b6613baa0271ea": {
          "model_module": "@jupyter-widgets/controls",
          "model_name": "FloatProgressModel",
          "model_module_version": "1.5.0",
          "state": {
            "_dom_classes": [],
            "_model_module": "@jupyter-widgets/controls",
            "_model_module_version": "1.5.0",
            "_model_name": "FloatProgressModel",
            "_view_count": null,
            "_view_module": "@jupyter-widgets/controls",
            "_view_module_version": "1.5.0",
            "_view_name": "ProgressView",
            "bar_style": "danger",
            "description": "",
            "description_tooltip": null,
            "layout": "IPY_MODEL_6647df73eb9844b4943072ea0af273ac",
            "max": 150,
            "min": 0,
            "orientation": "horizontal",
            "style": "IPY_MODEL_515f72a2f0c54ef7bbba399b8a7fcee7",
            "value": 0
          }
        },
        "13c09ad877694ab68808bc7ba60feb7a": {
          "model_module": "@jupyter-widgets/controls",
          "model_name": "HTMLModel",
          "model_module_version": "1.5.0",
          "state": {
            "_dom_classes": [],
            "_model_module": "@jupyter-widgets/controls",
            "_model_module_version": "1.5.0",
            "_model_name": "HTMLModel",
            "_view_count": null,
            "_view_module": "@jupyter-widgets/controls",
            "_view_module_version": "1.5.0",
            "_view_name": "HTMLView",
            "description": "",
            "description_tooltip": null,
            "layout": "IPY_MODEL_cd681e6bba014b68963df89a4f48a14e",
            "placeholder": "​",
            "style": "IPY_MODEL_3018d3717d084e51af2f7066786ad552",
            "value": " 0/150 [00:00&lt;?, ?it/s]"
          }
        },
        "2c295883a8eb497d8d13e4bd9df796d4": {
          "model_module": "@jupyter-widgets/base",
          "model_name": "LayoutModel",
          "model_module_version": "1.2.0",
          "state": {
            "_model_module": "@jupyter-widgets/base",
            "_model_module_version": "1.2.0",
            "_model_name": "LayoutModel",
            "_view_count": null,
            "_view_module": "@jupyter-widgets/base",
            "_view_module_version": "1.2.0",
            "_view_name": "LayoutView",
            "align_content": null,
            "align_items": null,
            "align_self": null,
            "border": null,
            "bottom": null,
            "display": null,
            "flex": null,
            "flex_flow": null,
            "grid_area": null,
            "grid_auto_columns": null,
            "grid_auto_flow": null,
            "grid_auto_rows": null,
            "grid_column": null,
            "grid_gap": null,
            "grid_row": null,
            "grid_template_areas": null,
            "grid_template_columns": null,
            "grid_template_rows": null,
            "height": null,
            "justify_content": null,
            "justify_items": null,
            "left": null,
            "margin": null,
            "max_height": null,
            "max_width": null,
            "min_height": null,
            "min_width": null,
            "object_fit": null,
            "object_position": null,
            "order": null,
            "overflow": null,
            "overflow_x": null,
            "overflow_y": null,
            "padding": null,
            "right": null,
            "top": null,
            "visibility": null,
            "width": null
          }
        },
        "68d13f81f1e447c1802e96fdd357c334": {
          "model_module": "@jupyter-widgets/base",
          "model_name": "LayoutModel",
          "model_module_version": "1.2.0",
          "state": {
            "_model_module": "@jupyter-widgets/base",
            "_model_module_version": "1.2.0",
            "_model_name": "LayoutModel",
            "_view_count": null,
            "_view_module": "@jupyter-widgets/base",
            "_view_module_version": "1.2.0",
            "_view_name": "LayoutView",
            "align_content": null,
            "align_items": null,
            "align_self": null,
            "border": null,
            "bottom": null,
            "display": null,
            "flex": null,
            "flex_flow": null,
            "grid_area": null,
            "grid_auto_columns": null,
            "grid_auto_flow": null,
            "grid_auto_rows": null,
            "grid_column": null,
            "grid_gap": null,
            "grid_row": null,
            "grid_template_areas": null,
            "grid_template_columns": null,
            "grid_template_rows": null,
            "height": null,
            "justify_content": null,
            "justify_items": null,
            "left": null,
            "margin": null,
            "max_height": null,
            "max_width": null,
            "min_height": null,
            "min_width": null,
            "object_fit": null,
            "object_position": null,
            "order": null,
            "overflow": null,
            "overflow_x": null,
            "overflow_y": null,
            "padding": null,
            "right": null,
            "top": null,
            "visibility": null,
            "width": null
          }
        },
        "2f90d76a3e05423a833e73281b0ba315": {
          "model_module": "@jupyter-widgets/controls",
          "model_name": "DescriptionStyleModel",
          "model_module_version": "1.5.0",
          "state": {
            "_model_module": "@jupyter-widgets/controls",
            "_model_module_version": "1.5.0",
            "_model_name": "DescriptionStyleModel",
            "_view_count": null,
            "_view_module": "@jupyter-widgets/base",
            "_view_module_version": "1.2.0",
            "_view_name": "StyleView",
            "description_width": ""
          }
        },
        "6647df73eb9844b4943072ea0af273ac": {
          "model_module": "@jupyter-widgets/base",
          "model_name": "LayoutModel",
          "model_module_version": "1.2.0",
          "state": {
            "_model_module": "@jupyter-widgets/base",
            "_model_module_version": "1.2.0",
            "_model_name": "LayoutModel",
            "_view_count": null,
            "_view_module": "@jupyter-widgets/base",
            "_view_module_version": "1.2.0",
            "_view_name": "LayoutView",
            "align_content": null,
            "align_items": null,
            "align_self": null,
            "border": null,
            "bottom": null,
            "display": null,
            "flex": null,
            "flex_flow": null,
            "grid_area": null,
            "grid_auto_columns": null,
            "grid_auto_flow": null,
            "grid_auto_rows": null,
            "grid_column": null,
            "grid_gap": null,
            "grid_row": null,
            "grid_template_areas": null,
            "grid_template_columns": null,
            "grid_template_rows": null,
            "height": null,
            "justify_content": null,
            "justify_items": null,
            "left": null,
            "margin": null,
            "max_height": null,
            "max_width": null,
            "min_height": null,
            "min_width": null,
            "object_fit": null,
            "object_position": null,
            "order": null,
            "overflow": null,
            "overflow_x": null,
            "overflow_y": null,
            "padding": null,
            "right": null,
            "top": null,
            "visibility": null,
            "width": null
          }
        },
        "515f72a2f0c54ef7bbba399b8a7fcee7": {
          "model_module": "@jupyter-widgets/controls",
          "model_name": "ProgressStyleModel",
          "model_module_version": "1.5.0",
          "state": {
            "_model_module": "@jupyter-widgets/controls",
            "_model_module_version": "1.5.0",
            "_model_name": "ProgressStyleModel",
            "_view_count": null,
            "_view_module": "@jupyter-widgets/base",
            "_view_module_version": "1.2.0",
            "_view_name": "StyleView",
            "bar_color": null,
            "description_width": ""
          }
        },
        "cd681e6bba014b68963df89a4f48a14e": {
          "model_module": "@jupyter-widgets/base",
          "model_name": "LayoutModel",
          "model_module_version": "1.2.0",
          "state": {
            "_model_module": "@jupyter-widgets/base",
            "_model_module_version": "1.2.0",
            "_model_name": "LayoutModel",
            "_view_count": null,
            "_view_module": "@jupyter-widgets/base",
            "_view_module_version": "1.2.0",
            "_view_name": "LayoutView",
            "align_content": null,
            "align_items": null,
            "align_self": null,
            "border": null,
            "bottom": null,
            "display": null,
            "flex": null,
            "flex_flow": null,
            "grid_area": null,
            "grid_auto_columns": null,
            "grid_auto_flow": null,
            "grid_auto_rows": null,
            "grid_column": null,
            "grid_gap": null,
            "grid_row": null,
            "grid_template_areas": null,
            "grid_template_columns": null,
            "grid_template_rows": null,
            "height": null,
            "justify_content": null,
            "justify_items": null,
            "left": null,
            "margin": null,
            "max_height": null,
            "max_width": null,
            "min_height": null,
            "min_width": null,
            "object_fit": null,
            "object_position": null,
            "order": null,
            "overflow": null,
            "overflow_x": null,
            "overflow_y": null,
            "padding": null,
            "right": null,
            "top": null,
            "visibility": null,
            "width": null
          }
        },
        "3018d3717d084e51af2f7066786ad552": {
          "model_module": "@jupyter-widgets/controls",
          "model_name": "DescriptionStyleModel",
          "model_module_version": "1.5.0",
          "state": {
            "_model_module": "@jupyter-widgets/controls",
            "_model_module_version": "1.5.0",
            "_model_name": "DescriptionStyleModel",
            "_view_count": null,
            "_view_module": "@jupyter-widgets/base",
            "_view_module_version": "1.2.0",
            "_view_name": "StyleView",
            "description_width": ""
          }
        },
        "2917e52a95f0427ab3830d41db551d9e": {
          "model_module": "@jupyter-widgets/controls",
          "model_name": "HBoxModel",
          "model_module_version": "1.5.0",
          "state": {
            "_dom_classes": [],
            "_model_module": "@jupyter-widgets/controls",
            "_model_module_version": "1.5.0",
            "_model_name": "HBoxModel",
            "_view_count": null,
            "_view_module": "@jupyter-widgets/controls",
            "_view_module_version": "1.5.0",
            "_view_name": "HBoxView",
            "box_style": "",
            "children": [
              "IPY_MODEL_6df1ee07904e491eb9bbbe6abd347775",
              "IPY_MODEL_e4f9e5f9e9b54f8f9e55ee0be89cdabf",
              "IPY_MODEL_8e4a0e4fa95f48d28e84ec3226a1bef7"
            ],
            "layout": "IPY_MODEL_97ce67a64b00437cac6af6e06fdbf93d"
          }
        },
        "6df1ee07904e491eb9bbbe6abd347775": {
          "model_module": "@jupyter-widgets/controls",
          "model_name": "HTMLModel",
          "model_module_version": "1.5.0",
          "state": {
            "_dom_classes": [],
            "_model_module": "@jupyter-widgets/controls",
            "_model_module_version": "1.5.0",
            "_model_name": "HTMLModel",
            "_view_count": null,
            "_view_module": "@jupyter-widgets/controls",
            "_view_module_version": "1.5.0",
            "_view_name": "HTMLView",
            "description": "",
            "description_tooltip": null,
            "layout": "IPY_MODEL_f7ad09fd1b874a7f8f7aa57435d05b10",
            "placeholder": "​",
            "style": "IPY_MODEL_5808791f09554d05830015592f09a707",
            "value": "100%"
          }
        },
        "e4f9e5f9e9b54f8f9e55ee0be89cdabf": {
          "model_module": "@jupyter-widgets/controls",
          "model_name": "FloatProgressModel",
          "model_module_version": "1.5.0",
          "state": {
            "_dom_classes": [],
            "_model_module": "@jupyter-widgets/controls",
            "_model_module_version": "1.5.0",
            "_model_name": "FloatProgressModel",
            "_view_count": null,
            "_view_module": "@jupyter-widgets/controls",
            "_view_module_version": "1.5.0",
            "_view_name": "ProgressView",
            "bar_style": "success",
            "description": "",
            "description_tooltip": null,
            "layout": "IPY_MODEL_964dfce406a940dc86461c008e2fc169",
            "max": 1000,
            "min": 0,
            "orientation": "horizontal",
            "style": "IPY_MODEL_2bff33853dc94282925fa6e9642a6d61",
            "value": 1000
          }
        },
        "8e4a0e4fa95f48d28e84ec3226a1bef7": {
          "model_module": "@jupyter-widgets/controls",
          "model_name": "HTMLModel",
          "model_module_version": "1.5.0",
          "state": {
            "_dom_classes": [],
            "_model_module": "@jupyter-widgets/controls",
            "_model_module_version": "1.5.0",
            "_model_name": "HTMLModel",
            "_view_count": null,
            "_view_module": "@jupyter-widgets/controls",
            "_view_module_version": "1.5.0",
            "_view_name": "HTMLView",
            "description": "",
            "description_tooltip": null,
            "layout": "IPY_MODEL_f6b12dd35a8f404bb7fb275c8694abf5",
            "placeholder": "​",
            "style": "IPY_MODEL_e7689ff3b90c447ca0609141f25a1035",
            "value": " 1000/1000 [00:05&lt;00:00, 209.75it/s]"
          }
        },
        "97ce67a64b00437cac6af6e06fdbf93d": {
          "model_module": "@jupyter-widgets/base",
          "model_name": "LayoutModel",
          "model_module_version": "1.2.0",
          "state": {
            "_model_module": "@jupyter-widgets/base",
            "_model_module_version": "1.2.0",
            "_model_name": "LayoutModel",
            "_view_count": null,
            "_view_module": "@jupyter-widgets/base",
            "_view_module_version": "1.2.0",
            "_view_name": "LayoutView",
            "align_content": null,
            "align_items": null,
            "align_self": null,
            "border": null,
            "bottom": null,
            "display": null,
            "flex": null,
            "flex_flow": null,
            "grid_area": null,
            "grid_auto_columns": null,
            "grid_auto_flow": null,
            "grid_auto_rows": null,
            "grid_column": null,
            "grid_gap": null,
            "grid_row": null,
            "grid_template_areas": null,
            "grid_template_columns": null,
            "grid_template_rows": null,
            "height": null,
            "justify_content": null,
            "justify_items": null,
            "left": null,
            "margin": null,
            "max_height": null,
            "max_width": null,
            "min_height": null,
            "min_width": null,
            "object_fit": null,
            "object_position": null,
            "order": null,
            "overflow": null,
            "overflow_x": null,
            "overflow_y": null,
            "padding": null,
            "right": null,
            "top": null,
            "visibility": null,
            "width": null
          }
        },
        "f7ad09fd1b874a7f8f7aa57435d05b10": {
          "model_module": "@jupyter-widgets/base",
          "model_name": "LayoutModel",
          "model_module_version": "1.2.0",
          "state": {
            "_model_module": "@jupyter-widgets/base",
            "_model_module_version": "1.2.0",
            "_model_name": "LayoutModel",
            "_view_count": null,
            "_view_module": "@jupyter-widgets/base",
            "_view_module_version": "1.2.0",
            "_view_name": "LayoutView",
            "align_content": null,
            "align_items": null,
            "align_self": null,
            "border": null,
            "bottom": null,
            "display": null,
            "flex": null,
            "flex_flow": null,
            "grid_area": null,
            "grid_auto_columns": null,
            "grid_auto_flow": null,
            "grid_auto_rows": null,
            "grid_column": null,
            "grid_gap": null,
            "grid_row": null,
            "grid_template_areas": null,
            "grid_template_columns": null,
            "grid_template_rows": null,
            "height": null,
            "justify_content": null,
            "justify_items": null,
            "left": null,
            "margin": null,
            "max_height": null,
            "max_width": null,
            "min_height": null,
            "min_width": null,
            "object_fit": null,
            "object_position": null,
            "order": null,
            "overflow": null,
            "overflow_x": null,
            "overflow_y": null,
            "padding": null,
            "right": null,
            "top": null,
            "visibility": null,
            "width": null
          }
        },
        "5808791f09554d05830015592f09a707": {
          "model_module": "@jupyter-widgets/controls",
          "model_name": "DescriptionStyleModel",
          "model_module_version": "1.5.0",
          "state": {
            "_model_module": "@jupyter-widgets/controls",
            "_model_module_version": "1.5.0",
            "_model_name": "DescriptionStyleModel",
            "_view_count": null,
            "_view_module": "@jupyter-widgets/base",
            "_view_module_version": "1.2.0",
            "_view_name": "StyleView",
            "description_width": ""
          }
        },
        "964dfce406a940dc86461c008e2fc169": {
          "model_module": "@jupyter-widgets/base",
          "model_name": "LayoutModel",
          "model_module_version": "1.2.0",
          "state": {
            "_model_module": "@jupyter-widgets/base",
            "_model_module_version": "1.2.0",
            "_model_name": "LayoutModel",
            "_view_count": null,
            "_view_module": "@jupyter-widgets/base",
            "_view_module_version": "1.2.0",
            "_view_name": "LayoutView",
            "align_content": null,
            "align_items": null,
            "align_self": null,
            "border": null,
            "bottom": null,
            "display": null,
            "flex": null,
            "flex_flow": null,
            "grid_area": null,
            "grid_auto_columns": null,
            "grid_auto_flow": null,
            "grid_auto_rows": null,
            "grid_column": null,
            "grid_gap": null,
            "grid_row": null,
            "grid_template_areas": null,
            "grid_template_columns": null,
            "grid_template_rows": null,
            "height": null,
            "justify_content": null,
            "justify_items": null,
            "left": null,
            "margin": null,
            "max_height": null,
            "max_width": null,
            "min_height": null,
            "min_width": null,
            "object_fit": null,
            "object_position": null,
            "order": null,
            "overflow": null,
            "overflow_x": null,
            "overflow_y": null,
            "padding": null,
            "right": null,
            "top": null,
            "visibility": null,
            "width": null
          }
        },
        "2bff33853dc94282925fa6e9642a6d61": {
          "model_module": "@jupyter-widgets/controls",
          "model_name": "ProgressStyleModel",
          "model_module_version": "1.5.0",
          "state": {
            "_model_module": "@jupyter-widgets/controls",
            "_model_module_version": "1.5.0",
            "_model_name": "ProgressStyleModel",
            "_view_count": null,
            "_view_module": "@jupyter-widgets/base",
            "_view_module_version": "1.2.0",
            "_view_name": "StyleView",
            "bar_color": null,
            "description_width": ""
          }
        },
        "f6b12dd35a8f404bb7fb275c8694abf5": {
          "model_module": "@jupyter-widgets/base",
          "model_name": "LayoutModel",
          "model_module_version": "1.2.0",
          "state": {
            "_model_module": "@jupyter-widgets/base",
            "_model_module_version": "1.2.0",
            "_model_name": "LayoutModel",
            "_view_count": null,
            "_view_module": "@jupyter-widgets/base",
            "_view_module_version": "1.2.0",
            "_view_name": "LayoutView",
            "align_content": null,
            "align_items": null,
            "align_self": null,
            "border": null,
            "bottom": null,
            "display": null,
            "flex": null,
            "flex_flow": null,
            "grid_area": null,
            "grid_auto_columns": null,
            "grid_auto_flow": null,
            "grid_auto_rows": null,
            "grid_column": null,
            "grid_gap": null,
            "grid_row": null,
            "grid_template_areas": null,
            "grid_template_columns": null,
            "grid_template_rows": null,
            "height": null,
            "justify_content": null,
            "justify_items": null,
            "left": null,
            "margin": null,
            "max_height": null,
            "max_width": null,
            "min_height": null,
            "min_width": null,
            "object_fit": null,
            "object_position": null,
            "order": null,
            "overflow": null,
            "overflow_x": null,
            "overflow_y": null,
            "padding": null,
            "right": null,
            "top": null,
            "visibility": null,
            "width": null
          }
        },
        "e7689ff3b90c447ca0609141f25a1035": {
          "model_module": "@jupyter-widgets/controls",
          "model_name": "DescriptionStyleModel",
          "model_module_version": "1.5.0",
          "state": {
            "_model_module": "@jupyter-widgets/controls",
            "_model_module_version": "1.5.0",
            "_model_name": "DescriptionStyleModel",
            "_view_count": null,
            "_view_module": "@jupyter-widgets/base",
            "_view_module_version": "1.2.0",
            "_view_name": "StyleView",
            "description_width": ""
          }
        },
        "dca249050df74c1e81d3307a33fc3835": {
          "model_module": "@jupyter-widgets/controls",
          "model_name": "HBoxModel",
          "model_module_version": "1.5.0",
          "state": {
            "_dom_classes": [],
            "_model_module": "@jupyter-widgets/controls",
            "_model_module_version": "1.5.0",
            "_model_name": "HBoxModel",
            "_view_count": null,
            "_view_module": "@jupyter-widgets/controls",
            "_view_module_version": "1.5.0",
            "_view_name": "HBoxView",
            "box_style": "",
            "children": [
              "IPY_MODEL_7a8dd5d5cf9142fea1d7c5ecce69ccb7",
              "IPY_MODEL_517d3b1b778c4a4189d98c9c265a14eb",
              "IPY_MODEL_42b961dbecb74f999d036b0a13f9590f"
            ],
            "layout": "IPY_MODEL_cea86a5100e043e1bccee92467d7fdea"
          }
        },
        "7a8dd5d5cf9142fea1d7c5ecce69ccb7": {
          "model_module": "@jupyter-widgets/controls",
          "model_name": "HTMLModel",
          "model_module_version": "1.5.0",
          "state": {
            "_dom_classes": [],
            "_model_module": "@jupyter-widgets/controls",
            "_model_module_version": "1.5.0",
            "_model_name": "HTMLModel",
            "_view_count": null,
            "_view_module": "@jupyter-widgets/controls",
            "_view_module_version": "1.5.0",
            "_view_name": "HTMLView",
            "description": "",
            "description_tooltip": null,
            "layout": "IPY_MODEL_3246ea48dfcd432db948cb4a7525dced",
            "placeholder": "​",
            "style": "IPY_MODEL_539c72a98dfa49f98a06e6b83d40a86a",
            "value": ""
          }
        },
        "517d3b1b778c4a4189d98c9c265a14eb": {
          "model_module": "@jupyter-widgets/controls",
          "model_name": "FloatProgressModel",
          "model_module_version": "1.5.0",
          "state": {
            "_dom_classes": [],
            "_model_module": "@jupyter-widgets/controls",
            "_model_module_version": "1.5.0",
            "_model_name": "FloatProgressModel",
            "_view_count": null,
            "_view_module": "@jupyter-widgets/controls",
            "_view_module_version": "1.5.0",
            "_view_name": "ProgressView",
            "bar_style": "danger",
            "description": "",
            "description_tooltip": null,
            "layout": "IPY_MODEL_0add2c71de114c68b8cce3e58d82a9e6",
            "max": 1,
            "min": 0,
            "orientation": "horizontal",
            "style": "IPY_MODEL_44ea402885ce44a58f2d2d97a7853524",
            "value": 0
          }
        },
        "42b961dbecb74f999d036b0a13f9590f": {
          "model_module": "@jupyter-widgets/controls",
          "model_name": "HTMLModel",
          "model_module_version": "1.5.0",
          "state": {
            "_dom_classes": [],
            "_model_module": "@jupyter-widgets/controls",
            "_model_module_version": "1.5.0",
            "_model_name": "HTMLModel",
            "_view_count": null,
            "_view_module": "@jupyter-widgets/controls",
            "_view_module_version": "1.5.0",
            "_view_name": "HTMLView",
            "description": "",
            "description_tooltip": null,
            "layout": "IPY_MODEL_6a330cbcdc734610952e29c565fc82d2",
            "placeholder": "​",
            "style": "IPY_MODEL_97c158af5abb41a5a7887d31d90ad721",
            "value": " 0/? [00:00&lt;?, ?it/s]"
          }
        },
        "cea86a5100e043e1bccee92467d7fdea": {
          "model_module": "@jupyter-widgets/base",
          "model_name": "LayoutModel",
          "model_module_version": "1.2.0",
          "state": {
            "_model_module": "@jupyter-widgets/base",
            "_model_module_version": "1.2.0",
            "_model_name": "LayoutModel",
            "_view_count": null,
            "_view_module": "@jupyter-widgets/base",
            "_view_module_version": "1.2.0",
            "_view_name": "LayoutView",
            "align_content": null,
            "align_items": null,
            "align_self": null,
            "border": null,
            "bottom": null,
            "display": null,
            "flex": null,
            "flex_flow": null,
            "grid_area": null,
            "grid_auto_columns": null,
            "grid_auto_flow": null,
            "grid_auto_rows": null,
            "grid_column": null,
            "grid_gap": null,
            "grid_row": null,
            "grid_template_areas": null,
            "grid_template_columns": null,
            "grid_template_rows": null,
            "height": null,
            "justify_content": null,
            "justify_items": null,
            "left": null,
            "margin": null,
            "max_height": null,
            "max_width": null,
            "min_height": null,
            "min_width": null,
            "object_fit": null,
            "object_position": null,
            "order": null,
            "overflow": null,
            "overflow_x": null,
            "overflow_y": null,
            "padding": null,
            "right": null,
            "top": null,
            "visibility": null,
            "width": null
          }
        },
        "3246ea48dfcd432db948cb4a7525dced": {
          "model_module": "@jupyter-widgets/base",
          "model_name": "LayoutModel",
          "model_module_version": "1.2.0",
          "state": {
            "_model_module": "@jupyter-widgets/base",
            "_model_module_version": "1.2.0",
            "_model_name": "LayoutModel",
            "_view_count": null,
            "_view_module": "@jupyter-widgets/base",
            "_view_module_version": "1.2.0",
            "_view_name": "LayoutView",
            "align_content": null,
            "align_items": null,
            "align_self": null,
            "border": null,
            "bottom": null,
            "display": null,
            "flex": null,
            "flex_flow": null,
            "grid_area": null,
            "grid_auto_columns": null,
            "grid_auto_flow": null,
            "grid_auto_rows": null,
            "grid_column": null,
            "grid_gap": null,
            "grid_row": null,
            "grid_template_areas": null,
            "grid_template_columns": null,
            "grid_template_rows": null,
            "height": null,
            "justify_content": null,
            "justify_items": null,
            "left": null,
            "margin": null,
            "max_height": null,
            "max_width": null,
            "min_height": null,
            "min_width": null,
            "object_fit": null,
            "object_position": null,
            "order": null,
            "overflow": null,
            "overflow_x": null,
            "overflow_y": null,
            "padding": null,
            "right": null,
            "top": null,
            "visibility": null,
            "width": null
          }
        },
        "539c72a98dfa49f98a06e6b83d40a86a": {
          "model_module": "@jupyter-widgets/controls",
          "model_name": "DescriptionStyleModel",
          "model_module_version": "1.5.0",
          "state": {
            "_model_module": "@jupyter-widgets/controls",
            "_model_module_version": "1.5.0",
            "_model_name": "DescriptionStyleModel",
            "_view_count": null,
            "_view_module": "@jupyter-widgets/base",
            "_view_module_version": "1.2.0",
            "_view_name": "StyleView",
            "description_width": ""
          }
        },
        "0add2c71de114c68b8cce3e58d82a9e6": {
          "model_module": "@jupyter-widgets/base",
          "model_name": "LayoutModel",
          "model_module_version": "1.2.0",
          "state": {
            "_model_module": "@jupyter-widgets/base",
            "_model_module_version": "1.2.0",
            "_model_name": "LayoutModel",
            "_view_count": null,
            "_view_module": "@jupyter-widgets/base",
            "_view_module_version": "1.2.0",
            "_view_name": "LayoutView",
            "align_content": null,
            "align_items": null,
            "align_self": null,
            "border": null,
            "bottom": null,
            "display": null,
            "flex": null,
            "flex_flow": null,
            "grid_area": null,
            "grid_auto_columns": null,
            "grid_auto_flow": null,
            "grid_auto_rows": null,
            "grid_column": null,
            "grid_gap": null,
            "grid_row": null,
            "grid_template_areas": null,
            "grid_template_columns": null,
            "grid_template_rows": null,
            "height": null,
            "justify_content": null,
            "justify_items": null,
            "left": null,
            "margin": null,
            "max_height": null,
            "max_width": null,
            "min_height": null,
            "min_width": null,
            "object_fit": null,
            "object_position": null,
            "order": null,
            "overflow": null,
            "overflow_x": null,
            "overflow_y": null,
            "padding": null,
            "right": null,
            "top": null,
            "visibility": null,
            "width": "20px"
          }
        },
        "44ea402885ce44a58f2d2d97a7853524": {
          "model_module": "@jupyter-widgets/controls",
          "model_name": "ProgressStyleModel",
          "model_module_version": "1.5.0",
          "state": {
            "_model_module": "@jupyter-widgets/controls",
            "_model_module_version": "1.5.0",
            "_model_name": "ProgressStyleModel",
            "_view_count": null,
            "_view_module": "@jupyter-widgets/base",
            "_view_module_version": "1.2.0",
            "_view_name": "StyleView",
            "bar_color": null,
            "description_width": ""
          }
        },
        "6a330cbcdc734610952e29c565fc82d2": {
          "model_module": "@jupyter-widgets/base",
          "model_name": "LayoutModel",
          "model_module_version": "1.2.0",
          "state": {
            "_model_module": "@jupyter-widgets/base",
            "_model_module_version": "1.2.0",
            "_model_name": "LayoutModel",
            "_view_count": null,
            "_view_module": "@jupyter-widgets/base",
            "_view_module_version": "1.2.0",
            "_view_name": "LayoutView",
            "align_content": null,
            "align_items": null,
            "align_self": null,
            "border": null,
            "bottom": null,
            "display": null,
            "flex": null,
            "flex_flow": null,
            "grid_area": null,
            "grid_auto_columns": null,
            "grid_auto_flow": null,
            "grid_auto_rows": null,
            "grid_column": null,
            "grid_gap": null,
            "grid_row": null,
            "grid_template_areas": null,
            "grid_template_columns": null,
            "grid_template_rows": null,
            "height": null,
            "justify_content": null,
            "justify_items": null,
            "left": null,
            "margin": null,
            "max_height": null,
            "max_width": null,
            "min_height": null,
            "min_width": null,
            "object_fit": null,
            "object_position": null,
            "order": null,
            "overflow": null,
            "overflow_x": null,
            "overflow_y": null,
            "padding": null,
            "right": null,
            "top": null,
            "visibility": null,
            "width": null
          }
        },
        "97c158af5abb41a5a7887d31d90ad721": {
          "model_module": "@jupyter-widgets/controls",
          "model_name": "DescriptionStyleModel",
          "model_module_version": "1.5.0",
          "state": {
            "_model_module": "@jupyter-widgets/controls",
            "_model_module_version": "1.5.0",
            "_model_name": "DescriptionStyleModel",
            "_view_count": null,
            "_view_module": "@jupyter-widgets/base",
            "_view_module_version": "1.2.0",
            "_view_name": "StyleView",
            "description_width": ""
          }
        }
      }
    }
  },
  "cells": [
    {
      "cell_type": "code",
      "source": [
        "from google.colab import drive\n",
        "drive.mount('/content/drive')\n",
        "\n",
        "import os\n",
        "pwd = \"/content/drive/MyDrive/ECE661FinalProj_OODD\"\n",
        "os.chdir(pwd)"
      ],
      "metadata": {
        "colab": {
          "base_uri": "https://localhost:8080/"
        },
        "id": "QiJNw_6BAup_",
        "outputId": "1324af3d-46ba-43ed-9465-dd9528270250"
      },
      "execution_count": 1,
      "outputs": [
        {
          "output_type": "stream",
          "name": "stdout",
          "text": [
            "Mounted at /content/drive\n"
          ]
        }
      ]
    },
    {
      "cell_type": "code",
      "execution_count": 2,
      "metadata": {
        "id": "nLMMJVpZvudA"
      },
      "outputs": [],
      "source": [
        "# import necessary dependencies\n",
        "import argparse\n",
        "import os, sys\n",
        "import time\n",
        "import datetime\n",
        "from tqdm import tqdm_notebook as tqdm\n",
        "\n",
        "import torch\n",
        "import torch.nn as nn\n",
        "import torch.nn.functional as F\n",
        "import matplotlib.pyplot as plt"
      ]
    },
    {
      "cell_type": "code",
      "source": [
        "def swish(x):\n",
        "    return x/(1+torch.exp(-x))"
      ],
      "metadata": {
        "id": "RFssEgMkOxi4"
      },
      "execution_count": 3,
      "outputs": []
    },
    {
      "cell_type": "code",
      "execution_count": 4,
      "metadata": {
        "id": "wVcJkK35Onv6"
      },
      "outputs": [],
      "source": [
        "# define the Resnet20 mode;\n",
        "class Resnet20(nn.Module):\n",
        "    def __init__(self):\n",
        "        super(Resnet20, self).__init__()\n",
        "        self.conv0 = nn.Conv2d(in_channels=3, out_channels=16, kernel_size=3, stride=1, padding=1)\n",
        "        self.batchnorm0 = nn.BatchNorm2d(16)\n",
        "        \n",
        "        self.conv1a = nn.Conv2d(16, 16, 3, padding=1)\n",
        "        self.batchnorm1a = nn.BatchNorm2d(16)\n",
        "        self.conv1b = nn.Conv2d(16, 16, 3, padding=1)\n",
        "        self.batchnorm1b = nn.BatchNorm2d(16)\n",
        "        self.conv1c = nn.Conv2d(16, 16, 3, padding=1)\n",
        "        self.batchnorm1c = nn.BatchNorm2d(16)\n",
        "        self.conv1d = nn.Conv2d(16, 16, 3, padding=1)\n",
        "        self.batchnorm1d = nn.BatchNorm2d(16)\n",
        "        self.conv1e = nn.Conv2d(16, 16, 3, padding=1)\n",
        "        self.batchnorm1e = nn.BatchNorm2d(16)\n",
        "        self.conv1f = nn.Conv2d(16, 16, 3, padding=1)\n",
        "        self.batchnorm1f = nn.BatchNorm2d(16)\n",
        "        \n",
        "        self.conv1_2 = nn.Conv2d(16, 32, 3, stride=2, padding=1)\n",
        "        self.batchnorm1_2 = nn.BatchNorm2d(32)\n",
        "        self.bypass1_2 = nn.Conv2d(16, 32, 1, stride=2)\n",
        "        self.conv2a = nn.Conv2d(32, 32, 3, padding=1)\n",
        "        self.batchnorm2a = nn.BatchNorm2d(32)\n",
        "        self.conv2b = nn.Conv2d(32, 32, 3, padding=1)\n",
        "        self.batchnorm2b = nn.BatchNorm2d(32)\n",
        "        self.conv2c = nn.Conv2d(32, 32, 3, padding=1)\n",
        "        self.batchnorm2c = nn.BatchNorm2d(32)\n",
        "        self.conv2d = nn.Conv2d(32, 32, 3, padding=1)\n",
        "        self.batchnorm2d = nn.BatchNorm2d(32)\n",
        "        self.conv2e = nn.Conv2d(32, 32, 3, padding=1)\n",
        "        self.batchnorm2e = nn.BatchNorm2d(32)\n",
        "        \n",
        "        self.conv2_3 = nn.Conv2d(32, 64, 3, stride=2, padding=1)\n",
        "        self.batchnorm2_3 = nn.BatchNorm2d(64)\n",
        "        self.bypass2_3 = nn.Conv2d(32, 64, 1, stride=2)\n",
        "        self.conv3a = nn.Conv2d(64, 64, 3, padding=1)\n",
        "        self.batchnorm3a = nn.BatchNorm2d(64)\n",
        "        self.conv3b = nn.Conv2d(64, 64, 3, padding=1)\n",
        "        self.batchnorm3b = nn.BatchNorm2d(64)\n",
        "        self.conv3c = nn.Conv2d(64, 64, 3, padding=1)\n",
        "        self.batchnorm3c = nn.BatchNorm2d(64)\n",
        "        self.conv3d = nn.Conv2d(64, 64, 3, padding=1)\n",
        "        self.batchnorm3d = nn.BatchNorm2d(64)\n",
        "        self.conv3e = nn.Conv2d(64, 64, 3, padding=1)\n",
        "        self.batchnorm3e = nn.BatchNorm2d(64)\n",
        "        self.fc = nn.Linear(64, 10)\n",
        "\n",
        "    def forward(self, x):\n",
        "        # Inital convolution\n",
        "        out = self.batchnorm0(self.conv0(x))\n",
        "        out = bypass = swish(out)\n",
        "        # Block 1   (condense block layers into functions)\n",
        "            # Layer 1\n",
        "        out = self.batchnorm1a(self.conv1a(out))\n",
        "        out = swish(out)\n",
        "        out = self.batchnorm1b(self.conv1b(out))\n",
        "        out = bypass = swish(out + bypass)\n",
        "            # Layer 2\n",
        "        out = self.batchnorm1c(self.conv1c(out))\n",
        "        out = swish(out)\n",
        "        out = self.batchnorm1d(self.conv1d(out))\n",
        "        out = bypass = swish(out + bypass)\n",
        "            # Layer 3\n",
        "        out = self.batchnorm1e(self.conv1e(out))\n",
        "        out = swish(out)\n",
        "        out = self.batchnorm1f(self.conv1f(out))\n",
        "        out = bypass = swish(out + bypass)\n",
        "        # Block 2\n",
        "            # Layer 1\n",
        "        bypass = self.bypass1_2(bypass)\n",
        "        out = self.batchnorm1_2(self.conv1_2(out))\n",
        "        out = swish(out)\n",
        "        out = self.batchnorm2a(self.conv2a(out))\n",
        "        out = bypass = swish(out + bypass)\n",
        "            # Layer 2\n",
        "        out = self.batchnorm2b(self.conv2b(out))\n",
        "        out = swish(out)\n",
        "        out = self.batchnorm2c(self.conv2c(out))\n",
        "        out = bypass = swish(out + bypass)\n",
        "            # Layer 3\n",
        "        out = self.batchnorm2d(self.conv2d(out))\n",
        "        out = swish(out)\n",
        "        out = self.batchnorm2e(self.conv2e(out))\n",
        "        out = bypass = swish(out + bypass)\n",
        "        # Block 3\n",
        "            # Layer 1\n",
        "        bypass = self.bypass2_3(bypass)\n",
        "        out = self.batchnorm2_3(self.conv2_3(out))\n",
        "        out = swish(out)\n",
        "        out = self.batchnorm3a(self.conv3a(out))\n",
        "        out = bypass = swish(out + bypass)\n",
        "            # Layer 2\n",
        "        out = self.batchnorm3b(self.conv3b(out))\n",
        "        out = swish(out)\n",
        "        out = self.batchnorm3c(self.conv3c(out))\n",
        "        out = bypass = swish(out + bypass)\n",
        "            # Layer 3\n",
        "        out = self.batchnorm3d(self.conv3d(out))\n",
        "        out = swish(out)\n",
        "        out = self.batchnorm3e(self.conv3e(out))\n",
        "        out = bypass = swish(out + bypass)\n",
        "        \n",
        "        # Global Average Pool to go from 8x8 -> 1x1 feature maps\n",
        "        out = F.avg_pool2d(out, 8)\n",
        "        \n",
        "        # Fully Connected Layer\n",
        "        out = out.view(out.size(0), -1)\n",
        "        out = self.fc(out)\n",
        "        \n",
        "        return out"
      ]
    },
    {
      "cell_type": "code",
      "source": [
        "# useful libraries\n",
        "import torchvision\n",
        "import torchvision.transforms as transforms\n",
        "from torchvision.datasets import CIFAR10 as torchCIFAR10\n",
        "\n",
        "#############################################\n",
        "mean = (0.4914, 0.4822, 0.4465)\n",
        "std = (0.2023, 0.1994, 0.2010)\n",
        "\n",
        "\n",
        "# specify preprocessing function\n",
        "transform_train = transforms.Compose([transforms.ToTensor(), transforms.Normalize(mean, std),\n",
        "                                     transforms.RandomCrop(size=32, padding=4),\n",
        "                                     transforms.RandomHorizontalFlip()])\n",
        "\n",
        "transform_val = transforms.Compose([transforms.ToTensor(), transforms.Normalize(mean, std)])\n",
        "\n",
        "transform_test = transforms.Compose([transforms.ToTensor(), transforms.Normalize(mean, std)])\n",
        "\n",
        "\n",
        "#############################################"
      ],
      "metadata": {
        "id": "jyPLeXfDUEcX"
      },
      "execution_count": 5,
      "outputs": []
    },
    {
      "cell_type": "code",
      "execution_count": 21,
      "metadata": {
        "id": "3qlqXHR2Onv_",
        "outputId": "a9d575ca-63a2-4468-ad14-68d432553c83",
        "colab": {
          "base_uri": "https://localhost:8080/"
        }
      },
      "outputs": [
        {
          "output_type": "stream",
          "name": "stdout",
          "text": [
            "Files already downloaded and verified\n",
            "Files already downloaded and verified\n",
            "Files already downloaded and verified\n"
          ]
        }
      ],
      "source": [
        "# a few arguments, do NOT change these\n",
        "import numpy as np\n",
        "from tools.dataset import CIFAR10\n",
        "from torch.utils.data import DataLoader\n",
        "from torch.utils.data import Subset\n",
        "\n",
        "DATA_ROOT = \"./data\"\n",
        "TRAIN_BATCH_SIZE = 256\n",
        "VAL_BATCH_SIZE = 100\n",
        "\n",
        "\n",
        "# construct dataset\n",
        "torch_train_set = torchCIFAR10(\n",
        "    root=DATA_ROOT,\n",
        "    train=True,\n",
        "    transform=transform_train,\n",
        "    download=True\n",
        ")\n",
        "all_testing = torchCIFAR10(\n",
        "    root=DATA_ROOT,\n",
        "    train=False,\n",
        "    transform=transform_test,\n",
        "    download=True\n",
        ")\n",
        "\n",
        "cifar5_train_labels = np.array(torch_train_set.targets)\n",
        "cifar5_test_labels = np.array(all_testing.targets)\n",
        "train_indices = []\n",
        "all_test_indices = []\n",
        "for i in [0,1,2,3,4]:\n",
        "    train_indices += np.where(cifar5_train_labels == i)[0].tolist()\n",
        "    all_test_indices += np.where(cifar5_test_labels == i)[0].tolist()\n",
        "\n",
        "cifar5_train_set = Subset(torch_train_set, train_indices)\n",
        "cifar5_test_set = Subset(all_testing, all_test_indices)\n",
        "\n",
        "# construct dataloader\n",
        "torch_train_loader = DataLoader(\n",
        "    torch_train_set,\n",
        "    batch_size = TRAIN_BATCH_SIZE,\n",
        "    shuffle = True\n",
        ")\n",
        "\n",
        "torch_test_loader = DataLoader(\n",
        "    all_testing,\n",
        "    batch_size = 100\n",
        ")\n",
        "\n",
        "cifar5_train_loader = DataLoader(\n",
        "    cifar5_train_set,\n",
        "    batch_size = TRAIN_BATCH_SIZE,\n",
        "    shuffle = True\n",
        ")\n",
        "\n",
        "cifar5_test_loader = DataLoader(\n",
        "    cifar5_test_set,\n",
        "    batch_size = VAL_BATCH_SIZE\n",
        ")\n",
        "\n",
        "from torchvision.datasets import CIFAR100\n",
        "\n",
        "cifar100_set = CIFAR100(\n",
        "    root=DATA_ROOT,\n",
        "    train=False,\n",
        "    transform=transform_test,\n",
        "    download=True\n",
        ")\n",
        "\n",
        "cifar100_loader = DataLoader(\n",
        "    cifar100_set,\n",
        "    shuffle=True,\n",
        "    batch_size = TRAIN_BATCH_SIZE\n",
        ")\n",
        "\n",
        "cifar100_labels = np.array(cifar100_set.targets)\n",
        "train_indices = []\n",
        "test_indices = []\n",
        "\n",
        "for i in range(50):\n",
        "    train_indices += np.where(cifar100_labels == i)[0].tolist()\n",
        "\n",
        "cifar50_set = Subset(cifar100_loader, train_indices)"
      ]
    },
    {
      "cell_type": "markdown",
      "source": [
        "#TRAINING"
      ],
      "metadata": {
        "id": "F1I2maTYw1G0"
      }
    },
    {
      "cell_type": "code",
      "execution_count": 16,
      "metadata": {
        "id": "MsRAREtiOnwA",
        "outputId": "af8dc5cb-a35c-45c0-8647-db97956f8214",
        "colab": {
          "base_uri": "https://localhost:8080/"
        }
      },
      "outputs": [
        {
          "output_type": "stream",
          "name": "stdout",
          "text": [
            "cuda:0\n"
          ]
        }
      ],
      "source": [
        "from torch.cuda.random import device_count\n",
        "# specify the device for computation\n",
        "#############################################\n",
        "device = torch.device(\"cuda:0\" if torch.cuda.is_available() else \"cpu\")\n",
        "cnn = Resnet20()\n",
        "cnn.to(device)\n",
        "print(device)\n",
        "#############################################"
      ]
    },
    {
      "cell_type": "code",
      "source": [
        "import torch.nn as nn\n",
        "import torch.optim as optim\n",
        "\n",
        "WARMUP_LR = .01\n",
        "MOMENTUM = 0.9\n",
        "REG = 5e-4\n",
        "optimizer = optim.SGD(cnn.parameters(), lr=WARMUP_LR, momentum=MOMENTUM, weight_decay=REG)\n",
        "\n",
        "EPOCHS = 150\n",
        "CHECKPOINT_FOLDER = \"./saved_model\"\n",
        "\n",
        "INITAL_LR = .1\n",
        "DECAY_EPOCHS = 60\n",
        "DECAY = .1"
      ],
      "metadata": {
        "id": "zgtUpF6DwQ0N"
      },
      "execution_count": 17,
      "outputs": []
    },
    {
      "cell_type": "code",
      "source": [
        "PTH = 'cifer5_cifar50_OOD_resnet.pth'\n",
        "\n",
        "def train():\n",
        "    avg_loss = 0\n",
        "    best_val_acc = 0\n",
        "    current_learning_rate = WARMUP_LR\n",
        "    #Learning rate scheduler\n",
        "    for i in tqdm(range(EPOCHS)):\n",
        "        if i == 5:\n",
        "          current_learning_rate = INITAL_LR\n",
        "        if i % DECAY_EPOCHS == 0 and i != 0:\n",
        "          current_learning_rate = current_learning_rate * DECAY\n",
        "          for param_group in optimizer.param_groups:\n",
        "              param_group['lr'] = current_learning_rate\n",
        "          \n",
        "        cnn.train()\n",
        "        \n",
        "        print(f\"Epoch: {i}/{EPOCHS}\")\n",
        "        for in_set, out_set in zip(cifar5_train_loader, cifar50_set):\n",
        "            \n",
        "            data = torch.cat((in_set[0], out_set[0]), 0)\n",
        "            target = in_set[1].type(torch.LongTensor)\n",
        "            data, target = data.to(device), target.to(device)\n",
        "            \n",
        "            # Forward Pass\n",
        "            x = cnn.forward(data)\n",
        "            \n",
        "            loss = F.cross_entropy(x[:len(in_set[0])], target)\n",
        "            # cross-entropy from softmax distribution to uniform distribution\n",
        "            loss += 0.5 * -(x[len(in_set[0]):].mean(1) - torch.logsumexp(x[len(in_set[0]):], dim=1)).mean()\n",
        "            \n",
        "            optimizer.zero_grad()\n",
        "            loss.backward()\n",
        "            optimizer.step()\n",
        "            \n",
        "            avg_loss = .8 * avg_loss + float(loss) * 0.2\n",
        "      \n",
        "        print(f\"avg training loss: {avg_loss}\")\n",
        "      \n",
        "        \n",
        "        cnn.eval()\n",
        "\n",
        "        total_examples = 0\n",
        "        correct_examples = 0\n",
        "\n",
        "        val_loss = 0\n",
        "\n",
        "        with torch.no_grad():\n",
        "            for batch_idx, (inputs, targets) in enumerate(cifar5_test_loader):\n",
        "              if batch_idx < 0.5*len(cifar5_test_loader):\n",
        "                # copy inputs to device\n",
        "                inputs = inputs.to(device)\n",
        "                targets = targets.type(torch.LongTensor)\n",
        "                targets = targets.to(device)\n",
        "\n",
        "                # compute the output and loss\n",
        "                output = cnn.forward(inputs)\n",
        "                loss = F.cross_entropy(output, targets)\n",
        "                val_loss += loss\n",
        "\n",
        "                # count the number of correctly predicted samples in the current batch\n",
        "                total_examples += targets.size()[0]\n",
        "                batch_preds = torch.argmax(output, dim=1)\n",
        "                correct_examples += (batch_preds == targets).int().sum().item()\n",
        "\n",
        "        avg_loss = val_loss / (0.50* len(cifar5_test_loader))\n",
        "        avg_acc = correct_examples / total_examples\n",
        "        print(\"Validation loss: %.4f, Validation accuracy: %.4f\" % (avg_loss, avg_acc))\n",
        "        \n",
        "        #save the model checkpoint\n",
        "        if avg_acc > best_val_acc:\n",
        "            best_val_acc = avg_acc\n",
        "            if not os.path.exists(CHECKPOINT_FOLDER):\n",
        "               os.makedirs(CHECKPOINT_FOLDER)\n",
        "            print(\"Saving ...\")\n",
        "            state = {'state_dict': cnn.state_dict(),\n",
        "                    'epoch': i,\n",
        "                    'lr': current_learning_rate}\n",
        "            torch.save(state, os.path.join(CHECKPOINT_FOLDER, PTH))\n",
        "\n",
        "    \n",
        "train()"
      ],
      "metadata": {
        "colab": {
          "base_uri": "https://localhost:8080/",
          "height": 457,
          "referenced_widgets": [
            "5d76f9338c8040e0880085b472f4f9cf",
            "7f63873c043549768ac723c58eb4f8de",
            "0cf2dfd7405e42beb2b6613baa0271ea",
            "13c09ad877694ab68808bc7ba60feb7a",
            "2c295883a8eb497d8d13e4bd9df796d4",
            "68d13f81f1e447c1802e96fdd357c334",
            "2f90d76a3e05423a833e73281b0ba315",
            "6647df73eb9844b4943072ea0af273ac",
            "515f72a2f0c54ef7bbba399b8a7fcee7",
            "cd681e6bba014b68963df89a4f48a14e",
            "3018d3717d084e51af2f7066786ad552"
          ]
        },
        "id": "t8Esac2IxTIa",
        "outputId": "59badeb0-16b5-4df3-f7e4-519ba4826154"
      },
      "execution_count": 22,
      "outputs": [
        {
          "output_type": "stream",
          "name": "stderr",
          "text": [
            "<ipython-input-22-38bba11766e4>:8: TqdmDeprecationWarning: This function will be removed in tqdm==5.0.0\n",
            "Please use `tqdm.notebook.tqdm` instead of `tqdm.tqdm_notebook`\n",
            "  for i in tqdm(range(EPOCHS)):\n"
          ]
        },
        {
          "output_type": "display_data",
          "data": {
            "text/plain": [
              "  0%|          | 0/150 [00:00<?, ?it/s]"
            ],
            "application/vnd.jupyter.widget-view+json": {
              "version_major": 2,
              "version_minor": 0,
              "model_id": "5d76f9338c8040e0880085b472f4f9cf"
            }
          },
          "metadata": {}
        },
        {
          "output_type": "stream",
          "name": "stdout",
          "text": [
            "Epoch: 0/150\n"
          ]
        },
        {
          "output_type": "error",
          "ename": "TypeError",
          "evalue": "ignored",
          "traceback": [
            "\u001b[0;31m---------------------------------------------------------------------------\u001b[0m",
            "\u001b[0;31mTypeError\u001b[0m                                 Traceback (most recent call last)",
            "\u001b[0;32m<ipython-input-22-38bba11766e4>\u001b[0m in \u001b[0;36m<module>\u001b[0;34m\u001b[0m\n\u001b[1;32m     80\u001b[0m \u001b[0;34m\u001b[0m\u001b[0m\n\u001b[1;32m     81\u001b[0m \u001b[0;34m\u001b[0m\u001b[0m\n\u001b[0;32m---> 82\u001b[0;31m \u001b[0mtrain\u001b[0m\u001b[0;34m(\u001b[0m\u001b[0;34m)\u001b[0m\u001b[0;34m\u001b[0m\u001b[0;34m\u001b[0m\u001b[0m\n\u001b[0m",
            "\u001b[0;32m<ipython-input-22-38bba11766e4>\u001b[0m in \u001b[0;36mtrain\u001b[0;34m()\u001b[0m\n\u001b[1;32m     17\u001b[0m \u001b[0;34m\u001b[0m\u001b[0m\n\u001b[1;32m     18\u001b[0m         \u001b[0mprint\u001b[0m\u001b[0;34m(\u001b[0m\u001b[0;34mf\"Epoch: {i}/{EPOCHS}\"\u001b[0m\u001b[0;34m)\u001b[0m\u001b[0;34m\u001b[0m\u001b[0;34m\u001b[0m\u001b[0m\n\u001b[0;32m---> 19\u001b[0;31m         \u001b[0;32mfor\u001b[0m \u001b[0min_set\u001b[0m\u001b[0;34m,\u001b[0m \u001b[0mout_set\u001b[0m \u001b[0;32min\u001b[0m \u001b[0mzip\u001b[0m\u001b[0;34m(\u001b[0m\u001b[0mcifar5_train_loader\u001b[0m\u001b[0;34m,\u001b[0m \u001b[0mcifar50_set\u001b[0m\u001b[0;34m)\u001b[0m\u001b[0;34m:\u001b[0m\u001b[0;34m\u001b[0m\u001b[0;34m\u001b[0m\u001b[0m\n\u001b[0m\u001b[1;32m     20\u001b[0m \u001b[0;34m\u001b[0m\u001b[0m\n\u001b[1;32m     21\u001b[0m             \u001b[0mdata\u001b[0m \u001b[0;34m=\u001b[0m \u001b[0mtorch\u001b[0m\u001b[0;34m.\u001b[0m\u001b[0mcat\u001b[0m\u001b[0;34m(\u001b[0m\u001b[0;34m(\u001b[0m\u001b[0min_set\u001b[0m\u001b[0;34m[\u001b[0m\u001b[0;36m0\u001b[0m\u001b[0;34m]\u001b[0m\u001b[0;34m,\u001b[0m \u001b[0mout_set\u001b[0m\u001b[0;34m[\u001b[0m\u001b[0;36m0\u001b[0m\u001b[0;34m]\u001b[0m\u001b[0;34m)\u001b[0m\u001b[0;34m,\u001b[0m \u001b[0;36m0\u001b[0m\u001b[0;34m)\u001b[0m\u001b[0;34m\u001b[0m\u001b[0;34m\u001b[0m\u001b[0m\n",
            "\u001b[0;32m/usr/local/lib/python3.8/dist-packages/torch/utils/data/dataset.py\u001b[0m in \u001b[0;36m__getitem__\u001b[0;34m(self, idx)\u001b[0m\n\u001b[1;32m    293\u001b[0m         \u001b[0;32mif\u001b[0m \u001b[0misinstance\u001b[0m\u001b[0;34m(\u001b[0m\u001b[0midx\u001b[0m\u001b[0;34m,\u001b[0m \u001b[0mlist\u001b[0m\u001b[0;34m)\u001b[0m\u001b[0;34m:\u001b[0m\u001b[0;34m\u001b[0m\u001b[0;34m\u001b[0m\u001b[0m\n\u001b[1;32m    294\u001b[0m             \u001b[0;32mreturn\u001b[0m \u001b[0mself\u001b[0m\u001b[0;34m.\u001b[0m\u001b[0mdataset\u001b[0m\u001b[0;34m[\u001b[0m\u001b[0;34m[\u001b[0m\u001b[0mself\u001b[0m\u001b[0;34m.\u001b[0m\u001b[0mindices\u001b[0m\u001b[0;34m[\u001b[0m\u001b[0mi\u001b[0m\u001b[0;34m]\u001b[0m \u001b[0;32mfor\u001b[0m \u001b[0mi\u001b[0m \u001b[0;32min\u001b[0m \u001b[0midx\u001b[0m\u001b[0;34m]\u001b[0m\u001b[0;34m]\u001b[0m\u001b[0;34m\u001b[0m\u001b[0;34m\u001b[0m\u001b[0m\n\u001b[0;32m--> 295\u001b[0;31m         \u001b[0;32mreturn\u001b[0m \u001b[0mself\u001b[0m\u001b[0;34m.\u001b[0m\u001b[0mdataset\u001b[0m\u001b[0;34m[\u001b[0m\u001b[0mself\u001b[0m\u001b[0;34m.\u001b[0m\u001b[0mindices\u001b[0m\u001b[0;34m[\u001b[0m\u001b[0midx\u001b[0m\u001b[0;34m]\u001b[0m\u001b[0;34m]\u001b[0m\u001b[0;34m\u001b[0m\u001b[0;34m\u001b[0m\u001b[0m\n\u001b[0m\u001b[1;32m    296\u001b[0m \u001b[0;34m\u001b[0m\u001b[0m\n\u001b[1;32m    297\u001b[0m     \u001b[0;32mdef\u001b[0m \u001b[0m__len__\u001b[0m\u001b[0;34m(\u001b[0m\u001b[0mself\u001b[0m\u001b[0;34m)\u001b[0m\u001b[0;34m:\u001b[0m\u001b[0;34m\u001b[0m\u001b[0;34m\u001b[0m\u001b[0m\n",
            "\u001b[0;31mTypeError\u001b[0m: 'DataLoader' object is not subscriptable"
          ]
        }
      ]
    },
    {
      "cell_type": "markdown",
      "source": [
        "#TESTING"
      ],
      "metadata": {
        "id": "G9TO7y7Nwxnk"
      }
    },
    {
      "cell_type": "code",
      "source": [
        "cnn = Resnet20().to(device)\n",
        "cnn.load_state_dict(torch.load(os.path.join(CHECKPOINT_FOLDER, PTH))[\"state_dict\"])\n",
        "cnn.eval()"
      ],
      "metadata": {
        "id": "WItv-9qyO1Qd",
        "colab": {
          "base_uri": "https://localhost:8080/"
        },
        "outputId": "42bbf39d-772e-4c3f-bcbf-8e276de2f1c7"
      },
      "execution_count": 26,
      "outputs": [
        {
          "output_type": "execute_result",
          "data": {
            "text/plain": [
              "Resnet20(\n",
              "  (conv0): Conv2d(3, 16, kernel_size=(3, 3), stride=(1, 1), padding=(1, 1))\n",
              "  (batchnorm0): BatchNorm2d(16, eps=1e-05, momentum=0.1, affine=True, track_running_stats=True)\n",
              "  (conv1a): Conv2d(16, 16, kernel_size=(3, 3), stride=(1, 1), padding=(1, 1))\n",
              "  (batchnorm1a): BatchNorm2d(16, eps=1e-05, momentum=0.1, affine=True, track_running_stats=True)\n",
              "  (conv1b): Conv2d(16, 16, kernel_size=(3, 3), stride=(1, 1), padding=(1, 1))\n",
              "  (batchnorm1b): BatchNorm2d(16, eps=1e-05, momentum=0.1, affine=True, track_running_stats=True)\n",
              "  (conv1c): Conv2d(16, 16, kernel_size=(3, 3), stride=(1, 1), padding=(1, 1))\n",
              "  (batchnorm1c): BatchNorm2d(16, eps=1e-05, momentum=0.1, affine=True, track_running_stats=True)\n",
              "  (conv1d): Conv2d(16, 16, kernel_size=(3, 3), stride=(1, 1), padding=(1, 1))\n",
              "  (batchnorm1d): BatchNorm2d(16, eps=1e-05, momentum=0.1, affine=True, track_running_stats=True)\n",
              "  (conv1e): Conv2d(16, 16, kernel_size=(3, 3), stride=(1, 1), padding=(1, 1))\n",
              "  (batchnorm1e): BatchNorm2d(16, eps=1e-05, momentum=0.1, affine=True, track_running_stats=True)\n",
              "  (conv1f): Conv2d(16, 16, kernel_size=(3, 3), stride=(1, 1), padding=(1, 1))\n",
              "  (batchnorm1f): BatchNorm2d(16, eps=1e-05, momentum=0.1, affine=True, track_running_stats=True)\n",
              "  (conv1_2): Conv2d(16, 32, kernel_size=(3, 3), stride=(2, 2), padding=(1, 1))\n",
              "  (batchnorm1_2): BatchNorm2d(32, eps=1e-05, momentum=0.1, affine=True, track_running_stats=True)\n",
              "  (bypass1_2): Conv2d(16, 32, kernel_size=(1, 1), stride=(2, 2))\n",
              "  (conv2a): Conv2d(32, 32, kernel_size=(3, 3), stride=(1, 1), padding=(1, 1))\n",
              "  (batchnorm2a): BatchNorm2d(32, eps=1e-05, momentum=0.1, affine=True, track_running_stats=True)\n",
              "  (conv2b): Conv2d(32, 32, kernel_size=(3, 3), stride=(1, 1), padding=(1, 1))\n",
              "  (batchnorm2b): BatchNorm2d(32, eps=1e-05, momentum=0.1, affine=True, track_running_stats=True)\n",
              "  (conv2c): Conv2d(32, 32, kernel_size=(3, 3), stride=(1, 1), padding=(1, 1))\n",
              "  (batchnorm2c): BatchNorm2d(32, eps=1e-05, momentum=0.1, affine=True, track_running_stats=True)\n",
              "  (conv2d): Conv2d(32, 32, kernel_size=(3, 3), stride=(1, 1), padding=(1, 1))\n",
              "  (batchnorm2d): BatchNorm2d(32, eps=1e-05, momentum=0.1, affine=True, track_running_stats=True)\n",
              "  (conv2e): Conv2d(32, 32, kernel_size=(3, 3), stride=(1, 1), padding=(1, 1))\n",
              "  (batchnorm2e): BatchNorm2d(32, eps=1e-05, momentum=0.1, affine=True, track_running_stats=True)\n",
              "  (conv2_3): Conv2d(32, 64, kernel_size=(3, 3), stride=(2, 2), padding=(1, 1))\n",
              "  (batchnorm2_3): BatchNorm2d(64, eps=1e-05, momentum=0.1, affine=True, track_running_stats=True)\n",
              "  (bypass2_3): Conv2d(32, 64, kernel_size=(1, 1), stride=(2, 2))\n",
              "  (conv3a): Conv2d(64, 64, kernel_size=(3, 3), stride=(1, 1), padding=(1, 1))\n",
              "  (batchnorm3a): BatchNorm2d(64, eps=1e-05, momentum=0.1, affine=True, track_running_stats=True)\n",
              "  (conv3b): Conv2d(64, 64, kernel_size=(3, 3), stride=(1, 1), padding=(1, 1))\n",
              "  (batchnorm3b): BatchNorm2d(64, eps=1e-05, momentum=0.1, affine=True, track_running_stats=True)\n",
              "  (conv3c): Conv2d(64, 64, kernel_size=(3, 3), stride=(1, 1), padding=(1, 1))\n",
              "  (batchnorm3c): BatchNorm2d(64, eps=1e-05, momentum=0.1, affine=True, track_running_stats=True)\n",
              "  (conv3d): Conv2d(64, 64, kernel_size=(3, 3), stride=(1, 1), padding=(1, 1))\n",
              "  (batchnorm3d): BatchNorm2d(64, eps=1e-05, momentum=0.1, affine=True, track_running_stats=True)\n",
              "  (conv3e): Conv2d(64, 64, kernel_size=(3, 3), stride=(1, 1), padding=(1, 1))\n",
              "  (batchnorm3e): BatchNorm2d(64, eps=1e-05, momentum=0.1, affine=True, track_running_stats=True)\n",
              "  (fc): Linear(in_features=64, out_features=10, bias=True)\n",
              ")"
            ]
          },
          "metadata": {},
          "execution_count": 26
        }
      ]
    },
    {
      "cell_type": "code",
      "source": [
        "def energy_fun(cnn_output, T):\n",
        "  return -T* torch.logsumexp(cnn_output / T, dim=1)"
      ],
      "metadata": {
        "id": "faKVdeYTQ1sA"
      },
      "execution_count": 24,
      "outputs": []
    },
    {
      "cell_type": "code",
      "source": [
        "total_examples = 0\n",
        "correct_examples = 0\n",
        "val_loss = 0 \n",
        "energy_corr_score = []\n",
        "energy_fals_score = []\n",
        "\n",
        "softmax_corr_score = []\n",
        "softmax_fals_score = []\n",
        "\n",
        "T = 1\n",
        "with torch.no_grad():\n",
        "    for batch_idx, (inputs, targets) in enumerate(cifar5_test_loader):\n",
        "      if batch_idx > 0.50*len(cifar5_test_loader):\n",
        "          # copy inputs to device\n",
        "          inputs = inputs.to(device)\n",
        "          targets = targets.type(torch.LongTensor)\n",
        "          targets = targets.to(device)\n",
        "          # compute the output and loss\n",
        "          output = cnn.forward(inputs)\n",
        "          softmax = F.softmax(output, dim=1)\n",
        "          energy = energy_fun(output, T)\n",
        "\n",
        "          # count the number of correctly predicted samples in the current batch\n",
        "          total_examples += targets.size()[0]\n",
        "          batch_preds = torch.argmax(output, dim=1)\n",
        "          correct_mask = (batch_preds == targets)\n",
        "          correct_examples += correct_mask.int().sum().item()\n",
        "          soft_batch_preds = torch.argmax(softmax, dim=1)\n",
        "          for i in range(len(correct_mask)):\n",
        "              if correct_mask[i]:\n",
        "                  energy_corr_score.append(energy[i].item())\n",
        "                  softmax_corr_score.append(softmax[i][soft_batch_preds[i]].item())\n",
        "              else:\n",
        "                  energy_fals_score.append(energy[i].item())\n",
        "                  softmax_fals_score.append(softmax[i][soft_batch_preds[i]].item())\n",
        "\n",
        "print(correct_examples/total_examples)\n",
        "energy_InD_score = energy_fals_score + energy_corr_score\n",
        "softmax_InD_score = softmax_corr_score  + softmax_fals_score"
      ],
      "metadata": {
        "colab": {
          "base_uri": "https://localhost:8080/"
        },
        "id": "7ei-DKspx3hI",
        "outputId": "47dfa764-1e27-4eca-ae59-48db159c46a3"
      },
      "execution_count": 27,
      "outputs": [
        {
          "output_type": "stream",
          "name": "stdout",
          "text": [
            "0.7108333333333333\n"
          ]
        }
      ]
    },
    {
      "cell_type": "code",
      "source": [
        "import numpy as np\n",
        "# true positive here is defined as correctly classifying a prediction as erroneous\n",
        "def plot_roc(false_softs, true_softs, title = \"ROC Curve\", show_95TPR = True, show_OPT = False):\n",
        "    TPRs = []     #  true positive rates\n",
        "    FPRs = []     # false positive rates\n",
        "    AUROC = []    # will contain the AUROC approximation segments\n",
        "    opt = {\"thresh\":-1, \"diff\":-1, \"FPR\":-1, \"TPR\":-1}\n",
        "    FPR_at_TPR95 = -1\n",
        "    closest_TPR_to95 = -1\n",
        "    prev_FPR = 0\n",
        "    ct95 = 1\n",
        "    min_val = min(min(false_softs), min(true_softs))\n",
        "    max_val = max(max(false_softs), max(true_softs))\n",
        "    for i in tqdm(np.linspace(min_val, max_val, 1000)):\n",
        "        FPR = sum(false_softs < i)/len(false_softs)\n",
        "        TPR = sum(true_softs < i)/len(true_softs)\n",
        "        AUROC.append((FPR-prev_FPR)*TPR)\n",
        "        prev_FPR = FPR\n",
        "        dis_from_95 = .95-TPR\n",
        "        if abs(dis_from_95) < ct95:\n",
        "            ct95 = dis_from_95\n",
        "            FPR_at_TPR95 = FPR\n",
        "            closest_TPR_to95 = TPR\n",
        "        # if round(TPR,2) == .95:\n",
        "        #     FPR_at_TPR95 = FPR\n",
        "        TPRs.append(TPR)\n",
        "        FPRs.append(FPR)\n",
        "        if TPR-FPR > opt[\"diff\"]:\n",
        "            opt[\"thresh\"], opt[\"diff\"], opt[\"FPR\"], opt[\"TPR\"]  = i, TPR-FPR, FPR, TPR\n",
        "    plt.plot(FPRs, TPRs, 'm')\n",
        "    plt.plot([0,1], [0,1], \"k--\", linewidth=.5)\n",
        "    plt.xlabel(\"False Positive Rate\")\n",
        "    plt.ylabel(\"True Positive Rate\")\n",
        "    plt.title(title)\n",
        "    if show_95TPR:\n",
        "        plt.plot(FPR_at_TPR95, closest_TPR_to95, 'X', ms=11, label=f\"FPR@95TPR: {round(FPR_at_TPR95,3)}\")\n",
        "    if show_OPT:\n",
        "        plt.plot(opt[\"FPR\"], opt[\"TPR\"], 'X', ms=11, label=f\"OPT Thresh: {round(opt['thresh'],3)}\")\n",
        "        print(opt)\n",
        "    plt.legend()\n",
        "    plt.show()\n",
        "    print(f\"AUROC: {sum(AUROC)}\")"
      ],
      "metadata": {
        "id": "K6yUzuB13AVa"
      },
      "execution_count": 2,
      "outputs": []
    },
    {
      "cell_type": "code",
      "source": [
        "plot_roc(softmax_corr_score, softmax_fals_score, title=\"ROC Curve\\n (TP = correctly classifying erroneous prediction as erroneous)\")"
      ],
      "metadata": {
        "colab": {
          "base_uri": "https://localhost:8080/",
          "height": 413,
          "referenced_widgets": [
            "2917e52a95f0427ab3830d41db551d9e",
            "6df1ee07904e491eb9bbbe6abd347775",
            "e4f9e5f9e9b54f8f9e55ee0be89cdabf",
            "8e4a0e4fa95f48d28e84ec3226a1bef7",
            "97ce67a64b00437cac6af6e06fdbf93d",
            "f7ad09fd1b874a7f8f7aa57435d05b10",
            "5808791f09554d05830015592f09a707",
            "964dfce406a940dc86461c008e2fc169",
            "2bff33853dc94282925fa6e9642a6d61",
            "f6b12dd35a8f404bb7fb275c8694abf5",
            "e7689ff3b90c447ca0609141f25a1035"
          ]
        },
        "id": "MbmBW0lE4uHW",
        "outputId": "1bcf106c-2c0c-4a26-8fbb-a2c8c5cc8dc5"
      },
      "execution_count": 30,
      "outputs": [
        {
          "output_type": "stream",
          "name": "stderr",
          "text": [
            "<ipython-input-28-4938b0975def>:14: TqdmDeprecationWarning: This function will be removed in tqdm==5.0.0\n",
            "Please use `tqdm.notebook.tqdm` instead of `tqdm.tqdm_notebook`\n",
            "  for i in tqdm(np.linspace(min_val, max_val, 1000)):\n"
          ]
        },
        {
          "output_type": "display_data",
          "data": {
            "text/plain": [
              "  0%|          | 0/1000 [00:00<?, ?it/s]"
            ],
            "application/vnd.jupyter.widget-view+json": {
              "version_major": 2,
              "version_minor": 0,
              "model_id": "2917e52a95f0427ab3830d41db551d9e"
            }
          },
          "metadata": {}
        },
        {
          "output_type": "display_data",
          "data": {
            "text/plain": [
              "<Figure size 432x288 with 1 Axes>"
            ],
            "image/png": "[encoded data removed]"
          },
          "metadata": {
            "needs_background": "light"
          }
        },
        {
          "output_type": "stream",
          "name": "stdout",
          "text": [
            "AUROC: 0.8872001175711451\n"
          ]
        }
      ]
    },
    {
      "cell_type": "code",
      "source": [
        "from torchvision.datasets import CIFAR100\n",
        "\n",
        "cifar100_set = CIFAR100(\n",
        "    root=DATA_ROOT,\n",
        "    train=False,\n",
        "    transform=transform_test,\n",
        "    download=True\n",
        ")\n",
        "\n",
        "cifar100_loader = DataLoader(\n",
        "    cifar100_set\n",
        ")"
      ],
      "metadata": {
        "colab": {
          "base_uri": "https://localhost:8080/"
        },
        "id": "y5sbmyW540r3",
        "outputId": "2c6fe2b1-7bc8-4b40-c987-c43d8f5d9ba5"
      },
      "execution_count": null,
      "outputs": [
        {
          "output_type": "stream",
          "name": "stdout",
          "text": [
            "Files already downloaded and verified\n"
          ]
        }
      ]
    },
    {
      "cell_type": "code",
      "source": [
        "def find_OOD_scores(OOD_loader):\n",
        "  energy_OOD_score = []\n",
        "  softmax_OOD_score = []\n",
        "  with torch.no_grad():\n",
        "      for i, (img, target) in tqdm(enumerate(OOD_loader)):\n",
        "          img = img.to(device)\n",
        "          target = target.type(torch.LongTensor)\n",
        "          target = target.to(device)\n",
        "\n",
        "          output = cnn.forward(img)\n",
        "          # energy = energy_fun(output, T)\n",
        "          softmax = F.softmax(output, dim=1)\n",
        "          # print(softmax.shape)\n",
        "          # print(energy.shape)\n",
        "          # energy_OOD_score.append(energy.item())\n",
        "          softmax_OOD_score.append(softmax[0][torch.argmax(softmax)].item())\n",
        "          batch_pred = torch.argmax(output, dim=1)\n",
        "  return softmax_OOD_score"
      ],
      "metadata": {
        "id": "KSu4NCaz7P6W"
      },
      "execution_count": 54,
      "outputs": []
    },
    {
      "cell_type": "code",
      "source": [
        "softmax_OOD_score = find_OOD_scores(cifar100_loader)"
      ],
      "metadata": {
        "id": "pnhSEFaPRXJG",
        "colab": {
          "base_uri": "https://localhost:8080/",
          "height": 397,
          "referenced_widgets": [
            "dca249050df74c1e81d3307a33fc3835",
            "7a8dd5d5cf9142fea1d7c5ecce69ccb7",
            "517d3b1b778c4a4189d98c9c265a14eb",
            "42b961dbecb74f999d036b0a13f9590f",
            "cea86a5100e043e1bccee92467d7fdea",
            "3246ea48dfcd432db948cb4a7525dced",
            "539c72a98dfa49f98a06e6b83d40a86a",
            "0add2c71de114c68b8cce3e58d82a9e6",
            "44ea402885ce44a58f2d2d97a7853524",
            "6a330cbcdc734610952e29c565fc82d2",
            "97c158af5abb41a5a7887d31d90ad721"
          ]
        },
        "outputId": "c2f69ddc-0892-42b5-a8c2-c087f3c63306"
      },
      "execution_count": 48,
      "outputs": [
        {
          "output_type": "stream",
          "name": "stderr",
          "text": [
            "<ipython-input-47-0d3cbe53d610>:5: TqdmDeprecationWarning: This function will be removed in tqdm==5.0.0\n",
            "Please use `tqdm.notebook.tqdm` instead of `tqdm.tqdm_notebook`\n",
            "  for i, (img, target) in tqdm(enumerate(OOD_loader)):\n"
          ]
        },
        {
          "output_type": "display_data",
          "data": {
            "text/plain": [
              "0it [00:00, ?it/s]"
            ],
            "application/vnd.jupyter.widget-view+json": {
              "version_major": 2,
              "version_minor": 0,
              "model_id": "dca249050df74c1e81d3307a33fc3835"
            }
          },
          "metadata": {}
        },
        {
          "output_type": "stream",
          "name": "stdout",
          "text": [
            "torch.Size([256, 10])\n"
          ]
        },
        {
          "output_type": "error",
          "ename": "IndexError",
          "evalue": "ignored",
          "traceback": [
            "\u001b[0;31m---------------------------------------------------------------------------\u001b[0m",
            "\u001b[0;31mIndexError\u001b[0m                                Traceback (most recent call last)",
            "\u001b[0;32m<ipython-input-48-a120b832ca70>\u001b[0m in \u001b[0;36m<module>\u001b[0;34m\u001b[0m\n\u001b[0;32m----> 1\u001b[0;31m \u001b[0msoftmax_OOD_score\u001b[0m \u001b[0;34m=\u001b[0m \u001b[0mfind_OOD_scores\u001b[0m\u001b[0;34m(\u001b[0m\u001b[0mcifar100_loader\u001b[0m\u001b[0;34m)\u001b[0m\u001b[0;34m\u001b[0m\u001b[0;34m\u001b[0m\u001b[0m\n\u001b[0m",
            "\u001b[0;32m<ipython-input-47-0d3cbe53d610>\u001b[0m in \u001b[0;36mfind_OOD_scores\u001b[0;34m(OOD_loader)\u001b[0m\n\u001b[1;32m     14\u001b[0m           \u001b[0;31m# print(energy.shape)\u001b[0m\u001b[0;34m\u001b[0m\u001b[0;34m\u001b[0m\u001b[0;34m\u001b[0m\u001b[0m\n\u001b[1;32m     15\u001b[0m           \u001b[0;31m# energy_OOD_score.append(energy.item())\u001b[0m\u001b[0;34m\u001b[0m\u001b[0;34m\u001b[0m\u001b[0;34m\u001b[0m\u001b[0m\n\u001b[0;32m---> 16\u001b[0;31m           \u001b[0msoftmax_OOD_score\u001b[0m\u001b[0;34m.\u001b[0m\u001b[0mappend\u001b[0m\u001b[0;34m(\u001b[0m\u001b[0msoftmax\u001b[0m\u001b[0;34m[\u001b[0m\u001b[0;36m0\u001b[0m\u001b[0;34m]\u001b[0m\u001b[0;34m[\u001b[0m\u001b[0mtorch\u001b[0m\u001b[0;34m.\u001b[0m\u001b[0margmax\u001b[0m\u001b[0;34m(\u001b[0m\u001b[0msoftmax\u001b[0m\u001b[0;34m)\u001b[0m\u001b[0;34m]\u001b[0m\u001b[0;34m.\u001b[0m\u001b[0mitem\u001b[0m\u001b[0;34m(\u001b[0m\u001b[0;34m)\u001b[0m\u001b[0;34m)\u001b[0m\u001b[0;34m\u001b[0m\u001b[0;34m\u001b[0m\u001b[0m\n\u001b[0m\u001b[1;32m     17\u001b[0m           \u001b[0mbatch_pred\u001b[0m \u001b[0;34m=\u001b[0m \u001b[0mtorch\u001b[0m\u001b[0;34m.\u001b[0m\u001b[0margmax\u001b[0m\u001b[0;34m(\u001b[0m\u001b[0moutput\u001b[0m\u001b[0;34m,\u001b[0m \u001b[0mdim\u001b[0m\u001b[0;34m=\u001b[0m\u001b[0;36m1\u001b[0m\u001b[0;34m)\u001b[0m\u001b[0;34m\u001b[0m\u001b[0;34m\u001b[0m\u001b[0m\n\u001b[1;32m     18\u001b[0m   \u001b[0;32mreturn\u001b[0m \u001b[0msoftmax_OOD_score\u001b[0m\u001b[0;34m\u001b[0m\u001b[0;34m\u001b[0m\u001b[0m\n",
            "\u001b[0;31mIndexError\u001b[0m: index 292 is out of bounds for dimension 0 with size 10"
          ]
        }
      ]
    },
    {
      "cell_type": "code",
      "source": [
        "plot_roc(softmax_OOD_score, softmax_InD_score)"
      ],
      "metadata": {
        "colab": {
          "base_uri": "https://localhost:8080/",
          "height": 169
        },
        "id": "YLMCyj2Z7Vh3",
        "outputId": "f091d701-1b2d-41d8-ef53-3013b00164d9"
      },
      "execution_count": 1,
      "outputs": [
        {
          "output_type": "error",
          "ename": "NameError",
          "evalue": "ignored",
          "traceback": [
            "\u001b[0;31m---------------------------------------------------------------------------\u001b[0m",
            "\u001b[0;31mNameError\u001b[0m                                 Traceback (most recent call last)",
            "\u001b[0;32m<ipython-input-1-e976c7d5a7d4>\u001b[0m in \u001b[0;36m<module>\u001b[0;34m\u001b[0m\n\u001b[0;32m----> 1\u001b[0;31m \u001b[0mplot_roc\u001b[0m\u001b[0;34m(\u001b[0m\u001b[0msoftmax_OOD_score\u001b[0m\u001b[0;34m,\u001b[0m \u001b[0msoftmax_InD_score\u001b[0m\u001b[0;34m)\u001b[0m\u001b[0;34m\u001b[0m\u001b[0;34m\u001b[0m\u001b[0m\n\u001b[0m",
            "\u001b[0;31mNameError\u001b[0m: name 'plot_roc' is not defined"
          ]
        }
      ]
    },
    {
      "cell_type": "code",
      "source": [
        "from torchvision.datasets import SVHN\n",
        "\n",
        "SVHN_Data = SVHN(\n",
        "    root='./data/',\n",
        "    transform=transform_test,\n",
        "    download=True\n",
        ")\n",
        "SVHN_loader = DataLoader(\n",
        "    SVHN_Data\n",
        ")"
      ],
      "metadata": {
        "colab": {
          "base_uri": "https://localhost:8080/",
          "height": 240
        },
        "id": "o1rwJcOF8Ve8",
        "outputId": "c579eb54-aaca-4587-dc5d-aec241e119ae"
      },
      "execution_count": 4,
      "outputs": [
        {
          "output_type": "error",
          "ename": "NameError",
          "evalue": "ignored",
          "traceback": [
            "\u001b[0;31m---------------------------------------------------------------------------\u001b[0m",
            "\u001b[0;31mNameError\u001b[0m                                 Traceback (most recent call last)",
            "\u001b[0;32m<ipython-input-4-37d85d7cef6c>\u001b[0m in \u001b[0;36m<module>\u001b[0;34m\u001b[0m\n\u001b[1;32m      3\u001b[0m SVHN_Data = SVHN(\n\u001b[1;32m      4\u001b[0m     \u001b[0mroot\u001b[0m\u001b[0;34m=\u001b[0m\u001b[0;34m'./data/'\u001b[0m\u001b[0;34m,\u001b[0m\u001b[0;34m\u001b[0m\u001b[0;34m\u001b[0m\u001b[0m\n\u001b[0;32m----> 5\u001b[0;31m     \u001b[0mtransform\u001b[0m\u001b[0;34m=\u001b[0m\u001b[0mtransform_test\u001b[0m\u001b[0;34m,\u001b[0m\u001b[0;34m\u001b[0m\u001b[0;34m\u001b[0m\u001b[0m\n\u001b[0m\u001b[1;32m      6\u001b[0m     \u001b[0mdownload\u001b[0m\u001b[0;34m=\u001b[0m\u001b[0;32mTrue\u001b[0m\u001b[0;34m\u001b[0m\u001b[0;34m\u001b[0m\u001b[0m\n\u001b[1;32m      7\u001b[0m )\n",
            "\u001b[0;31mNameError\u001b[0m: name 'transform_test' is not defined"
          ]
        }
      ]
    },
    {
      "cell_type": "code",
      "source": [
        "svhnOOD_score = find_OOD_scores(SVHN_loader)"
      ],
      "metadata": {
        "id": "8FlYVpkDq5KV"
      },
      "execution_count": null,
      "outputs": []
    },
    {
      "cell_type": "code",
      "source": [
        "plot_roc(softmax_InD_score,svhnOOD_score, title=\"Cifar5 Cifar100 ROC Sotmax Thresholding\")"
      ],
      "metadata": {
        "id": "n4at02QiHTkU",
        "colab": {
          "base_uri": "https://localhost:8080/",
          "height": 169
        },
        "outputId": "368672ed-c9d0-4aea-efe7-77f9cd0c41a2"
      },
      "execution_count": 12,
      "outputs": [
        {
          "output_type": "error",
          "ename": "NameError",
          "evalue": "ignored",
          "traceback": [
            "\u001b[0;31m---------------------------------------------------------------------------\u001b[0m",
            "\u001b[0;31mNameError\u001b[0m                                 Traceback (most recent call last)",
            "\u001b[0;32m<ipython-input-12-e8ae93c534bb>\u001b[0m in \u001b[0;36m<module>\u001b[0;34m\u001b[0m\n\u001b[0;32m----> 1\u001b[0;31m \u001b[0mplot_roc\u001b[0m\u001b[0;34m(\u001b[0m\u001b[0msoftmax_InD_score\u001b[0m\u001b[0;34m,\u001b[0m\u001b[0msvhnOOD_score\u001b[0m\u001b[0;34m,\u001b[0m \u001b[0mtitle\u001b[0m\u001b[0;34m=\u001b[0m\u001b[0;34m\"Cifar5 Cifar100 ROC Sotmax Thresholding\"\u001b[0m\u001b[0;34m)\u001b[0m\u001b[0;34m\u001b[0m\u001b[0;34m\u001b[0m\u001b[0m\n\u001b[0m",
            "\u001b[0;31mNameError\u001b[0m: name 'softmax_InD_score' is not defined"
          ]
        }
      ]
    },
    {
      "cell_type": "code",
      "source": [],
      "metadata": {
        "id": "nAX4Z1_56ufv"
      },
      "execution_count": null,
      "outputs": []
    }
  ]
}