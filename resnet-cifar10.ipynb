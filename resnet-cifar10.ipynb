{
 "cells": [
  {
   "cell_type": "markdown",
   "metadata": {},
   "source": [
    "# Training Resnet20 on CIFAR-10"
   ]
  },
  {
   "cell_type": "code",
   "execution_count": 1,
   "metadata": {},
   "outputs": [],
   "source": [
    "# import necessary dependencies\n",
    "import argparse\n",
    "import os, sys\n",
    "import time\n",
    "import datetime\n",
    "from tqdm import tqdm_notebook as tqdm\n",
    "\n",
    "import torch\n",
    "import torch.nn as nn\n",
    "import torch.nn.functional as F\n",
    "import matplotlib.pyplot as plt"
   ]
  },
  {
   "cell_type": "code",
   "execution_count": 2,
   "metadata": {},
   "outputs": [],
   "source": [
    "def swish(x):\n",
    "    return x/(1+torch.exp(-x))"
   ]
  },
  {
   "cell_type": "code",
   "execution_count": 4,
   "metadata": {},
   "outputs": [],
   "source": [
    "# define the Resnet20 mode;\n",
    "class Resnet20(nn.Module):\n",
    "    def __init__(self):\n",
    "        super(Resnet20, self).__init__()\n",
    "        self.conv0 = nn.Conv2d(in_channels=3, out_channels=16, kernel_size=3, stride=1, padding=1)\n",
    "        self.batchnorm0 = nn.BatchNorm2d(16)\n",
    "        \n",
    "        self.conv1a = nn.Conv2d(16, 16, 3, padding=1)\n",
    "        self.batchnorm1a = nn.BatchNorm2d(16)\n",
    "        self.conv1b = nn.Conv2d(16, 16, 3, padding=1)\n",
    "        self.batchnorm1b = nn.BatchNorm2d(16)\n",
    "        self.conv1c = nn.Conv2d(16, 16, 3, padding=1)\n",
    "        self.batchnorm1c = nn.BatchNorm2d(16)\n",
    "        self.conv1d = nn.Conv2d(16, 16, 3, padding=1)\n",
    "        self.batchnorm1d = nn.BatchNorm2d(16)\n",
    "        self.conv1e = nn.Conv2d(16, 16, 3, padding=1)\n",
    "        self.batchnorm1e = nn.BatchNorm2d(16)\n",
    "        self.conv1f = nn.Conv2d(16, 16, 3, padding=1)\n",
    "        self.batchnorm1f = nn.BatchNorm2d(16)\n",
    "        \n",
    "        self.conv1_2 = nn.Conv2d(16, 32, 3, stride=2, padding=1)\n",
    "        self.batchnorm1_2 = nn.BatchNorm2d(32)\n",
    "        self.bypass1_2 = nn.Conv2d(16, 32, 1, stride=2)\n",
    "        self.conv2a = nn.Conv2d(32, 32, 3, padding=1)\n",
    "        self.batchnorm2a = nn.BatchNorm2d(32)\n",
    "        self.conv2b = nn.Conv2d(32, 32, 3, padding=1)\n",
    "        self.batchnorm2b = nn.BatchNorm2d(32)\n",
    "        self.conv2c = nn.Conv2d(32, 32, 3, padding=1)\n",
    "        self.batchnorm2c = nn.BatchNorm2d(32)\n",
    "        self.conv2d = nn.Conv2d(32, 32, 3, padding=1)\n",
    "        self.batchnorm2d = nn.BatchNorm2d(32)\n",
    "        self.conv2e = nn.Conv2d(32, 32, 3, padding=1)\n",
    "        self.batchnorm2e = nn.BatchNorm2d(32)\n",
    "        \n",
    "        self.conv2_3 = nn.Conv2d(32, 64, 3, stride=2, padding=1)\n",
    "        self.batchnorm2_3 = nn.BatchNorm2d(64)\n",
    "        self.bypass2_3 = nn.Conv2d(32, 64, 1, stride=2)\n",
    "        self.conv3a = nn.Conv2d(64, 64, 3, padding=1)\n",
    "        self.batchnorm3a = nn.BatchNorm2d(64)\n",
    "        self.conv3b = nn.Conv2d(64, 64, 3, padding=1)\n",
    "        self.batchnorm3b = nn.BatchNorm2d(64)\n",
    "        self.conv3c = nn.Conv2d(64, 64, 3, padding=1)\n",
    "        self.batchnorm3c = nn.BatchNorm2d(64)\n",
    "        self.conv3d = nn.Conv2d(64, 64, 3, padding=1)\n",
    "        self.batchnorm3d = nn.BatchNorm2d(64)\n",
    "        self.conv3e = nn.Conv2d(64, 64, 3, padding=1)\n",
    "        self.batchnorm3e = nn.BatchNorm2d(64)\n",
    "        self.fc = nn.Linear(64, 10)\n",
    "\n",
    "    def forward(self, x):\n",
    "        # Inital convolution\n",
    "        out = self.batchnorm0(self.conv0(x))\n",
    "        out = bypass = swish(out)\n",
    "        # Block 1   (condense block layers into functions)\n",
    "            # Layer 1\n",
    "        out = self.batchnorm1a(self.conv1a(out))\n",
    "        out = swish(out)\n",
    "        out = self.batchnorm1b(self.conv1b(out))\n",
    "        out = bypass = swish(out + bypass)\n",
    "            # Layer 2\n",
    "        out = self.batchnorm1c(self.conv1c(out))\n",
    "        out = swish(out)\n",
    "        out = self.batchnorm1d(self.conv1d(out))\n",
    "        out = bypass = swish(out + bypass)\n",
    "            # Layer 3\n",
    "        out = self.batchnorm1e(self.conv1e(out))\n",
    "        out = swish(out)\n",
    "        out = self.batchnorm1f(self.conv1f(out))\n",
    "        out = bypass = swish(out + bypass)\n",
    "        # Block 2\n",
    "            # Layer 1\n",
    "        bypass = self.bypass1_2(bypass)\n",
    "        out = self.batchnorm1_2(self.conv1_2(out))\n",
    "        out = swish(out)\n",
    "        out = self.batchnorm2a(self.conv2a(out))\n",
    "        out = bypass = swish(out + bypass)\n",
    "            # Layer 2\n",
    "        out = self.batchnorm2b(self.conv2b(out))\n",
    "        out = swish(out)\n",
    "        out = self.batchnorm2c(self.conv2c(out))\n",
    "        out = bypass = swish(out + bypass)\n",
    "            # Layer 3\n",
    "        out = self.batchnorm2d(self.conv2d(out))\n",
    "        out = swish(out)\n",
    "        out = self.batchnorm2e(self.conv2e(out))\n",
    "        out = bypass = swish(out + bypass)\n",
    "        # Block 3\n",
    "            # Layer 1\n",
    "        bypass = self.bypass2_3(bypass)\n",
    "        out = self.batchnorm2_3(self.conv2_3(out))\n",
    "        out = swish(out)\n",
    "        out = self.batchnorm3a(self.conv3a(out))\n",
    "        out = bypass = swish(out + bypass)\n",
    "            # Layer 2\n",
    "        out = self.batchnorm3b(self.conv3b(out))\n",
    "        out = swish(out)\n",
    "        out = self.batchnorm3c(self.conv3c(out))\n",
    "        out = bypass = swish(out + bypass)\n",
    "            # Layer 3\n",
    "        out = self.batchnorm3d(self.conv3d(out))\n",
    "        out = swish(out)\n",
    "        out = self.batchnorm3e(self.conv3e(out))\n",
    "        out = bypass = swish(out + bypass)\n",
    "        \n",
    "        # Global Average Pool to go from 8x8 -> 1x1 feature maps\n",
    "        out = F.avg_pool2d(out, 8)\n",
    "        \n",
    "        # Fully Connected Layer\n",
    "        out = out.view(out.size(0), -1)\n",
    "        out = self.fc(out)\n",
    "        \n",
    "        return out"
   ]
  },
  {
   "cell_type": "code",
   "execution_count": 5,
   "metadata": {},
   "outputs": [
    {
     "name": "stdout",
     "output_type": "stream",
     "text": [
      "tensor([[-0.4313,  0.5700, -0.3726,  0.3672,  0.3995,  0.2771,  0.0505,  0.4928,\n",
      "         -0.8577,  0.3288]], grad_fn=<AddmmBackward0>)\n",
      "Total Number of Parameters: 273067\n"
     ]
    }
   ],
   "source": [
    "#############################################\n",
    "# your code here\n",
    "# sanity check for the correctness of SimpleNN\n",
    "dummy_input = torch.ones((1,3,32,32))\n",
    "dummy_instance = Resnet20()\n",
    "print(dummy_instance.forward(dummy_input))\n",
    "total_params = 1\n",
    "for p in dummy_instance.parameters():\n",
    "    temp = 1\n",
    "    for s in p.size():\n",
    "        temp *= s\n",
    "    total_params += temp\n",
    "    #print(p.size())\n",
    "print(f\"Total Number of Parameters: {total_params}\")\n",
    "\n",
    "#############################################"
   ]
  },
  {
   "cell_type": "markdown",
   "metadata": {},
   "source": [
    "## Set up preprocessing functions"
   ]
  },
  {
   "cell_type": "code",
   "execution_count": 6,
   "metadata": {},
   "outputs": [],
   "source": [
    "# useful libraries\n",
    "import torchvision\n",
    "import torchvision.transforms as transforms\n",
    "from torchvision.datasets import CIFAR10 as torchCIFAR10\n",
    "\n",
    "#############################################\n",
    "# your code here\n",
    "mean = (0.4914, 0.4822, 0.4465)\n",
    "std = (0.2023, 0.1994, 0.2010)\n",
    "\n",
    "# specify preprocessing function\n",
    "transform_train = transforms.Compose([transforms.ToTensor(), transforms.Normalize(mean, std),\n",
    "                                     transforms.RandomCrop(size=32, padding=4),\n",
    "                                     transforms.RandomHorizontalFlip()])\n",
    "\n",
    "transform_val = transforms.Compose([transforms.ToTensor(), transforms.Normalize(mean, std)])\n",
    "\n",
    "transform_test = transforms.Compose([transforms.ToTensor(), transforms.Normalize(mean, std)])\n",
    "\n",
    "transform_visulaizer = transforms.Compose([transforms.ToTensor()])\n",
    "#############################################"
   ]
  },
  {
   "cell_type": "markdown",
   "metadata": {},
   "source": [
    "## Set up dataset and dataloader\n"
   ]
  },
  {
   "cell_type": "code",
   "execution_count": 7,
   "metadata": {},
   "outputs": [
    {
     "name": "stdout",
     "output_type": "stream",
     "text": [
      "Using downloaded and verified file: ./data\\cifar10_trainval_F22.zip\n",
      "Extracting ./data\\cifar10_trainval_F22.zip to ./data\n",
      "Files already downloaded and verified\n",
      "Using downloaded and verified file: ./data\\cifar10_trainval_F22.zip\n",
      "Extracting ./data\\cifar10_trainval_F22.zip to ./data\n",
      "Files already downloaded and verified\n",
      "Using downloaded and verified file: ./data\\cifar10_test_F22.zip\n",
      "Extracting ./data\\cifar10_test_F22.zip to ./data\n",
      "Files already downloaded and verified\n",
      "Files already downloaded and verified\n",
      "Files already downloaded and verified\n"
     ]
    }
   ],
   "source": [
    "# do NOT change these\n",
    "from tools.dataset import CIFAR10\n",
    "from torch.utils.data import DataLoader\n",
    "\n",
    "# a few arguments, do NOT change these\n",
    "DATA_ROOT = \"./data\"\n",
    "TRAIN_BATCH_SIZE = 256\n",
    "VAL_BATCH_SIZE = 100\n",
    "\n",
    "#############################################\n",
    "# your code here\n",
    "# construct dataset\n",
    "train_set = CIFAR10(\n",
    "    root=DATA_ROOT, \n",
    "    mode='train', \n",
    "    download=True,\n",
    "    transform= transform_train\n",
    ")\n",
    "val_set = CIFAR10(\n",
    "    root=DATA_ROOT, \n",
    "    mode='val', \n",
    "    download=True,\n",
    "    transform= transform_val\n",
    ")\n",
    "test_set = CIFAR10(\n",
    "    root=DATA_ROOT,\n",
    "    mode='test',\n",
    "    download=True,\n",
    "    transform=transform_test\n",
    ")\n",
    "torch_test_set = torchCIFAR10(\n",
    "    root=DATA_ROOT,\n",
    "    train=False,\n",
    "    transform=transform_test,\n",
    "    download=True\n",
    ")\n",
    "torch_vis_set = torchCIFAR10(\n",
    "    root=DATA_ROOT,\n",
    "    train=False,\n",
    "    transform=transform_visulaizer,\n",
    "    download=True\n",
    ")\n",
    "\n",
    "\n",
    "# construct dataloader\n",
    "train_loader = DataLoader(\n",
    "    train_set, \n",
    "    batch_size= TRAIN_BATCH_SIZE,  # your code\n",
    "    shuffle= True,     # your code\n",
    "    num_workers=4\n",
    ")\n",
    "val_loader = DataLoader(\n",
    "    val_set, \n",
    "    batch_size= VAL_BATCH_SIZE,  # your code\n",
    "    shuffle= False,     # your code\n",
    "    num_workers=4\n",
    ")\n",
    "test_loader = DataLoader(\n",
    "    test_set\n",
    ")\n",
    "torch_test_loader = DataLoader(\n",
    "    torch_test_set\n",
    ")\n",
    "torch_visualizer_loader = DataLoader(\n",
    "    torch_vis_set\n",
    ")\n",
    "#############################################"
   ]
  },
  {
   "cell_type": "markdown",
   "metadata": {},
   "source": [
    "## Instantiate Resnet-20 model and deploy it to GPU devices."
   ]
  },
  {
   "cell_type": "code",
   "execution_count": 8,
   "metadata": {},
   "outputs": [
    {
     "name": "stdout",
     "output_type": "stream",
     "text": [
      "cuda:0\n",
      "cpu\n",
      "cuda:0\n"
     ]
    }
   ],
   "source": [
    "# specify the device for computation\n",
    "#############################################\n",
    "# your code here\n",
    "device = torch.device(\"cuda:0\" if torch.cuda.is_available() else \"cpu\")\n",
    "print(device)\n",
    "\n",
    "cnn = Resnet20()\n",
    "print(next(cnn.parameters()).device)\n",
    "cnn.to(device)\n",
    "print(next(cnn.parameters()).device)\n",
    "\n",
    "#############################################"
   ]
  },
  {
   "cell_type": "markdown",
   "metadata": {},
   "source": [
    "## Set up the loss function and optimizer"
   ]
  },
  {
   "cell_type": "code",
   "execution_count": 11,
   "metadata": {},
   "outputs": [],
   "source": [
    "import torch.nn as nn\n",
    "import torch.optim as optim\n",
    "\n",
    "# hyperparameters, do NOT change right now\n",
    "# initial learning rate\n",
    "WARMUP_LR = .01\n",
    "\n",
    "# momentum for optimizer\n",
    "MOMENTUM = 0.9\n",
    "\n",
    "# L2 or L1 regularization strength\n",
    "REG = 5e-4\n",
    "\n",
    "#############################################\n",
    "# your code here\n",
    "# create loss function\n",
    "criterion = nn.CrossEntropyLoss()\n",
    "\n",
    "# Add optimizer\n",
    "#optimizer for L2 regularization\n",
    "optimizer = optim.SGD(cnn.parameters(), lr=WARMUP_LR, momentum=MOMENTUM, weight_decay=REG)\n",
    "#optimizer for L1 regularization\n",
    "#optimizer = optim.SGD(cnn.parameters(), lr=INITIAL_LR, momentum=MOMENTUM)\n",
    "#############################################"
   ]
  },
  {
   "cell_type": "markdown",
   "metadata": {
    "tags": []
   },
   "source": [
    "## Start the training process."
   ]
  },
  {
   "cell_type": "code",
   "execution_count": null,
   "metadata": {
    "tags": []
   },
   "outputs": [
    {
     "name": "stdout",
     "output_type": "stream",
     "text": [
      "==> Training starts!\n",
      "==================================================\n",
      "Epoch 0:\n"
     ]
    }
   ],
   "source": [
    "# some hyperparameters\n",
    "# total number of training epochs\n",
    "EPOCHS = 150\n",
    "\n",
    "# the folder where the trained model is saved\n",
    "CHECKPOINT_FOLDER = \"./saved_model\"\n",
    "\n",
    "# start the training/validation process\n",
    "# the process should take about 5 minutes on a GTX 1070-Ti\n",
    "# if the code is written efficiently.\n",
    "best_val_acc = 0\n",
    "current_learning_rate = WARMUP_LR\n",
    "INITAL_LR = .1\n",
    "DECAY_EPOCHS = 60\n",
    "DECAY = .1\n",
    "\n",
    "\n",
    "print(\"==> Training starts!\")\n",
    "print(\"=\"*50)\n",
    "for i in range(0, EPOCHS):\n",
    "    # handle the learning rate scheduler.\n",
    "    if i == 5:\n",
    "        current_learning_rate = INITAL_LR\n",
    "\n",
    "    if i % DECAY_EPOCHS == 0 and i != 0:\n",
    "        current_learning_rate = current_learning_rate * DECAY\n",
    "        for param_group in optimizer.param_groups:\n",
    "            param_group['lr'] = current_learning_rate\n",
    "        print(\"Current learning rate has decayed to %f\" %current_learning_rate)\n",
    "    \n",
    "    #######################\n",
    "    # your code here\n",
    "    # switch to train mode\n",
    "    \n",
    "    cnn.train()\n",
    "    \n",
    "    #######################\n",
    "    \n",
    "    print(\"Epoch %d:\" %i)\n",
    "    # this help you compute the training accuracy\n",
    "    total_examples = 0\n",
    "    correct_examples = 0\n",
    "\n",
    "    train_loss = 0 # track training loss if you want\n",
    "    \n",
    "    # Train the model for 1 epoch.\n",
    "    for batch_idx, (inputs, targets) in enumerate(train_loader):\n",
    "        ####################################\n",
    "        # your code here\n",
    "        # copy inputs to device\n",
    "        inputs = inputs.to(device) \n",
    "        targets = targets.type(torch.LongTensor)   #Cast target to long tensor type\n",
    "        targets = targets.to(device)\n",
    "        \n",
    "        # compute the output and loss\n",
    "        output = cnn.forward(inputs)\n",
    "        #   loss function for L2 Regularization (reg is handled in the optimizer)\n",
    "        loss = criterion(output, targets)   #Pass in softmax of final FC layer output for cross-entropy loss\n",
    "        #   loss function for L1 Regularization\n",
    "        #L1norm = sum(torch.sum(torch.abs(p)) for p in cnn.parameters())\n",
    "        #loss = criterion(output, targets) + REG * L1norm\n",
    "        if i == 0 and batch_idx < 3:\n",
    "            print(f\"Loss after {batch_idx} batches: {loss}\")\n",
    "        train_loss += loss\n",
    "        \n",
    "        # zero the gradient\n",
    "        optimizer.zero_grad()\n",
    "        \n",
    "        # backpropagation\n",
    "        loss.backward()\n",
    "        \n",
    "        # apply gradient and update the weights\n",
    "        optimizer.step()\n",
    "        \n",
    "        # count the number of correctly predicted samples in the current batch\n",
    "        total_examples += targets.size()[0]\n",
    "        batch_preds = torch.argmax(output, dim=1)\n",
    "        correct_examples += (batch_preds == targets).int().sum().item()\n",
    "        ####################################\n",
    "                \n",
    "    avg_loss = train_loss / len(train_loader)\n",
    "    avg_acc = correct_examples / total_examples\n",
    "    print(\"Training loss: %.4f, Training accuracy: %.4f\" %(avg_loss, avg_acc))\n",
    "\n",
    "    # Validate on the validation dataset\n",
    "    #######################\n",
    "    # your code here\n",
    "    # switch to eval mode\n",
    "    \n",
    "    cnn.eval()\n",
    "    \n",
    "    #######################\n",
    "\n",
    "    # this help you compute the validation accuracy\n",
    "    total_examples = 0\n",
    "    correct_examples = 0\n",
    "    \n",
    "    val_loss = 0 # again, track the validation loss if you want\n",
    "\n",
    "    # disable gradient during validation, which can save GPU memory\n",
    "\n",
    "    with torch.no_grad():\n",
    "        for batch_idx, (inputs, targets) in enumerate(val_loader):\n",
    "            if batch_idx < 45:      # save the last 5 validation batches for testing later\n",
    "                ####################################\n",
    "                # your code here\n",
    "                # copy inputs to device\n",
    "\n",
    "                inputs = inputs.to(device)\n",
    "                targets = targets.type(torch.LongTensor)\n",
    "                targets = targets.to(device)\n",
    "\n",
    "                # compute the output and loss\n",
    "                output = cnn.forward(inputs)\n",
    "                loss = criterion(output, targets)\n",
    "                val_loss += loss\n",
    "                \n",
    "                # count the number of correctly predicted samples in the current batch\n",
    "                total_examples += targets.size()[0]\n",
    "                batch_preds = torch.argmax(output, dim=1)\n",
    "                correct_examples += (batch_preds == targets).int().sum().item()\n",
    "                ####################################\n",
    "\n",
    "    avg_loss = val_loss / 45\n",
    "    avg_acc = correct_examples / total_examples\n",
    "    print(\"Validation loss: %.4f, Validation accuracy: %.4f\" % (avg_loss, avg_acc))\n",
    "    \n",
    "    # save the model checkpoint\n",
    "#     if avg_acc > best_val_acc:\n",
    "#         best_val_acc = avg_acc\n",
    "#         if not os.path.exists(CHECKPOINT_FOLDER):\n",
    "#            os.makedirs(CHECKPOINT_FOLDER)\n",
    "#         print(\"Saving ...\")\n",
    "#         state = {'state_dict': cnn.state_dict(),\n",
    "#                 'epoch': i,\n",
    "#                 'lr': current_learning_rate}\n",
    "#         torch.save(state, os.path.join(CHECKPOINT_FOLDER, 'resnet20.pth'))\n",
    "        \n",
    "#     print('')\n",
    "\n",
    "print(\"=\"*50)\n",
    "print(f\"==> Optimization finished! Best validation accuracy: {best_val_acc:.4f}\")"
   ]
  },
  {
   "cell_type": "markdown",
   "metadata": {},
   "source": [
    "### Find max softmax statistics for in-distribution testing examples"
   ]
  },
  {
   "cell_type": "code",
   "execution_count": 12,
   "metadata": {},
   "outputs": [
    {
     "name": "stdout",
     "output_type": "stream",
     "text": [
      "0.916\n"
     ]
    }
   ],
   "source": [
    "cnn = Resnet20().to(device)\n",
    "cnn.load_state_dict(torch.load(\"saved_model/resnet20.pth\")[\"state_dict\"])\n",
    "cnn.eval()\n",
    "\n",
    "total_examples = 0\n",
    "correct_examples = 0\n",
    "val_loss = 0 \n",
    "corr_max_softs = []\n",
    "fals_max_softs = []\n",
    "with torch.no_grad():\n",
    "    for batch_idx, (inputs, targets) in enumerate(val_loader):\n",
    "        if batch_idx >= 45:    #only use the examples reserved for testing\n",
    "            # copy inputs to device\n",
    "            inputs = inputs.to(device)\n",
    "            targets = targets.type(torch.LongTensor)\n",
    "            targets = targets.to(device)\n",
    "            # compute the output and loss\n",
    "            output = cnn.forward(inputs)\n",
    "            softmax = F.softmax(output, dim=1)\n",
    "            loss = criterion(output, targets)\n",
    "            val_loss += loss\n",
    "            # count the number of correctly predicted samples in the current batch\n",
    "            total_examples += targets.size()[0]\n",
    "            batch_preds = torch.argmax(output, dim=1)\n",
    "            correct_mask = (batch_preds == targets)\n",
    "            correct_examples += correct_mask.int().sum().item()\n",
    "\n",
    "            soft_batch_preds = torch.argmax(softmax, dim=1)\n",
    "            for i in range(len(correct_mask)):\n",
    "                if correct_mask[i]:\n",
    "                    corr_max_softs.append(softmax[i][soft_batch_preds[i]].item())\n",
    "                else:\n",
    "                    fals_max_softs.append(softmax[i][soft_batch_preds[i]].item())\n",
    "\n",
    "print(correct_examples/total_examples)"
   ]
  },
  {
   "cell_type": "markdown",
   "metadata": {},
   "source": [
    "#### ROC Curve to show if softmax can be used to show misclassifications of in-distribution samples"
   ]
  },
  {
   "cell_type": "code",
   "execution_count": 33,
   "metadata": {},
   "outputs": [],
   "source": [
    "import numpy as np\n",
    "# true positive here is defined as correctly classifying a prediction as erroneous\n",
    "def plot_roc(false_softs, true_softs, title = \"ROC Curve\", show_95TPR = True, show_OPT = False):\n",
    "    TPRs = []     #  true positive rates\n",
    "    FPRs = []     # false positive rates\n",
    "    AUROC = []    # will contain the AUROC approximation segments\n",
    "    opt = {\"thresh\":-1, \"diff\":-1, \"FPR\":-1, \"TPR\":-1}\n",
    "    FPR_at_TPR95 = -1\n",
    "    prev_FPR = 0\n",
    "    for i in np.linspace(0, 1, 1000):\n",
    "        TPR = sum(false_softs < i)/len(false_softs)\n",
    "        FPR = sum(true_softs < i)/len(true_softs)\n",
    "        AUROC.append((FPR-prev_FPR)*TPR)\n",
    "        prev_FPR = FPR\n",
    "        if round(TPR,2) == .95:\n",
    "            FPR_at_TPR95 = FPR\n",
    "        TPRs.append(TPR)\n",
    "        FPRs.append(FPR)\n",
    "        if TPR-FPR > opt[\"diff\"]:\n",
    "            opt[\"thresh\"], opt[\"diff\"], opt[\"FPR\"], opt[\"TPR\"]  = i, TPR-FPR, FPR, TPR\n",
    "    plt.plot(FPRs, TPRs, 'm')\n",
    "    plt.plot([0,1], [0,1], \"k--\", linewidth=.5)\n",
    "    plt.xlabel(\"False Positive Rate\")\n",
    "    plt.ylabel(\"True Positive Rate\")\n",
    "    plt.title(title)\n",
    "    if show_95TPR:\n",
    "        plt.plot(FPR_at_TPR95, .95, 'X', ms=11, label=f\"FPR@95TPR: {round(FPR_at_TPR95,3)}\")\n",
    "    if show_OPT:\n",
    "        plt.plot(opt[\"FPR\"], opt[\"TPR\"], 'X', ms=11, label=f\"OPT Thresh: {round(opt['thresh'],3)}\")\n",
    "        print(opt)\n",
    "    plt.legend()\n",
    "    plt.show()\n",
    "    print(f\"AUROC: {sum(AUROC)}\")"
   ]
  },
  {
   "cell_type": "code",
   "execution_count": 34,
   "metadata": {},
   "outputs": [
    {
     "data": {
      "image/png": "[encoded data removed]",
      "text/plain": [
       "<Figure size 432x288 with 1 Axes>"
      ]
     },
     "metadata": {
      "needs_background": "light"
     },
     "output_type": "display_data"
    },
    {
     "name": "stdout",
     "output_type": "stream",
     "text": [
      "AUROC: 0.885215221459763\n"
     ]
    }
   ],
   "source": [
    "plot_roc(fals_max_softs, corr_max_softs, title=\"ROC Curve\\n (TP = correctly classifying erroneous prediction as erroneous)\")"
   ]
  },
  {
   "cell_type": "markdown",
   "metadata": {},
   "source": [
    "# OOD Detection on CIFAR-100"
   ]
  },
  {
   "cell_type": "code",
   "execution_count": 13,
   "metadata": {},
   "outputs": [
    {
     "name": "stdout",
     "output_type": "stream",
     "text": [
      "Downloading https://www.cs.toronto.edu/~kriz/cifar-100-python.tar.gz to ./data\\cifar-100-python.tar.gz\n"
     ]
    },
    {
     "data": {
      "application/vnd.jupyter.widget-view+json": {
       "model_id": "c37bf2408b0048f1bb6a22030230432d",
       "version_major": 2,
       "version_minor": 0
      },
      "text/plain": [
       "  0%|          | 0/169001437 [00:00<?, ?it/s]"
      ]
     },
     "metadata": {},
     "output_type": "display_data"
    },
    {
     "name": "stdout",
     "output_type": "stream",
     "text": [
      "Extracting ./data\\cifar-100-python.tar.gz to ./data\n"
     ]
    }
   ],
   "source": [
    "from torchvision.datasets import CIFAR100\n",
    "\n",
    "cifar100_set = CIFAR100(\n",
    "    root=DATA_ROOT,\n",
    "    train=False,\n",
    "    transform=transform_visulaizer,\n",
    "    download=True\n",
    ")\n",
    "\n",
    "cifar100_loader = DataLoader(\n",
    "    cifar100_set\n",
    ")"
   ]
  },
  {
   "cell_type": "code",
   "execution_count": 14,
   "metadata": {},
   "outputs": [
    {
     "name": "stdout",
     "output_type": "stream",
     "text": [
      "0/10000\n",
      "1000/10000\n",
      "2000/10000\n",
      "3000/10000\n",
      "4000/10000\n",
      "5000/10000\n",
      "6000/10000\n",
      "7000/10000\n",
      "8000/10000\n",
      "9000/10000\n"
     ]
    }
   ],
   "source": [
    "OOD_softs = []\n",
    "with torch.no_grad():\n",
    "    for i, (img, target) in enumerate(cifar100_loader):\n",
    "        img = img.to(device)\n",
    "        target = target.type(torch.LongTensor)\n",
    "        target = target.to(device)\n",
    "\n",
    "        output = cnn.forward(img)\n",
    "        softmax = F.softmax(output, dim=1)\n",
    "        OOD_softs.append(softmax[0][torch.argmax(softmax)].item())\n",
    "        batch_pred = torch.argmax(output, dim=1)\n",
    "        if i%1000 == 0:\n",
    "            print(f\"{i}/{len(cifar100_loader)}\")\n",
    "            \n",
    "InD_softs = fals_max_softs + corr_max_softs"
   ]
  },
  {
   "cell_type": "code",
   "execution_count": 15,
   "metadata": {},
   "outputs": [
    {
     "data": {
      "image/png": "[encoded data removed]",
      "text/plain": [
       "<Figure size 432x288 with 1 Axes>"
      ]
     },
     "metadata": {
      "needs_background": "light"
     },
     "output_type": "display_data"
    },
    {
     "name": "stdout",
     "output_type": "stream",
     "text": [
      "{'thresh': 0.975975975975976, 'diff': 0.7728999999999999, 'FPR': 0.198, 'TPR': 0.9709}\n"
     ]
    }
   ],
   "source": [
    "plot_roc(OOD_softs, InD_softs)"
   ]
  },
  {
   "cell_type": "code",
   "execution_count": 136,
   "metadata": {},
   "outputs": [],
   "source": [
    "#unseen_lbls = list(np.linspace(0,99,100))\n",
    "# with torch.no_grad():\n",
    "#     for i, (img, target) in enumerate(cifar100_loader):\n",
    "#         #if target.item() in unseen_lbls:\n",
    "#         if target.item() == 81:\n",
    "#             plt.imshow(torch.permute(torch.squeeze(img), (1,2,0)).cpu().numpy())\n",
    "#             plt.show()\n",
    "#             print(target.item())\n",
    "#             #unseen_lbls.remove(target.item())"
   ]
  },
  {
   "cell_type": "code",
   "execution_count": null,
   "metadata": {},
   "outputs": [],
   "source": []
  },
  {
   "cell_type": "code",
   "execution_count": null,
   "metadata": {},
   "outputs": [],
   "source": []
  }
 ],
 "metadata": {
  "kernelspec": {
   "display_name": "Python 3 (ipykernel)",
   "language": "python",
   "name": "python3"
  },
  "language_info": {
   "codemirror_mode": {
    "name": "ipython",
    "version": 3
   },
   "file_extension": ".py",
   "mimetype": "text/x-python",
   "name": "python",
   "nbconvert_exporter": "python",
   "pygments_lexer": "ipython3",
   "version": "3.9.12"
  }
 },
 "nbformat": 4,
 "nbformat_minor": 4
}
