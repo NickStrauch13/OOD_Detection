{
 "cells": [
  {
   "cell_type": "code",
   "execution_count": 24,
   "id": "1e15ba8f-e629-4f5b-947d-53a3e20c8f0d",
   "metadata": {},
   "outputs": [],
   "source": [
    "import argparse\n",
    "import os, sys\n",
    "import time\n",
    "import datetime\n",
    "import numpy as np\n",
    "from tqdm import tqdm_notebook as tqdm\n",
    "\n",
    "import torch\n",
    "import torch.nn as nn\n",
    "import torch.nn.functional as F\n",
    "import matplotlib.pyplot as plt\n",
    "from Resnet20model import Resnet20"
   ]
  },
  {
   "cell_type": "code",
   "execution_count": 25,
   "id": "88923943-0591-4fda-a8e2-ae891f54adcb",
   "metadata": {},
   "outputs": [
    {
     "name": "stdout",
     "output_type": "stream",
     "text": [
      "tensor([[ 0.1705,  0.1036, -0.1232, -0.3745,  0.2621,  0.4375, -0.2515,  0.5034,\n",
      "          0.1476, -0.2024]], grad_fn=<AddmmBackward0>)\n",
      "Total Number of Parameters: 273067\n"
     ]
    }
   ],
   "source": [
    "#############################################\n",
    "# sanity check for the correctness of Resnet20 architecture\n",
    "dummy_input = torch.ones((1,3,32,32))\n",
    "dummy_instance = Resnet20()\n",
    "print(dummy_instance.forward(dummy_input))\n",
    "total_params = 1\n",
    "for p in dummy_instance.parameters():\n",
    "    temp = 1\n",
    "    for s in p.size():\n",
    "        temp *= s\n",
    "    total_params += temp\n",
    "    #print(p.size())\n",
    "print(f\"Total Number of Parameters: {total_params}\")\n",
    "#############################################"
   ]
  },
  {
   "cell_type": "code",
   "execution_count": 26,
   "id": "eb6432a0-ec77-4c97-a693-2dad50ed8865",
   "metadata": {},
   "outputs": [],
   "source": [
    "import torchvision\n",
    "import torchvision.transforms as transforms\n",
    "from torchvision.datasets import CIFAR10 as torchCIFAR10\n",
    "\n",
    "mean = (0.4914, 0.4822, 0.4465)\n",
    "std = (0.2023, 0.1994, 0.2010)\n",
    "rndimg_mean = (136.289, 129.273,122.668)\n",
    "rndimg_std  = (49.770, 49.016, 49.5022508)\n",
    "\n",
    "# specify preprocessing function\n",
    "transform_train = transforms.Compose([transforms.ToTensor(), transforms.Normalize(mean, std),\n",
    "                                     transforms.RandomCrop(size=32, padding=4),\n",
    "                                     transforms.RandomHorizontalFlip()])\n",
    "tensor_transform_train = transforms.Compose([transforms.Normalize(rndimg_mean, rndimg_std),\n",
    "                                     transforms.RandomCrop(size=32, padding=4),\n",
    "                                     transforms.RandomHorizontalFlip()])\n",
    "\n",
    "transform_val = transforms.Compose([transforms.ToTensor(), transforms.Normalize(mean, std)])\n",
    "\n",
    "transform_test = transforms.Compose([transforms.ToTensor(), transforms.Normalize(mean, std)])\n",
    "\n",
    "transform_visulaizer = transforms.Compose([transforms.ToTensor()])"
   ]
  },
  {
   "cell_type": "code",
   "execution_count": 27,
   "id": "cb0e9fe7-8519-4b2b-b122-75f513d08e9a",
   "metadata": {},
   "outputs": [],
   "source": [
    "# Custom dataset class for tensor datasets. (Allows transforms)\n",
    "\n",
    "class OODTensorDataset:\n",
    "    def __init__(self, tensor_data, transforms=None):\n",
    "        self.tensors = tensor_data\n",
    "        self.transforms = transforms\n",
    "    \n",
    "    def __getitem__(self, index):   \n",
    "        x = self.tensors[index]\n",
    "        if self.transforms:\n",
    "            x = self.transforms(x)\n",
    "        return x, -1                 # returing -1 for OOD labels to signify that they dont matter\n",
    "    \n",
    "    def __len__(self):\n",
    "        return self.tensors.size()[0]\n"
   ]
  },
  {
   "cell_type": "markdown",
   "id": "75423733-28ca-4410-a5b6-09fdd1691433",
   "metadata": {},
   "source": [
    "##### Set up Data loaders"
   ]
  },
  {
   "cell_type": "code",
   "execution_count": 45,
   "id": "9787c69d-f7f7-4da9-aad6-7eb89a5f7967",
   "metadata": {},
   "outputs": [
    {
     "name": "stdout",
     "output_type": "stream",
     "text": [
      "Files already downloaded and verified\n",
      "Files already downloaded and verified\n",
      "Files already downloaded and verified\n"
     ]
    }
   ],
   "source": [
    "from tools.dataset import CIFAR10\n",
    "from torch.utils.data import DataLoader\n",
    "from torchvision.datasets import CIFAR100\n",
    "\n",
    "DATA_ROOT = \"./data\"\n",
    "RANDOM_IMGS = \"./data/300K_random_images.npy\"\n",
    "TRAIN_BATCH_SIZE = 128\n",
    "TEST_BATCH_SIZE = 100\n",
    "OOD_BATCH_SIZE = 256\n",
    "\n",
    "# construct dataset\n",
    "random_images_data = torch.permute(torch.from_numpy(np.load(RANDOM_IMGS)), (0,3,1,2)).float()  \n",
    "rand_img_set = OODTensorDataset(\n",
    "    random_images_data,\n",
    "    tensor_transform_train\n",
    ")\n",
    "torch_train_set = torchCIFAR10(\n",
    "    root=DATA_ROOT,\n",
    "    train=True,\n",
    "    transform=transform_train,\n",
    "    download=True\n",
    ")\n",
    "torch_test_set = torchCIFAR10(\n",
    "    root=DATA_ROOT,\n",
    "    train=False,\n",
    "    transform=transform_test,\n",
    "    download=True\n",
    ")\n",
    "torch_vis_set = torchCIFAR10(\n",
    "    root=DATA_ROOT,\n",
    "    train=False,\n",
    "    transform=transform_visulaizer,\n",
    "    download=True\n",
    ")\n",
    "\n",
    "\n",
    "# construct dataloader\n",
    "train_loader_ood = DataLoader(\n",
    "    rand_img_set,\n",
    "    batch_size = OOD_BATCH_SIZE,\n",
    "    shuffle = True\n",
    ")\n",
    "train_loader = DataLoader(\n",
    "    torch_train_set,\n",
    "    batch_size = TRAIN_BATCH_SIZE\n",
    ")\n",
    "test_loader = DataLoader(\n",
    "    torch_test_set,\n",
    "    batch_size = TEST_BATCH_SIZE\n",
    ")\n",
    "torch_visualizer_loader = DataLoader(\n",
    "    torch_vis_set\n",
    ")"
   ]
  },
  {
   "cell_type": "code",
   "execution_count": 30,
   "id": "281724ab-43a3-4553-9c2d-ea40de42795a",
   "metadata": {},
   "outputs": [
    {
     "name": "stdout",
     "output_type": "stream",
     "text": [
      "[136.28933887 129.27387598 122.66873633]\n",
      "[49.770384   49.01616154 49.5022508 ]\n"
     ]
    }
   ],
   "source": [
    "def estimate_mean_and_std(npdata, N=1000):\n",
    "    pavg   = np.array([0.0, 0.0, 0.0])\n",
    "    stdavg = np.array([0.0, 0.0, 0.0])\n",
    "    for img in npdata[0:N]:\n",
    "        scale = 1/(img.shape[0]*img.shape[1])\n",
    "        pavg += np.sum(img*scale,(0,1))*(1/N)\n",
    "    print(pavg)\n",
    "        #pavg_sq += np.sum((img**2)*scale,(0,1))*(1/N)\n",
    "    #std = np.sqrt(pavg_sq-(pavg**2))\n",
    "    for img in npdata[0:N]:\n",
    "        # scale = 1/(img.shape[0]*img.shape[1])\n",
    "        # sqdiff = np.subtract(img, pavg)**2\n",
    "        # std = np.sqrt(np.sum(sqdiff,(0,1))*scale)\n",
    "        stdavg += np.std(img,(0,1)) *(1/N)\n",
    "    \n",
    "    print(stdavg)\n",
    "estimate_mean_and_std(np.load(RANDOM_IMGS).astype(\"int32\"))"
   ]
  },
  {
   "cell_type": "code",
   "execution_count": 31,
   "id": "f8e3fdb6-6371-4c3d-83df-c1e36dd6e458",
   "metadata": {},
   "outputs": [
    {
     "name": "stdout",
     "output_type": "stream",
     "text": [
      "cuda:0\n"
     ]
    }
   ],
   "source": [
    "# specify the device for computation\n",
    "device = torch.device(\"cuda:0\" if torch.cuda.is_available() else \"cpu\")\n",
    "print(device)"
   ]
  },
  {
   "cell_type": "code",
   "execution_count": 40,
   "id": "3f879202-c465-4058-8da0-8447601cab8f",
   "metadata": {},
   "outputs": [],
   "source": [
    "net = Resnet20().to(device)\n",
    "#net.load_state_dict(torch.load(\"saved_model/resnet20.pth\")[\"state_dict\"])"
   ]
  },
  {
   "cell_type": "code",
   "execution_count": 41,
   "id": "3a5dd508-6120-46b7-8c88-bbd475382d52",
   "metadata": {},
   "outputs": [],
   "source": [
    "import torch.nn as nn\n",
    "import torch.optim as optim\n",
    "\n",
    "WARMUP_LR = .01\n",
    "MOMENTUM = 0.9\n",
    "REG = 5e-4\n",
    "optimizer = optim.SGD(net.parameters(), lr=WARMUP_LR, momentum=MOMENTUM, weight_decay=REG)\n",
    "\n",
    "EPOCHS = 100\n",
    "CHECKPOINT_FOLDER = \"./saved_model\"\n",
    "INITAL_LR = .1\n",
    "DECAY_EPOCHS = 60\n",
    "DECAY = .1\n",
    "# INITAL_LR = .01\n",
    "# DECAY_EPOCHS = 60\n",
    "# DECAY = .1"
   ]
  },
  {
   "cell_type": "code",
   "execution_count": 42,
   "id": "e167f0d2-42c2-4156-bb25-1b88295faedd",
   "metadata": {
    "tags": []
   },
   "outputs": [
    {
     "name": "stdout",
     "output_type": "stream",
     "text": [
      "Epoch: 0/100\n",
      "avg training loss: 2.541567147166714\n",
      "Validation loss: 1.2743, Validation accuracy: 0.5504\n",
      "Saving ...\n",
      "Epoch: 1/100\n",
      "avg training loss: 2.2424988746643066\n",
      "Validation loss: 0.9705, Validation accuracy: 0.6668\n",
      "Saving ...\n",
      "Epoch: 2/100\n",
      "avg training loss: 2.1015665531158447\n",
      "Validation loss: 0.9415, Validation accuracy: 0.7036\n",
      "Saving ...\n",
      "Epoch: 3/100\n",
      "avg training loss: 2.0178918838500977\n",
      "Validation loss: 0.8582, Validation accuracy: 0.7260\n",
      "Saving ...\n",
      "Epoch: 4/100\n",
      "avg training loss: 1.9493374824523926\n",
      "Validation loss: 0.8074, Validation accuracy: 0.7436\n",
      "Saving ...\n",
      "Epoch: 5/100\n",
      "avg training loss: 1.8919341564178467\n",
      "Validation loss: 0.6900, Validation accuracy: 0.7888\n",
      "Saving ...\n",
      "Epoch: 6/100\n"
     ]
    },
    {
     "ename": "KeyboardInterrupt",
     "evalue": "",
     "output_type": "error",
     "traceback": [
      "\u001b[1;31m---------------------------------------------------------------------------\u001b[0m",
      "\u001b[1;31mKeyboardInterrupt\u001b[0m                         Traceback (most recent call last)",
      "Input \u001b[1;32mIn [42]\u001b[0m, in \u001b[0;36m<cell line: 83>\u001b[1;34m()\u001b[0m\n\u001b[0;32m     77\u001b[0m             state \u001b[38;5;241m=\u001b[39m {\u001b[38;5;124m'\u001b[39m\u001b[38;5;124mstate_dict\u001b[39m\u001b[38;5;124m'\u001b[39m: net\u001b[38;5;241m.\u001b[39mstate_dict(),\n\u001b[0;32m     78\u001b[0m                     \u001b[38;5;124m'\u001b[39m\u001b[38;5;124mepoch\u001b[39m\u001b[38;5;124m'\u001b[39m: i,\n\u001b[0;32m     79\u001b[0m                     \u001b[38;5;124m'\u001b[39m\u001b[38;5;124mlr\u001b[39m\u001b[38;5;124m'\u001b[39m: current_learning_rate}\n\u001b[0;32m     80\u001b[0m             torch\u001b[38;5;241m.\u001b[39msave(state, os\u001b[38;5;241m.\u001b[39mpath\u001b[38;5;241m.\u001b[39mjoin(CHECKPOINT_FOLDER, \u001b[38;5;124m'\u001b[39m\u001b[38;5;124mOE_resnet20.pth\u001b[39m\u001b[38;5;124m'\u001b[39m))\n\u001b[1;32m---> 83\u001b[0m \u001b[43mtrain\u001b[49m\u001b[43m(\u001b[49m\u001b[43m)\u001b[49m\n",
      "Input \u001b[1;32mIn [42]\u001b[0m, in \u001b[0;36mtrain\u001b[1;34m()\u001b[0m\n\u001b[0;32m     16\u001b[0m net\u001b[38;5;241m.\u001b[39mtrain()\n\u001b[0;32m     18\u001b[0m \u001b[38;5;28mprint\u001b[39m(\u001b[38;5;124mf\u001b[39m\u001b[38;5;124m\"\u001b[39m\u001b[38;5;124mEpoch: \u001b[39m\u001b[38;5;132;01m{\u001b[39;00mi\u001b[38;5;132;01m}\u001b[39;00m\u001b[38;5;124m/\u001b[39m\u001b[38;5;132;01m{\u001b[39;00mEPOCHS\u001b[38;5;132;01m}\u001b[39;00m\u001b[38;5;124m\"\u001b[39m)\n\u001b[1;32m---> 19\u001b[0m \u001b[38;5;28;01mfor\u001b[39;00m in_set, out_set \u001b[38;5;129;01min\u001b[39;00m \u001b[38;5;28mzip\u001b[39m(train_loader, train_loader_ood):\n\u001b[0;32m     20\u001b[0m     data \u001b[38;5;241m=\u001b[39m torch\u001b[38;5;241m.\u001b[39mcat((in_set[\u001b[38;5;241m0\u001b[39m], out_set[\u001b[38;5;241m0\u001b[39m]), \u001b[38;5;241m0\u001b[39m)\n\u001b[0;32m     21\u001b[0m     target \u001b[38;5;241m=\u001b[39m in_set[\u001b[38;5;241m1\u001b[39m]\u001b[38;5;241m.\u001b[39mtype(torch\u001b[38;5;241m.\u001b[39mLongTensor)\n",
      "File \u001b[1;32m~\\anaconda3\\lib\\site-packages\\torch\\utils\\data\\dataloader.py:681\u001b[0m, in \u001b[0;36m_BaseDataLoaderIter.__next__\u001b[1;34m(self)\u001b[0m\n\u001b[0;32m    678\u001b[0m \u001b[38;5;28;01mif\u001b[39;00m \u001b[38;5;28mself\u001b[39m\u001b[38;5;241m.\u001b[39m_sampler_iter \u001b[38;5;129;01mis\u001b[39;00m \u001b[38;5;28;01mNone\u001b[39;00m:\n\u001b[0;32m    679\u001b[0m     \u001b[38;5;66;03m# TODO(https://github.com/pytorch/pytorch/issues/76750)\u001b[39;00m\n\u001b[0;32m    680\u001b[0m     \u001b[38;5;28mself\u001b[39m\u001b[38;5;241m.\u001b[39m_reset()  \u001b[38;5;66;03m# type: ignore[call-arg]\u001b[39;00m\n\u001b[1;32m--> 681\u001b[0m data \u001b[38;5;241m=\u001b[39m \u001b[38;5;28;43mself\u001b[39;49m\u001b[38;5;241;43m.\u001b[39;49m\u001b[43m_next_data\u001b[49m\u001b[43m(\u001b[49m\u001b[43m)\u001b[49m\n\u001b[0;32m    682\u001b[0m \u001b[38;5;28mself\u001b[39m\u001b[38;5;241m.\u001b[39m_num_yielded \u001b[38;5;241m+\u001b[39m\u001b[38;5;241m=\u001b[39m \u001b[38;5;241m1\u001b[39m\n\u001b[0;32m    683\u001b[0m \u001b[38;5;28;01mif\u001b[39;00m \u001b[38;5;28mself\u001b[39m\u001b[38;5;241m.\u001b[39m_dataset_kind \u001b[38;5;241m==\u001b[39m _DatasetKind\u001b[38;5;241m.\u001b[39mIterable \u001b[38;5;129;01mand\u001b[39;00m \\\n\u001b[0;32m    684\u001b[0m         \u001b[38;5;28mself\u001b[39m\u001b[38;5;241m.\u001b[39m_IterableDataset_len_called \u001b[38;5;129;01mis\u001b[39;00m \u001b[38;5;129;01mnot\u001b[39;00m \u001b[38;5;28;01mNone\u001b[39;00m \u001b[38;5;129;01mand\u001b[39;00m \\\n\u001b[0;32m    685\u001b[0m         \u001b[38;5;28mself\u001b[39m\u001b[38;5;241m.\u001b[39m_num_yielded \u001b[38;5;241m>\u001b[39m \u001b[38;5;28mself\u001b[39m\u001b[38;5;241m.\u001b[39m_IterableDataset_len_called:\n",
      "File \u001b[1;32m~\\anaconda3\\lib\\site-packages\\torch\\utils\\data\\dataloader.py:721\u001b[0m, in \u001b[0;36m_SingleProcessDataLoaderIter._next_data\u001b[1;34m(self)\u001b[0m\n\u001b[0;32m    719\u001b[0m \u001b[38;5;28;01mdef\u001b[39;00m \u001b[38;5;21m_next_data\u001b[39m(\u001b[38;5;28mself\u001b[39m):\n\u001b[0;32m    720\u001b[0m     index \u001b[38;5;241m=\u001b[39m \u001b[38;5;28mself\u001b[39m\u001b[38;5;241m.\u001b[39m_next_index()  \u001b[38;5;66;03m# may raise StopIteration\u001b[39;00m\n\u001b[1;32m--> 721\u001b[0m     data \u001b[38;5;241m=\u001b[39m \u001b[38;5;28;43mself\u001b[39;49m\u001b[38;5;241;43m.\u001b[39;49m\u001b[43m_dataset_fetcher\u001b[49m\u001b[38;5;241;43m.\u001b[39;49m\u001b[43mfetch\u001b[49m\u001b[43m(\u001b[49m\u001b[43mindex\u001b[49m\u001b[43m)\u001b[49m  \u001b[38;5;66;03m# may raise StopIteration\u001b[39;00m\n\u001b[0;32m    722\u001b[0m     \u001b[38;5;28;01mif\u001b[39;00m \u001b[38;5;28mself\u001b[39m\u001b[38;5;241m.\u001b[39m_pin_memory:\n\u001b[0;32m    723\u001b[0m         data \u001b[38;5;241m=\u001b[39m _utils\u001b[38;5;241m.\u001b[39mpin_memory\u001b[38;5;241m.\u001b[39mpin_memory(data, \u001b[38;5;28mself\u001b[39m\u001b[38;5;241m.\u001b[39m_pin_memory_device)\n",
      "File \u001b[1;32m~\\anaconda3\\lib\\site-packages\\torch\\utils\\data\\_utils\\fetch.py:49\u001b[0m, in \u001b[0;36m_MapDatasetFetcher.fetch\u001b[1;34m(self, possibly_batched_index)\u001b[0m\n\u001b[0;32m     47\u001b[0m \u001b[38;5;28;01mdef\u001b[39;00m \u001b[38;5;21mfetch\u001b[39m(\u001b[38;5;28mself\u001b[39m, possibly_batched_index):\n\u001b[0;32m     48\u001b[0m     \u001b[38;5;28;01mif\u001b[39;00m \u001b[38;5;28mself\u001b[39m\u001b[38;5;241m.\u001b[39mauto_collation:\n\u001b[1;32m---> 49\u001b[0m         data \u001b[38;5;241m=\u001b[39m [\u001b[38;5;28mself\u001b[39m\u001b[38;5;241m.\u001b[39mdataset[idx] \u001b[38;5;28;01mfor\u001b[39;00m idx \u001b[38;5;129;01min\u001b[39;00m possibly_batched_index]\n\u001b[0;32m     50\u001b[0m     \u001b[38;5;28;01melse\u001b[39;00m:\n\u001b[0;32m     51\u001b[0m         data \u001b[38;5;241m=\u001b[39m \u001b[38;5;28mself\u001b[39m\u001b[38;5;241m.\u001b[39mdataset[possibly_batched_index]\n",
      "File \u001b[1;32m~\\anaconda3\\lib\\site-packages\\torch\\utils\\data\\_utils\\fetch.py:49\u001b[0m, in \u001b[0;36m<listcomp>\u001b[1;34m(.0)\u001b[0m\n\u001b[0;32m     47\u001b[0m \u001b[38;5;28;01mdef\u001b[39;00m \u001b[38;5;21mfetch\u001b[39m(\u001b[38;5;28mself\u001b[39m, possibly_batched_index):\n\u001b[0;32m     48\u001b[0m     \u001b[38;5;28;01mif\u001b[39;00m \u001b[38;5;28mself\u001b[39m\u001b[38;5;241m.\u001b[39mauto_collation:\n\u001b[1;32m---> 49\u001b[0m         data \u001b[38;5;241m=\u001b[39m [\u001b[38;5;28;43mself\u001b[39;49m\u001b[38;5;241;43m.\u001b[39;49m\u001b[43mdataset\u001b[49m\u001b[43m[\u001b[49m\u001b[43midx\u001b[49m\u001b[43m]\u001b[49m \u001b[38;5;28;01mfor\u001b[39;00m idx \u001b[38;5;129;01min\u001b[39;00m possibly_batched_index]\n\u001b[0;32m     50\u001b[0m     \u001b[38;5;28;01melse\u001b[39;00m:\n\u001b[0;32m     51\u001b[0m         data \u001b[38;5;241m=\u001b[39m \u001b[38;5;28mself\u001b[39m\u001b[38;5;241m.\u001b[39mdataset[possibly_batched_index]\n",
      "Input \u001b[1;32mIn [27]\u001b[0m, in \u001b[0;36mOODTensorDataset.__getitem__\u001b[1;34m(self, index)\u001b[0m\n\u001b[0;32m      9\u001b[0m x \u001b[38;5;241m=\u001b[39m \u001b[38;5;28mself\u001b[39m\u001b[38;5;241m.\u001b[39mtensors[index]\n\u001b[0;32m     10\u001b[0m \u001b[38;5;28;01mif\u001b[39;00m \u001b[38;5;28mself\u001b[39m\u001b[38;5;241m.\u001b[39mtransforms:\n\u001b[1;32m---> 11\u001b[0m     x \u001b[38;5;241m=\u001b[39m \u001b[38;5;28;43mself\u001b[39;49m\u001b[38;5;241;43m.\u001b[39;49m\u001b[43mtransforms\u001b[49m\u001b[43m(\u001b[49m\u001b[43mx\u001b[49m\u001b[43m)\u001b[49m\n\u001b[0;32m     12\u001b[0m \u001b[38;5;28;01mreturn\u001b[39;00m x, \u001b[38;5;241m-\u001b[39m\u001b[38;5;241m1\u001b[39m\n",
      "File \u001b[1;32m~\\anaconda3\\lib\\site-packages\\torchvision\\transforms\\transforms.py:94\u001b[0m, in \u001b[0;36mCompose.__call__\u001b[1;34m(self, img)\u001b[0m\n\u001b[0;32m     92\u001b[0m \u001b[38;5;28;01mdef\u001b[39;00m \u001b[38;5;21m__call__\u001b[39m(\u001b[38;5;28mself\u001b[39m, img):\n\u001b[0;32m     93\u001b[0m     \u001b[38;5;28;01mfor\u001b[39;00m t \u001b[38;5;129;01min\u001b[39;00m \u001b[38;5;28mself\u001b[39m\u001b[38;5;241m.\u001b[39mtransforms:\n\u001b[1;32m---> 94\u001b[0m         img \u001b[38;5;241m=\u001b[39m \u001b[43mt\u001b[49m\u001b[43m(\u001b[49m\u001b[43mimg\u001b[49m\u001b[43m)\u001b[49m\n\u001b[0;32m     95\u001b[0m     \u001b[38;5;28;01mreturn\u001b[39;00m img\n",
      "File \u001b[1;32m~\\anaconda3\\lib\\site-packages\\torch\\nn\\modules\\module.py:1130\u001b[0m, in \u001b[0;36mModule._call_impl\u001b[1;34m(self, *input, **kwargs)\u001b[0m\n\u001b[0;32m   1126\u001b[0m \u001b[38;5;66;03m# If we don't have any hooks, we want to skip the rest of the logic in\u001b[39;00m\n\u001b[0;32m   1127\u001b[0m \u001b[38;5;66;03m# this function, and just call forward.\u001b[39;00m\n\u001b[0;32m   1128\u001b[0m \u001b[38;5;28;01mif\u001b[39;00m \u001b[38;5;129;01mnot\u001b[39;00m (\u001b[38;5;28mself\u001b[39m\u001b[38;5;241m.\u001b[39m_backward_hooks \u001b[38;5;129;01mor\u001b[39;00m \u001b[38;5;28mself\u001b[39m\u001b[38;5;241m.\u001b[39m_forward_hooks \u001b[38;5;129;01mor\u001b[39;00m \u001b[38;5;28mself\u001b[39m\u001b[38;5;241m.\u001b[39m_forward_pre_hooks \u001b[38;5;129;01mor\u001b[39;00m _global_backward_hooks\n\u001b[0;32m   1129\u001b[0m         \u001b[38;5;129;01mor\u001b[39;00m _global_forward_hooks \u001b[38;5;129;01mor\u001b[39;00m _global_forward_pre_hooks):\n\u001b[1;32m-> 1130\u001b[0m     \u001b[38;5;28;01mreturn\u001b[39;00m forward_call(\u001b[38;5;241m*\u001b[39m\u001b[38;5;28minput\u001b[39m, \u001b[38;5;241m*\u001b[39m\u001b[38;5;241m*\u001b[39mkwargs)\n\u001b[0;32m   1131\u001b[0m \u001b[38;5;66;03m# Do not call functions when jit is used\u001b[39;00m\n\u001b[0;32m   1132\u001b[0m full_backward_hooks, non_full_backward_hooks \u001b[38;5;241m=\u001b[39m [], []\n",
      "File \u001b[1;32m~\\anaconda3\\lib\\site-packages\\torchvision\\transforms\\transforms.py:269\u001b[0m, in \u001b[0;36mNormalize.forward\u001b[1;34m(self, tensor)\u001b[0m\n\u001b[0;32m    261\u001b[0m \u001b[38;5;28;01mdef\u001b[39;00m \u001b[38;5;21mforward\u001b[39m(\u001b[38;5;28mself\u001b[39m, tensor: Tensor) \u001b[38;5;241m-\u001b[39m\u001b[38;5;241m>\u001b[39m Tensor:\n\u001b[0;32m    262\u001b[0m     \u001b[38;5;124;03m\"\"\"\u001b[39;00m\n\u001b[0;32m    263\u001b[0m \u001b[38;5;124;03m    Args:\u001b[39;00m\n\u001b[0;32m    264\u001b[0m \u001b[38;5;124;03m        tensor (Tensor): Tensor image to be normalized.\u001b[39;00m\n\u001b[1;32m   (...)\u001b[0m\n\u001b[0;32m    267\u001b[0m \u001b[38;5;124;03m        Tensor: Normalized Tensor image.\u001b[39;00m\n\u001b[0;32m    268\u001b[0m \u001b[38;5;124;03m    \"\"\"\u001b[39;00m\n\u001b[1;32m--> 269\u001b[0m     \u001b[38;5;28;01mreturn\u001b[39;00m \u001b[43mF\u001b[49m\u001b[38;5;241;43m.\u001b[39;49m\u001b[43mnormalize\u001b[49m\u001b[43m(\u001b[49m\u001b[43mtensor\u001b[49m\u001b[43m,\u001b[49m\u001b[43m \u001b[49m\u001b[38;5;28;43mself\u001b[39;49m\u001b[38;5;241;43m.\u001b[39;49m\u001b[43mmean\u001b[49m\u001b[43m,\u001b[49m\u001b[43m \u001b[49m\u001b[38;5;28;43mself\u001b[39;49m\u001b[38;5;241;43m.\u001b[39;49m\u001b[43mstd\u001b[49m\u001b[43m,\u001b[49m\u001b[43m \u001b[49m\u001b[38;5;28;43mself\u001b[39;49m\u001b[38;5;241;43m.\u001b[39;49m\u001b[43minplace\u001b[49m\u001b[43m)\u001b[49m\n",
      "File \u001b[1;32m~\\anaconda3\\lib\\site-packages\\torchvision\\transforms\\functional.py:360\u001b[0m, in \u001b[0;36mnormalize\u001b[1;34m(tensor, mean, std, inplace)\u001b[0m\n\u001b[0;32m    357\u001b[0m \u001b[38;5;28;01mif\u001b[39;00m \u001b[38;5;129;01mnot\u001b[39;00m \u001b[38;5;28misinstance\u001b[39m(tensor, torch\u001b[38;5;241m.\u001b[39mTensor):\n\u001b[0;32m    358\u001b[0m     \u001b[38;5;28;01mraise\u001b[39;00m \u001b[38;5;167;01mTypeError\u001b[39;00m(\u001b[38;5;124mf\u001b[39m\u001b[38;5;124m\"\u001b[39m\u001b[38;5;124mimg should be Tensor Image. Got \u001b[39m\u001b[38;5;132;01m{\u001b[39;00m\u001b[38;5;28mtype\u001b[39m(tensor)\u001b[38;5;132;01m}\u001b[39;00m\u001b[38;5;124m\"\u001b[39m)\n\u001b[1;32m--> 360\u001b[0m \u001b[38;5;28;01mreturn\u001b[39;00m \u001b[43mF_t\u001b[49m\u001b[38;5;241;43m.\u001b[39;49m\u001b[43mnormalize\u001b[49m\u001b[43m(\u001b[49m\u001b[43mtensor\u001b[49m\u001b[43m,\u001b[49m\u001b[43m \u001b[49m\u001b[43mmean\u001b[49m\u001b[38;5;241;43m=\u001b[39;49m\u001b[43mmean\u001b[49m\u001b[43m,\u001b[49m\u001b[43m \u001b[49m\u001b[43mstd\u001b[49m\u001b[38;5;241;43m=\u001b[39;49m\u001b[43mstd\u001b[49m\u001b[43m,\u001b[49m\u001b[43m \u001b[49m\u001b[43minplace\u001b[49m\u001b[38;5;241;43m=\u001b[39;49m\u001b[43minplace\u001b[49m\u001b[43m)\u001b[49m\n",
      "File \u001b[1;32m~\\anaconda3\\lib\\site-packages\\torchvision\\transforms\\functional_tensor.py:959\u001b[0m, in \u001b[0;36mnormalize\u001b[1;34m(tensor, mean, std, inplace)\u001b[0m\n\u001b[0;32m    957\u001b[0m \u001b[38;5;28;01mif\u001b[39;00m std\u001b[38;5;241m.\u001b[39mndim \u001b[38;5;241m==\u001b[39m \u001b[38;5;241m1\u001b[39m:\n\u001b[0;32m    958\u001b[0m     std \u001b[38;5;241m=\u001b[39m std\u001b[38;5;241m.\u001b[39mview(\u001b[38;5;241m-\u001b[39m\u001b[38;5;241m1\u001b[39m, \u001b[38;5;241m1\u001b[39m, \u001b[38;5;241m1\u001b[39m)\n\u001b[1;32m--> 959\u001b[0m \u001b[43mtensor\u001b[49m\u001b[38;5;241;43m.\u001b[39;49m\u001b[43msub_\u001b[49m\u001b[43m(\u001b[49m\u001b[43mmean\u001b[49m\u001b[43m)\u001b[49m\u001b[38;5;241;43m.\u001b[39;49m\u001b[43mdiv_\u001b[49m\u001b[43m(\u001b[49m\u001b[43mstd\u001b[49m\u001b[43m)\u001b[49m\n\u001b[0;32m    960\u001b[0m \u001b[38;5;28;01mreturn\u001b[39;00m tensor\n",
      "\u001b[1;31mKeyboardInterrupt\u001b[0m: "
     ]
    }
   ],
   "source": [
    "def train():\n",
    "    avg_loss = 0\n",
    "    best_val_acc = 0\n",
    "    current_learning_rate = WARMUP_LR\n",
    "    train_loader_ood.dataset.offset = np.random.randint(len(train_loader_ood.dataset))\n",
    "    #Learning rate scheduler\n",
    "    for i in range(EPOCHS):\n",
    "        if i == 5:\n",
    "            current_learning_rate = INITAL_LR\n",
    "        if i % DECAY_EPOCHS == 0 and i != 0:\n",
    "            current_learning_rate = current_learning_rate * DECAY\n",
    "            for param_group in optimizer.param_groups:\n",
    "                param_group['lr'] = current_learning_rate\n",
    "            #print(\"Current learning rate has decayed to %f\" %current_learning_rate)\n",
    "    \n",
    "        net.train()\n",
    "        \n",
    "        print(f\"Epoch: {i}/{EPOCHS}\")\n",
    "        for in_set, out_set in zip(train_loader, train_loader_ood):\n",
    "            data = torch.cat((in_set[0], out_set[0]), 0)\n",
    "            target = in_set[1].type(torch.LongTensor)\n",
    "            data, target = data.to(device), target.to(device)\n",
    "            \n",
    "            # Forward Pass\n",
    "            x = net.forward(data)\n",
    "            \n",
    "            loss = F.cross_entropy(x[:len(in_set[0])], target)\n",
    "            # cross-entropy from softmax distribution to uniform distribution\n",
    "            loss += 0.5 * -(x[len(in_set[0]):].mean(1) - torch.logsumexp(x[len(in_set[0]):], dim=1)).mean()\n",
    "            \n",
    "            optimizer.zero_grad()\n",
    "            loss.backward()\n",
    "            optimizer.step()\n",
    "            \n",
    "            avg_loss = .8 * avg_loss + float(loss) * 0.2\n",
    "       \n",
    "        print(f\"avg training loss: {avg_loss}\")\n",
    "        \n",
    "        \n",
    "        net.eval()\n",
    "\n",
    "        total_examples = 0\n",
    "        correct_examples = 0\n",
    "\n",
    "        val_loss = 0\n",
    "\n",
    "        with torch.no_grad():\n",
    "            for batch_idx, (inputs, targets) in enumerate(test_loader):\n",
    "                if batch_idx < .5*len(test_loader):\n",
    "                    # copy inputs to device\n",
    "                    inputs = inputs.to(device)\n",
    "                    targets = targets.type(torch.LongTensor)\n",
    "                    targets = targets.to(device)\n",
    "\n",
    "                    # compute the output and loss\n",
    "                    output = net.forward(inputs)\n",
    "                    loss = F.cross_entropy(output, targets)\n",
    "                    val_loss += loss\n",
    "\n",
    "                    # count the number of correctly predicted samples in the current batch\n",
    "                    total_examples += targets.size()[0]\n",
    "                    batch_preds = torch.argmax(output, dim=1)\n",
    "                    correct_examples += (batch_preds == targets).int().sum().item()\n",
    "                else:\n",
    "                    break\n",
    "\n",
    "        avg_loss = val_loss / (.5*len(test_loader))\n",
    "        avg_acc = correct_examples / total_examples\n",
    "        print(\"Validation loss: %.4f, Validation accuracy: %.4f\" % (avg_loss, avg_acc))\n",
    "        \n",
    "        #save the model checkpoint\n",
    "        if avg_acc > best_val_acc:\n",
    "            best_val_acc = avg_acc\n",
    "            if not os.path.exists(CHECKPOINT_FOLDER):\n",
    "               os.makedirs(CHECKPOINT_FOLDER)\n",
    "            print(\"Saving ...\")\n",
    "            state = {'state_dict': net.state_dict(),\n",
    "                    'epoch': i,\n",
    "                    'lr': current_learning_rate}\n",
    "            torch.save(state, os.path.join(CHECKPOINT_FOLDER, 'OE_resnet20.pth'))\n",
    "\n",
    "    \n",
    "train()"
   ]
  },
  {
   "cell_type": "code",
   "execution_count": 40,
   "id": "85ad35a5-5a92-4a6e-ab20-46b199f2bf9b",
   "metadata": {},
   "outputs": [],
   "source": [
    "net = Resnet20().to(device)\n",
    "net.load_state_dict(torch.load(\"saved_model/OE_finetune_resnet20.pth\")[\"state_dict\"])\n",
    "net.eval()\n",
    "\n",
    "val_loss = 0 \n",
    "max_softs_in = []\n",
    "with torch.no_grad():\n",
    "    for batch_idx, (inputs, targets) in enumerate(test_loader):   #batch_idx, (inputs, targets)\n",
    "        if batch_idx > .5*len(test_loader):\n",
    "            # copy inputs to device\n",
    "            inputs = inputs.to(device)\n",
    "            targets = targets.type(torch.LongTensor)\n",
    "            targets = targets.to(device)\n",
    "            # compute the output and loss\n",
    "            output = net.forward(inputs)\n",
    "            softmax = F.softmax(output, dim=1)\n",
    "            loss = F.cross_entropy(output, targets)\n",
    "            val_loss += loss\n",
    "            # count the number of correctly predicted samples in the current batch\n",
    "            total_examples += targets.size()[0]\n",
    "            batch_preds = torch.argmax(output, dim=1)\n",
    "            soft_batch_preds = torch.argmax(softmax, dim=1)\n",
    "            for i in range(len(softmax)):\n",
    "                max_softs_in.append(softmax[i][soft_batch_preds[i]].item())\n"
   ]
  },
  {
   "cell_type": "code",
   "execution_count": 41,
   "id": "9a03e52a-1630-40a8-b483-c655e1f3f3c5",
   "metadata": {},
   "outputs": [],
   "source": [
    "def plot_roc(false_softs, true_softs, title = \"ROC Curve\", show_95TPR = True, show_OPT = False):\n",
    "    TPRs = []     #  true positive rates\n",
    "    FPRs = []     # false positive rates\n",
    "    AUROC = []    # will contain the AUROC approximation segments\n",
    "    opt = {\"thresh\":-1, \"diff\":-1, \"FPR\":-1, \"TPR\":-1}\n",
    "    FPR_at_TPR95 = -1\n",
    "    closest_TPR_to95 = -1\n",
    "    prev_FPR = 0\n",
    "    ct95 = 1\n",
    "    for i in np.sort(np.concatenate((np.linspace(0, .8, 1000), np.linspace(.8,1,3000)))):\n",
    "        TPR = sum(false_softs < i)/len(false_softs)\n",
    "        FPR = sum(true_softs < i)/len(true_softs)\n",
    "        AUROC.append((FPR-prev_FPR)*TPR)\n",
    "        prev_FPR = FPR\n",
    "        dis_from_95 = .95-TPR\n",
    "        if dis_from_95 < ct95:\n",
    "            ct95 = dis_from_95\n",
    "            FPR_at_TPR95 = FPR\n",
    "            closest_TPR_to95 = TPR\n",
    "        # if round(TPR,2) == .95:\n",
    "        #     FPR_at_TPR95 = FPR\n",
    "        TPRs.append(TPR)\n",
    "        FPRs.append(FPR)\n",
    "        if TPR-FPR > opt[\"diff\"]:\n",
    "            opt[\"thresh\"], opt[\"diff\"], opt[\"FPR\"], opt[\"TPR\"]  = i, TPR-FPR, FPR, TPR\n",
    "    plt.plot(FPRs, TPRs, 'm')\n",
    "    plt.plot([0,1], [0,1], \"k--\", linewidth=.5)\n",
    "    plt.xlabel(\"False Positive Rate\")\n",
    "    plt.ylabel(\"True Positive Rate\")\n",
    "    plt.title(title)\n",
    "    if show_95TPR:\n",
    "        plt.plot(FPR_at_TPR95, closest_TPR_to95, 'X', ms=11, label=f\"FPR@95TPR: {round(FPR_at_TPR95,3)}\")\n",
    "    if show_OPT:\n",
    "        plt.plot(opt[\"FPR\"], opt[\"TPR\"], 'X', ms=11, label=f\"OPT Thresh: {round(opt['thresh'],3)}\")\n",
    "        print(opt)\n",
    "    plt.legend()\n",
    "    plt.show()\n",
    "    print(f\"AUROC: {sum(AUROC)}\")"
   ]
  },
  {
   "cell_type": "code",
   "execution_count": 42,
   "id": "ad194a5f-4172-4bbd-9436-772232d11943",
   "metadata": {},
   "outputs": [
    {
     "name": "stdout",
     "output_type": "stream",
     "text": [
      "Files already downloaded and verified\n",
      "Using downloaded and verified file: ./data\\test_32x32.mat\n"
     ]
    }
   ],
   "source": [
    "from torchvision.datasets import CIFAR100\n",
    "from torchvision.datasets import SVHN\n",
    "\n",
    "cifar100_set = CIFAR100(\n",
    "    root=DATA_ROOT,\n",
    "    train=False,\n",
    "    transform=transform_test,\n",
    "    download=True\n",
    ")\n",
    "SVHN_set = SVHN(\n",
    "    root=DATA_ROOT,\n",
    "    split=\"test\",\n",
    "    transform=transform_test,\n",
    "    download=True\n",
    ")\n",
    "\n",
    "cifar100_loader = DataLoader(\n",
    "    cifar100_set\n",
    ")\n",
    "SVHN_loader = DataLoader(\n",
    "    SVHN_set\n",
    ")\n",
    "\n"
   ]
  },
  {
   "cell_type": "code",
   "execution_count": 43,
   "id": "67607261-8231-401f-a837-55aec24b2cbf",
   "metadata": {},
   "outputs": [
    {
     "name": "stdout",
     "output_type": "stream",
     "text": [
      "0/10000\n",
      "1000/10000\n",
      "2000/10000\n",
      "3000/10000\n",
      "4000/10000\n",
      "5000/10000\n",
      "6000/10000\n",
      "7000/10000\n",
      "8000/10000\n",
      "9000/10000\n"
     ]
    }
   ],
   "source": [
    "OOD_cifar100_softs = []\n",
    "with torch.no_grad():\n",
    "    for i, (img, target) in enumerate(cifar100_loader):\n",
    "        img = img.to(device)\n",
    "        target = target.type(torch.LongTensor)\n",
    "        target = target.to(device)\n",
    "\n",
    "        output = net.forward(img)\n",
    "        softmax = F.softmax(output, dim=1)\n",
    "        OOD_cifar100_softs.append(softmax[0][torch.argmax(softmax)].item())\n",
    "        batch_pred = torch.argmax(output, dim=1)\n",
    "        if i%1000 == 0:\n",
    "            print(f\"{i}/{len(cifar100_loader)}\")"
   ]
  },
  {
   "cell_type": "code",
   "execution_count": 25,
   "id": "5b10234d-cc6c-493c-868d-c2dcaa8cf12c",
   "metadata": {},
   "outputs": [
    {
     "name": "stdout",
     "output_type": "stream",
     "text": [
      "0/26032\n",
      "1000/26032\n",
      "2000/26032\n",
      "3000/26032\n",
      "4000/26032\n",
      "5000/26032\n",
      "6000/26032\n",
      "7000/26032\n",
      "8000/26032\n",
      "9000/26032\n",
      "10000/26032\n",
      "11000/26032\n",
      "12000/26032\n",
      "13000/26032\n",
      "14000/26032\n",
      "15000/26032\n",
      "16000/26032\n",
      "17000/26032\n",
      "18000/26032\n",
      "19000/26032\n",
      "20000/26032\n",
      "21000/26032\n",
      "22000/26032\n",
      "23000/26032\n",
      "24000/26032\n",
      "25000/26032\n",
      "26000/26032\n"
     ]
    }
   ],
   "source": [
    "OOD_svhn_softs = []\n",
    "with torch.no_grad():\n",
    "    for i, (img, target) in enumerate(SVHN_loader):\n",
    "        img = img.to(device)\n",
    "        target = target.type(torch.LongTensor)\n",
    "        target = target.to(device)\n",
    "\n",
    "        output = net.forward(img)\n",
    "        softmax = F.softmax(output, dim=1)\n",
    "        OOD_svhn_softs.append(softmax[0][torch.argmax(softmax)].item())\n",
    "        batch_pred = torch.argmax(output, dim=1)\n",
    "        if i%1000 == 0:\n",
    "            print(f\"{i}/{len(SVHN_loader)}\")"
   ]
  },
  {
   "cell_type": "code",
   "execution_count": 44,
   "id": "750c9ce5-0aa5-4907-a5b4-79bd646eee7a",
   "metadata": {},
   "outputs": [
    {
     "data": {
      "image/png": "[encoded data removed]",
      "text/plain": [
       "<Figure size 432x288 with 1 Axes>"
      ]
     },
     "metadata": {
      "needs_background": "light"
     },
     "output_type": "display_data"
    },
    {
     "name": "stdout",
     "output_type": "stream",
     "text": [
      "AUROC: 0.8089219189189192\n"
     ]
    }
   ],
   "source": [
    "plot_roc(OOD_cifar100_softs, max_softs_in)"
   ]
  },
  {
   "cell_type": "code",
   "execution_count": 26,
   "id": "f1fdb8c9-18fb-4bed-ba0c-fadaa254202e",
   "metadata": {},
   "outputs": [
    {
     "data": {
      "image/png": "[encoded data removed]",
      "text/plain": [
       "<Figure size 432x288 with 1 Axes>"
      ]
     },
     "metadata": {
      "needs_background": "light"
     },
     "output_type": "display_data"
    },
    {
     "name": "stdout",
     "output_type": "stream",
     "text": [
      "AUROC: 0.8467976938985697\n"
     ]
    }
   ],
   "source": [
    "plot_roc(OOD_svhn_softs, max_softs_in)"
   ]
  },
  {
   "cell_type": "code",
   "execution_count": null,
   "id": "6b01cd1d-5e01-45aa-a71a-8f57c9edfce0",
   "metadata": {},
   "outputs": [],
   "source": []
  }
 ],
 "metadata": {
  "kernelspec": {
   "display_name": "Python 3 (ipykernel)",
   "language": "python",
   "name": "python3"
  },
  "language_info": {
   "codemirror_mode": {
    "name": "ipython",
    "version": 3
   },
   "file_extension": ".py",
   "mimetype": "text/x-python",
   "name": "python",
   "nbconvert_exporter": "python",
   "pygments_lexer": "ipython3",
   "version": "3.9.12"
  }
 },
 "nbformat": 4,
 "nbformat_minor": 5
}
